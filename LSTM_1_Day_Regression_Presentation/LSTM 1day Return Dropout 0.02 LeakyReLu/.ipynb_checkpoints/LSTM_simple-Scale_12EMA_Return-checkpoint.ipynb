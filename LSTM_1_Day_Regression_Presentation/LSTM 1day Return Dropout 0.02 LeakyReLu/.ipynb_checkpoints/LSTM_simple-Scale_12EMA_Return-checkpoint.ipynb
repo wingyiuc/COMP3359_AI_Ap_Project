{
 "cells": [
  {
   "cell_type": "code",
   "execution_count": 1,
   "metadata": {},
   "outputs": [
    {
     "name": "stderr",
     "output_type": "stream",
     "text": [
      "Using TensorFlow backend.\n"
     ]
    }
   ],
   "source": [
    "# Import libraries\n",
    "import os\n",
    "from keras.models import Sequential\n",
    "from keras.layers import Dense, LSTM, Dropout, SimpleRNN\n",
    "from keras import backend as K\n",
    "from keras import regularizers\n",
    "\n",
    "import numpy as np\n",
    "import matplotlib.pyplot as plt\n",
    "import pandas as pd\n",
    "\n",
    "# Set GPU device\n",
    "os.environ[\"CUDA_DEVICE_ORDER\"]=\"PCI_BUS_ID\"\n",
    "os.environ[\"CUDA_VISIBLE_DEVICES\"]=\"\"\n",
    "\n",
    "## fix random seed for reproducibility\n",
    "np.random.seed(7)\n",
    "\n",
    "# processed_data_dir = os.path.join(\"\", \"Cryptocurrency data/Processed data/\")\n",
    "# os.listdir(processed_data_dir)"
   ]
  },
  {
   "cell_type": "code",
   "execution_count": 2,
   "metadata": {},
   "outputs": [],
   "source": [
    "def create_dataset(dataset, look_back=1, target = 0):\n",
    "    \"\"\"\n",
    "    Function to convert series from dataset to supervised learning problem\n",
    "    \"\"\"\n",
    "    data_x, data_y = [], []\n",
    "\n",
    "    for i in range(len(dataset) - look_back):\n",
    "\n",
    "        # Create sequence of length equal to look_back\n",
    "        x = dataset[i:(i + look_back), :]\n",
    "        data_x.append(x)\n",
    "        \n",
    "        # Take just the return for the target\n",
    "        \n",
    "        data_y.append(dataset[i + look_back, target])\n",
    "\n",
    "    return np.array(data_x), np.array(data_y)"
   ]
  },
  {
   "cell_type": "code",
   "execution_count": 3,
   "metadata": {},
   "outputs": [
    {
     "data": {
      "text/html": [
       "<div>\n",
       "<style scoped>\n",
       "    .dataframe tbody tr th:only-of-type {\n",
       "        vertical-align: middle;\n",
       "    }\n",
       "\n",
       "    .dataframe tbody tr th {\n",
       "        vertical-align: top;\n",
       "    }\n",
       "\n",
       "    .dataframe thead th {\n",
       "        text-align: right;\n",
       "    }\n",
       "</style>\n",
       "<table border=\"1\" class=\"dataframe\">\n",
       "  <thead>\n",
       "    <tr style=\"text-align: right;\">\n",
       "      <th></th>\n",
       "      <th>close</th>\n",
       "      <th>high</th>\n",
       "      <th>low</th>\n",
       "      <th>open</th>\n",
       "      <th>volumefrom</th>\n",
       "      <th>volumeto</th>\n",
       "      <th>12EMA</th>\n",
       "      <th>50EMA</th>\n",
       "      <th>minusDI</th>\n",
       "      <th>plusDI</th>\n",
       "      <th>MACD</th>\n",
       "      <th>MACDsignal</th>\n",
       "      <th>RSI</th>\n",
       "      <th>StoOsci</th>\n",
       "      <th>StoOsci_signal</th>\n",
       "      <th>BB_hband</th>\n",
       "      <th>BB_lband</th>\n",
       "      <th>ATR</th>\n",
       "      <th>ADI</th>\n",
       "      <th>12EMAreturn</th>\n",
       "    </tr>\n",
       "    <tr>\n",
       "      <th>time</th>\n",
       "      <th></th>\n",
       "      <th></th>\n",
       "      <th></th>\n",
       "      <th></th>\n",
       "      <th></th>\n",
       "      <th></th>\n",
       "      <th></th>\n",
       "      <th></th>\n",
       "      <th></th>\n",
       "      <th></th>\n",
       "      <th></th>\n",
       "      <th></th>\n",
       "      <th></th>\n",
       "      <th></th>\n",
       "      <th></th>\n",
       "      <th></th>\n",
       "      <th></th>\n",
       "      <th></th>\n",
       "      <th></th>\n",
       "      <th></th>\n",
       "    </tr>\n",
       "  </thead>\n",
       "  <tbody>\n",
       "    <tr>\n",
       "      <th>2013-02-22</th>\n",
       "      <td>1.00</td>\n",
       "      <td>1.000000</td>\n",
       "      <td>1.000000</td>\n",
       "      <td>1.000000</td>\n",
       "      <td>1.000000</td>\n",
       "      <td>1.000000</td>\n",
       "      <td>1.0</td>\n",
       "      <td>1.0</td>\n",
       "      <td>0.000000</td>\n",
       "      <td>1.000000</td>\n",
       "      <td>1.000000</td>\n",
       "      <td>1.0</td>\n",
       "      <td>1.000000</td>\n",
       "      <td>0.000000</td>\n",
       "      <td>1.000000</td>\n",
       "      <td>1.0</td>\n",
       "      <td>1.0</td>\n",
       "      <td>0.190989</td>\n",
       "      <td>0.0</td>\n",
       "      <td>0.000000</td>\n",
       "    </tr>\n",
       "    <tr>\n",
       "      <th>2013-02-23</th>\n",
       "      <td>0.25</td>\n",
       "      <td>0.573427</td>\n",
       "      <td>0.000000</td>\n",
       "      <td>1.000000</td>\n",
       "      <td>1.000000</td>\n",
       "      <td>1.000000</td>\n",
       "      <td>1.0</td>\n",
       "      <td>1.0</td>\n",
       "      <td>1.000000</td>\n",
       "      <td>0.000000</td>\n",
       "      <td>0.761243</td>\n",
       "      <td>1.0</td>\n",
       "      <td>0.000000</td>\n",
       "      <td>0.000000</td>\n",
       "      <td>0.080470</td>\n",
       "      <td>1.0</td>\n",
       "      <td>1.0</td>\n",
       "      <td>1.000000</td>\n",
       "      <td>1.0</td>\n",
       "      <td>0.000000</td>\n",
       "    </tr>\n",
       "    <tr>\n",
       "      <th>2013-02-24</th>\n",
       "      <td>0.40</td>\n",
       "      <td>0.370629</td>\n",
       "      <td>0.718563</td>\n",
       "      <td>0.457831</td>\n",
       "      <td>0.000000</td>\n",
       "      <td>0.000000</td>\n",
       "      <td>1.0</td>\n",
       "      <td>1.0</td>\n",
       "      <td>0.784454</td>\n",
       "      <td>0.000000</td>\n",
       "      <td>0.346358</td>\n",
       "      <td>1.0</td>\n",
       "      <td>0.044650</td>\n",
       "      <td>0.586462</td>\n",
       "      <td>0.000000</td>\n",
       "      <td>1.0</td>\n",
       "      <td>1.0</td>\n",
       "      <td>0.735067</td>\n",
       "      <td>1.0</td>\n",
       "      <td>0.000000</td>\n",
       "    </tr>\n",
       "    <tr>\n",
       "      <th>2013-02-25</th>\n",
       "      <td>1.00</td>\n",
       "      <td>0.370629</td>\n",
       "      <td>0.928144</td>\n",
       "      <td>0.566265</td>\n",
       "      <td>0.052164</td>\n",
       "      <td>0.059797</td>\n",
       "      <td>1.0</td>\n",
       "      <td>1.0</td>\n",
       "      <td>0.635689</td>\n",
       "      <td>0.000000</td>\n",
       "      <td>0.094035</td>\n",
       "      <td>1.0</td>\n",
       "      <td>0.296876</td>\n",
       "      <td>0.594748</td>\n",
       "      <td>0.000000</td>\n",
       "      <td>1.0</td>\n",
       "      <td>1.0</td>\n",
       "      <td>0.234668</td>\n",
       "      <td>1.0</td>\n",
       "      <td>0.112417</td>\n",
       "    </tr>\n",
       "    <tr>\n",
       "      <th>2013-02-26</th>\n",
       "      <td>1.00</td>\n",
       "      <td>1.000000</td>\n",
       "      <td>1.000000</td>\n",
       "      <td>1.000000</td>\n",
       "      <td>0.387254</td>\n",
       "      <td>0.440402</td>\n",
       "      <td>1.0</td>\n",
       "      <td>1.0</td>\n",
       "      <td>0.372884</td>\n",
       "      <td>0.595563</td>\n",
       "      <td>0.105779</td>\n",
       "      <td>1.0</td>\n",
       "      <td>0.615785</td>\n",
       "      <td>0.534859</td>\n",
       "      <td>0.326895</td>\n",
       "      <td>1.0</td>\n",
       "      <td>1.0</td>\n",
       "      <td>0.300596</td>\n",
       "      <td>1.0</td>\n",
       "      <td>0.330522</td>\n",
       "    </tr>\n",
       "  </tbody>\n",
       "</table>\n",
       "</div>"
      ],
      "text/plain": [
       "            close      high       low      open  volumefrom  volumeto  12EMA  \\\n",
       "time                                                                           \n",
       "2013-02-22   1.00  1.000000  1.000000  1.000000    1.000000  1.000000    1.0   \n",
       "2013-02-23   0.25  0.573427  0.000000  1.000000    1.000000  1.000000    1.0   \n",
       "2013-02-24   0.40  0.370629  0.718563  0.457831    0.000000  0.000000    1.0   \n",
       "2013-02-25   1.00  0.370629  0.928144  0.566265    0.052164  0.059797    1.0   \n",
       "2013-02-26   1.00  1.000000  1.000000  1.000000    0.387254  0.440402    1.0   \n",
       "\n",
       "            50EMA   minusDI    plusDI      MACD  MACDsignal       RSI  \\\n",
       "time                                                                    \n",
       "2013-02-22    1.0  0.000000  1.000000  1.000000         1.0  1.000000   \n",
       "2013-02-23    1.0  1.000000  0.000000  0.761243         1.0  0.000000   \n",
       "2013-02-24    1.0  0.784454  0.000000  0.346358         1.0  0.044650   \n",
       "2013-02-25    1.0  0.635689  0.000000  0.094035         1.0  0.296876   \n",
       "2013-02-26    1.0  0.372884  0.595563  0.105779         1.0  0.615785   \n",
       "\n",
       "             StoOsci  StoOsci_signal  BB_hband  BB_lband       ATR  ADI  \\\n",
       "time                                                                      \n",
       "2013-02-22  0.000000        1.000000       1.0       1.0  0.190989  0.0   \n",
       "2013-02-23  0.000000        0.080470       1.0       1.0  1.000000  1.0   \n",
       "2013-02-24  0.586462        0.000000       1.0       1.0  0.735067  1.0   \n",
       "2013-02-25  0.594748        0.000000       1.0       1.0  0.234668  1.0   \n",
       "2013-02-26  0.534859        0.326895       1.0       1.0  0.300596  1.0   \n",
       "\n",
       "            12EMAreturn  \n",
       "time                     \n",
       "2013-02-22     0.000000  \n",
       "2013-02-23     0.000000  \n",
       "2013-02-24     0.000000  \n",
       "2013-02-25     0.112417  \n",
       "2013-02-26     0.330522  "
      ]
     },
     "execution_count": 3,
     "metadata": {},
     "output_type": "execute_result"
    }
   ],
   "source": [
    "data = pd.read_csv(\"BTC_processed.csv\")\n",
    "\n",
    "\n",
    "# data['signal'] = (data['buy_signal'] - data['sell_signal'] + data['hold_signal'])\n",
    "# data = data.drop(['MFI'], axis = 1)\n",
    "# data = data.drop(['hold_signal', 'buy_signal', 'sell_signal'], axis = 1)\n",
    "data = data.drop(['hold_signal', 'buy_signal', 'sell_signal', 'MFI'], axis = 1)\n",
    "\n",
    "data['time'] = pd.to_datetime(data['time'])\n",
    "data = data.set_index('time', drop = True)\n",
    "data = data[~data.index.duplicated(keep='first')]\n",
    "\n",
    "targetName = '12EMAreturn'\n",
    "data[targetName] = data['12EMA'].pct_change()\n",
    "data[targetName].head()\n",
    "\n",
    "\n",
    "\n",
    "data_cummin = data.cummin()\n",
    "data_cummax = data.cummax()\n",
    "# scale\n",
    "offset = 2\n",
    "data = ((data - data_cummin) /(data_cummax - data_cummin))[offset:]\n",
    "data.head()"
   ]
  },
  {
   "cell_type": "code",
   "execution_count": 4,
   "metadata": {},
   "outputs": [
    {
     "name": "stdout",
     "output_type": "stream",
     "text": [
      "6\n"
     ]
    }
   ],
   "source": [
    "features = data[['close','high','low','open','volumefrom','volumeto',targetName]]\n",
    "features_np = features.to_numpy()\n",
    "\n",
    "# Convert series to supervised learning problem\n",
    "look_back = 60\n",
    "target = features.shape[1]-1 # close\n",
    "print(target)"
   ]
  },
  {
   "cell_type": "code",
   "execution_count": 5,
   "metadata": {},
   "outputs": [],
   "source": [
    "X, y = create_dataset(features_np, look_back, target)\n",
    "\n",
    "# Declare variables\n",
    "n_features = X.shape[2]\n",
    "n_assets = 1 # only BTC\n",
    "\n",
    "# Split dataset\n",
    "training_days = 1500\n",
    "X_train, X_test = X[:training_days], X[training_days:]\n",
    "y_train, y_test = y[:training_days], y[training_days:]\n",
    "\n",
    "# Prepare the 3D input vector for the LSTM\n",
    "X_train = np.reshape(X_train, (-1, look_back, n_features))\n",
    "X_test = np.reshape(X_test, (-1, look_back, n_features))\n",
    "\n",
    "batch_size = 1\n",
    "\n",
    "# Create the model\n",
    "model = Sequential()\n",
    "model.add(LSTM(n_features,\n",
    "               input_shape=(look_back, n_features),\n",
    "               batch_size=batch_size,\n",
    "               stateful=True,\n",
    "               activity_regularizer=regularizers.l1_l2(),\n",
    "               recurrent_regularizer=regularizers.l1_l2()))\n",
    "model.add(Dropout(0.2))\n",
    "model.add(Dense(n_assets, activation='relu'))  \n",
    "\n",
    "# Compile the LSTM model\n",
    "model.compile(loss='mse', optimizer='rmsprop')"
   ]
  },
  {
   "cell_type": "code",
   "execution_count": 7,
   "metadata": {},
   "outputs": [],
   "source": [
    "## Training and evaluating the model (On-line learning)\n",
    "\n",
    "# Create empty arrays\n",
    "y_pred = np.empty((0, n_assets))\n",
    "y_true = np.empty((0, n_assets))\n",
    "\n",
    "for j in range(training_days - look_back + 1, X.shape[0]):\n",
    "\n",
    "    if j == (training_days - look_back + 1):\n",
    "\n",
    "        # First training days for training\n",
    "        X_train = X[:j]\n",
    "        y_train = y[:j]\n",
    "\n",
    "        # Next day for forecasting\n",
    "        X_test = X[j].reshape(1, look_back, n_features)\n",
    "\n",
    "        # Ensure the correct shape for LSTM\n",
    "        X_test = np.tile(X_test, (batch_size, 1, 1))\n",
    "        y_test = np.tile(y[j], (batch_size, 1))\n",
    "\n",
    "        # Training epochs\n",
    "        epochs = 300\n",
    "    \n",
    "    else:\n",
    "\n",
    "        # Available data to refine network state\n",
    "        X_train = X_test\n",
    "        y_train = y_test\n",
    "\n",
    "        # Ensure the correct shape for LSTM\n",
    "        X_test = X[j].reshape(1, look_back, n_features)\n",
    "        X_test = np.tile(X_test, (batch_size, 1, 1))\n",
    "        y_test = np.tile(y[j], (batch_size, 1))\n",
    "\n",
    "        # Epochs for updating\n",
    "        epochs = 20\n",
    "        \n",
    "    # Fit the model\n",
    "    for i in range(epochs):\n",
    "        model.fit(X_train,\n",
    "                  y_train,\n",
    "                  epochs=1,\n",
    "                  batch_size=batch_size,\n",
    "                  verbose=0,\n",
    "                  shuffle=False)\n",
    "        model.reset_states()\n",
    "    \n",
    "    # Evaluate the model\n",
    "    # Make predictions\n",
    "    predicted_output = model.predict(X_test, batch_size=batch_size)\n",
    "\n",
    "    predicted_output = predicted_output[0].reshape(1, n_assets)\n",
    "    true_output = y_test[0].reshape(1, n_assets)\n",
    "\n",
    "    # Save current prediction into an array\n",
    "    y_pred = np.append(y_pred, predicted_output, axis=0)\n",
    "    y_true = np.append(y_true, true_output, axis=0)"
   ]
  },
  {
   "cell_type": "code",
   "execution_count": 8,
   "metadata": {},
   "outputs": [
    {
     "name": "stdout",
     "output_type": "stream",
     "text": [
      "0.0006441659213547777\n"
     ]
    }
   ],
   "source": [
    "mse = np.mean((y_true - y_pred) ** 2)\n",
    "print(mse)"
   ]
  },
  {
   "cell_type": "code",
   "execution_count": 9,
   "metadata": {},
   "outputs": [
    {
     "data": {
      "text/plain": [
       "<matplotlib.axes._subplots.AxesSubplot at 0x7fa1802d2fd0>"
      ]
     },
     "execution_count": 9,
     "metadata": {},
     "output_type": "execute_result"
    },
    {
     "data": {
      "image/png": "[encoded data removed]",
      "text/plain": [
       "<Figure size 432x288 with 1 Axes>"
      ]
     },
     "metadata": {
      "needs_background": "light"
     },
     "output_type": "display_data"
    }
   ],
   "source": [
    "pd.DataFrame({\"y_ture:\": y_true.flatten(), \"y_pred\":y_pred.flatten()}).plot()"
   ]
  },
  {
   "cell_type": "code",
   "execution_count": 10,
   "metadata": {},
   "outputs": [],
   "source": [
    "pred_mul_factor = (data_cummax[training_days + offset + 1:] - data_cummin[training_days + offset + 1:] )[targetName].to_numpy()\n",
    "pred_shift_factor = data_cummin[training_days + offset + 1:][targetName].to_numpy()"
   ]
  },
  {
   "cell_type": "code",
   "execution_count": 11,
   "metadata": {},
   "outputs": [
    {
     "data": {
      "text/plain": [
       "<matplotlib.axes._subplots.AxesSubplot at 0x7fa17023e710>"
      ]
     },
     "execution_count": 11,
     "metadata": {},
     "output_type": "execute_result"
    },
    {
     "data": {
      "image/png": "[encoded data removed]",
      "text/plain": [
       "<Figure size 432x288 with 1 Axes>"
      ]
     },
     "metadata": {
      "needs_background": "light"
     },
     "output_type": "display_data"
    }
   ],
   "source": [
    "raw_y_true = np.add(np.multiply(y_true.flatten(), pred_mul_factor), pred_shift_factor)\n",
    "raw_y_pred = np.add(np.multiply(y_pred.flatten(), pred_mul_factor), pred_shift_factor)\n",
    "pd.DataFrame({\"y_ture:\": raw_y_true, \"y_pred\":raw_y_pred})[650:700].plot()"
   ]
  }
 ],
 "metadata": {
  "kernelspec": {
   "display_name": "Python 3",
   "language": "python",
   "name": "python3"
  },
  "language_info": {
   "codemirror_mode": {
    "name": "ipython",
    "version": 3
   },
   "file_extension": ".py",
   "mimetype": "text/x-python",
   "name": "python",
   "nbconvert_exporter": "python",
   "pygments_lexer": "ipython3",
   "version": "3.7.5"
  }
 },
 "nbformat": 4,
 "nbformat_minor": 4
}
