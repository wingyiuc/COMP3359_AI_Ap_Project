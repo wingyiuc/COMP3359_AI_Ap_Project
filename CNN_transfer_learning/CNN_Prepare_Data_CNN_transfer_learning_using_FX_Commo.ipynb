{
 "cells": [
  {
   "cell_type": "code",
   "execution_count": 1,
   "metadata": {},
   "outputs": [
    {
     "data": {
      "text/html": [
       "<style>.container { width:100% ; }</style>"
      ],
      "text/plain": [
       "<IPython.core.display.HTML object>"
      ]
     },
     "metadata": {},
     "output_type": "display_data"
    },
    {
     "name": "stdout",
     "output_type": "stream",
     "text": [
      "GPU(s) found: \n",
      "[PhysicalDevice(name='/physical_device:GPU:0', device_type='GPU')]\n"
     ]
    }
   ],
   "source": [
    "import pandas as pd\n",
    "import numpy as np\n",
    "from scipy import stats\n",
    "import tensorflow as tf\n",
    "from sklearn.model_selection import train_test_split\n",
    "import h5py\n",
    "\n",
    "from IPython.display import display, Image, HTML\n",
    "display(HTML(\"<style>.container { width:100% ; }</style>\"))\n",
    "%matplotlib inline\n",
    "\n",
    "\n",
    "# Check if any GPU is detected\n",
    "print(\"GPU(s) found: \")\n",
    "print(tf.config.list_physical_devices('GPU'))"
   ]
  },
  {
   "cell_type": "code",
   "execution_count": 2,
   "metadata": {},
   "outputs": [],
   "source": [
    "def windows(data, size):\n",
    "    start = 0\n",
    "    while start < data.count():\n",
    "        yield int(start), int(start + size)\n",
    "        start += (size / 2)\n",
    "\n",
    "\n",
    "def segment_signal(data,window_size = 12, num_features = 6):\n",
    "    segments = np.empty((0,window_size, num_features))\n",
    "    labels = np.empty((0))\n",
    "    for (start, end) in windows(data['Date'], window_size):\n",
    "        x = data[\"mav5\"][start:end]\n",
    "        y = data[\"mav10\"][start:end]\n",
    "        z = data[\"mav20\"][start:end]\n",
    "        a = data[\"mav30\"][start:end]\n",
    "        b = data[\"mav50\"][start:end]\n",
    "        c = data[\"mav100\"][start:end]\n",
    "\n",
    "        if(len(data['Date'][start:end]) == window_size):\n",
    "            segments = np.vstack([segments, np.dstack([x,y,z,a,b,c])])\n",
    "            labels = np.append(labels, stats.mode(data[\"Action\"][start:end])[0][0])\n",
    "    \n",
    "    return segments, labels\n",
    "\n",
    "\n",
    "def get_batches(X, y, batch_size = 100):\n",
    "    \"\"\" Return a generator for batches \"\"\"\n",
    "    n_batches = len(X) // batch_size\n",
    "    X, y = X[ : n_batches * batch_size], y[ : n_batches * batch_size]\n",
    "    # Loop over batches and yield\n",
    "    for b in range(0, len(X), batch_size):\n",
    "        yield X[b : b + batch_size], y[b : b + batch_size]\n",
    "\n",
    "\n",
    "\n",
    "def create_tensorflow_train_data(csvfilename):\n",
    "    df = pd.read_csv('Data/sampledata/'+ csvfilename)\n",
    "    df = df[['Date','symbolid','buyret','sellret','Action','mav5', 'mav10','mav20','mav30','mav50','mav100']]\n",
    "    symbols = df.symbolid.unique()\n",
    "    segments, labels = segment_signal(df[df.symbolid == symbols[0]])\n",
    "    df = df[df.symbolid != symbols[0]]\n",
    "    symbols = symbols[1:]\n",
    "    for i in range(0,len(symbols)):\n",
    "        x, a = segment_signal(df[df.symbolid == symbols[i]])\n",
    "        segments = np.concatenate((segments, x), axis = 0)\n",
    "        labels = np.concatenate((labels, a), axis = 0)\n",
    "        df = df[df.symbolid != symbols[i]]\n",
    "        print(str(round(i/len(symbols)*100,2)) + ' percent done')\n",
    "    \n",
    "    list_ch_train = pd.get_dummies(labels)\n",
    "    list_ch_train = np.asarray(list_ch_train.columns)\n",
    "    labels = np.asarray(pd.get_dummies(labels), dtype = np.int8)\n",
    "    X_tr, X_vld, lab_tr, lab_vld = train_test_split(segments, labels, stratify = labels, random_state = 123)\n",
    "    \n",
    "    return X_tr, X_vld, lab_tr, lab_vld, list_ch_train\n",
    "\n",
    "\n",
    "def create_tensorflow_test_data(csvfilename):\n",
    "    df = pd.read_csv('Data/sampledata/'+ csvfilename)\n",
    "    df = df[['time','symbolid','buyret','sellret','Action','mav5', 'mav10','mav20','mav30','mav50','mav100']]\n",
    "    list_ch_test = df.Action.unique()\n",
    "    symbols = df.symbolid.unique()\n",
    "    segments, labels = segment_signal(df[df.symbolid == symbols[0]])\n",
    "    df = df[df.symbolid != symbols[0]]\n",
    "    symbols = symbols[1:]\n",
    "    for i in range(0,len(symbols)):\n",
    "        x, a = segment_signal(df[df.symbolid == symbols[i]])\n",
    "        segments = np.concatenate((segments, x), axis = 0)\n",
    "        labels = np.concatenate((labels, a), axis = 0)\n",
    "        df = df[df.symbolid != symbols[i]]\n",
    "        print(str(round(i/len(symbols)*100,2)) + ' percent done')\n",
    "\n",
    "    list_ch_test = pd.get_dummies(labels)\n",
    "    list_ch_test = np.asarray(list_ch_test.columns)\n",
    "    labels = np.asarray(pd.get_dummies(labels), dtype = np.int8)\n",
    "    X_test = segments\n",
    "    y_test = labels\n",
    "    \n",
    "    return X_test, y_test, list_ch_test"
   ]
  },
  {
   "cell_type": "code",
   "execution_count": 3,
   "metadata": {},
   "outputs": [
    {
     "name": "stdout",
     "output_type": "stream",
     "text": [
      "0.0 percent done\n",
      "25.0 percent done\n",
      "50.0 percent done\n",
      "75.0 percent done\n"
     ]
    }
   ],
   "source": [
    "csvfilename = 'train_nonCryptos.csv'\n",
    "X_tr, X_vld, lab_tr, lab_vld, list_ch_train = create_tensorflow_train_data(csvfilename)\n",
    "\n",
    "targetFile = 'hdf_nonCryptos.h5'\n",
    "hf = h5py.File('h5files/'+targetFile, 'w')\n",
    "hf.create_dataset('X_tr', data = X_tr)\n",
    "hf.create_dataset('X_vld', data = X_vld)\n",
    "hf.create_dataset('lab_tr', data = lab_tr)\n",
    "hf.create_dataset('lab_vld', data = lab_vld)\n",
    "# hf.create_dataset('list_ch_train', data = list_ch_train)\n",
    "\n",
    "# hf.create_dataset('X_test', data = X_test)\n",
    "# hf.create_dataset('y_test', data = y_test)\n",
    "# hf.create_dataset('list_ch_test', data = list_ch_test)\n",
    "hf.close()"
   ]
  },
  {
   "cell_type": "code",
   "execution_count": null,
   "metadata": {},
   "outputs": [],
   "source": []
  }
 ],
 "metadata": {
  "kernelspec": {
   "display_name": "Python 3",
   "language": "python",
   "name": "python3"
  },
  "language_info": {
   "codemirror_mode": {
    "name": "ipython",
    "version": 3
   },
   "file_extension": ".py",
   "mimetype": "text/x-python",
   "name": "python",
   "nbconvert_exporter": "python",
   "pygments_lexer": "ipython3",
   "version": "3.7.5"
  }
 },
 "nbformat": 4,
 "nbformat_minor": 4
}
