{
  "nbformat": 4,
  "nbformat_minor": 0,
  "metadata": {
    "colab": {
      "name": "Walk-forward Models (Final).ipynb",
      "provenance": [],
      "collapsed_sections": [
        "FqW1ikCYe0sC",
        "_Fotg96PaWQu",
        "6efWgIo9laWW",
        "3r4RjlONBTRh",
        "_SNU3a1mIhyg",
        "VUwhSzapMjI9",
        "Mrxd-JCrXQaq"
      ],
      "include_colab_link": true
    },
    "kernelspec": {
      "name": "python3",
      "display_name": "Python 3"
    },
    "accelerator": "GPU"
  },
  "cells": [
    {
      "cell_type": "markdown",
      "metadata": {
        "id": "view-in-github",
        "colab_type": "text"
      },
      "source": [
        "<a href=\"https://colab.research.google.com/github/wingyiuc/COMP3359_AI_Ap_Project/blob/master/Walk_forward_Models_(Final).ipynb\" target=\"_parent\"><img src=\"https://colab.research.google.com/assets/colab-badge.svg\" alt=\"Open In Colab\"/></a>"
      ]
    },
    {
      "cell_type": "markdown",
      "metadata": {
        "id": "cnHSwVVKaNHm",
        "colab_type": "text"
      },
      "source": [
        "## 0. Getting started"
      ]
    },
    {
      "cell_type": "code",
      "metadata": {
        "id": "8DoteG60eeeO",
        "colab_type": "code",
        "outputId": "7c2a8de4-5596-4be6-dde2-ce310b01a590",
        "colab": {
          "base_uri": "https://localhost:8080/",
          "height": 54
        }
      },
      "source": [
        "\"\"\" Prepare Notebook for Google Colab \"\"\"\n",
        "# Mount Google Drive\n",
        "from google.colab import drive\n",
        "drive.mount('/content/drive')\n",
        "\n",
        "# Specify directory of course materials in Google Drive\n",
        "module_dir = '/content/drive/My Drive/COMP3359 AI Applications Group Project'\n",
        "\n",
        "# Add course material directory in Google Drive to system path, for importing .py files later\n",
        "# (Ref.: https://stackoverflow.com/questions/48905127/importing-py-files-in-google-colab)\n",
        "import sys\n",
        "sys.path.append(module_dir)"
      ],
      "execution_count": 35,
      "outputs": [
        {
          "output_type": "stream",
          "text": [
            "Drive already mounted at /content/drive; to attempt to forcibly remount, call drive.mount(\"/content/drive\", force_remount=True).\n"
          ],
          "name": "stdout"
        }
      ]
    },
    {
      "cell_type": "code",
      "metadata": {
        "id": "M5Ci-ThHelBN",
        "colab_type": "code",
        "outputId": "95803e14-2d66-475f-a192-a9d7b6d192b1",
        "colab": {
          "base_uri": "https://localhost:8080/",
          "height": 178
        }
      },
      "source": [
        "# !pip install fastparquet\n",
        "!pip install ta\n",
        "!pip install PyWavelets"
      ],
      "execution_count": 36,
      "outputs": [
        {
          "output_type": "stream",
          "text": [
            "Requirement already satisfied: ta in /usr/local/lib/python3.6/dist-packages (0.5.22)\n",
            "Requirement already satisfied: numpy in /usr/local/lib/python3.6/dist-packages (from ta) (1.18.3)\n",
            "Requirement already satisfied: pandas in /usr/local/lib/python3.6/dist-packages (from ta) (1.0.3)\n",
            "Requirement already satisfied: pytz>=2017.2 in /usr/local/lib/python3.6/dist-packages (from pandas->ta) (2018.9)\n",
            "Requirement already satisfied: python-dateutil>=2.6.1 in /usr/local/lib/python3.6/dist-packages (from pandas->ta) (2.8.1)\n",
            "Requirement already satisfied: six>=1.5 in /usr/local/lib/python3.6/dist-packages (from python-dateutil>=2.6.1->pandas->ta) (1.12.0)\n",
            "Requirement already satisfied: PyWavelets in /usr/local/lib/python3.6/dist-packages (1.1.1)\n",
            "Requirement already satisfied: numpy>=1.13.3 in /usr/local/lib/python3.6/dist-packages (from PyWavelets) (1.18.3)\n"
          ],
          "name": "stdout"
        }
      ]
    },
    {
      "cell_type": "code",
      "metadata": {
        "id": "dxv_UjqjeqfU",
        "colab_type": "code",
        "colab": {}
      },
      "source": [
        "import os\n",
        "import pandas as pd\n",
        "import numpy as np\n",
        "import datetime as dt\n",
        "import glob\n",
        "import requests\n",
        "import matplotlib\n",
        "import math\n",
        "import ta\n",
        "import pywt\n",
        "import tensorflow as tf\n",
        "from keras.models import Sequential\n",
        "from keras.layers import Dense, Dropout, Activation, Softmax\n",
        "from keras.layers import Embedding, Conv1D, MaxPooling1D, Flatten\n",
        "from __future__ import print_function\n",
        "from keras.models import Model\n",
        "from keras.layers import Dense, Input\n",
        "from keras.datasets import mnist\n",
        "from keras.regularizers import l1\n",
        "from keras.optimizers import Adam\n",
        "import matplotlib.pyplot as plt\n",
        "from sklearn.metrics import confusion_matrix\n",
        "import seaborn as sns\n",
        "import matplotlib as mpl\n",
        "from matplotlib import pyplot as plt\n",
        "%matplotlib inline\n",
        "from random import choices\n",
        "from sklearn.utils import shuffle"
      ],
      "execution_count": 0,
      "outputs": []
    },
    {
      "cell_type": "code",
      "metadata": {
        "id": "qVJEPauJesd4",
        "colab_type": "code",
        "outputId": "218d57ce-fa07-47c8-a20e-c02f07d3b6a3",
        "colab": {
          "base_uri": "https://localhost:8080/",
          "height": 550
        }
      },
      "source": [
        "# data_dir = os.path.join(module_dir, \"Downloaded data/Daily data//\")\n",
        "# data_dir = os.path.join(module_dir, \"Cryptocurrency_price_history/\")\n",
        "\n",
        "processed_data_dir = os.path.join(module_dir, \"Cryptocurrency data/Processed data/\")\n",
        "# processed_data_dir = os.path.join(module_dir, \"Downloaded data/Daily data/Processed data/\")\n",
        "os.listdir(processed_data_dir)"
      ],
      "execution_count": 38,
      "outputs": [
        {
          "output_type": "execute_result",
          "data": {
            "text/plain": [
              "['BTC_processed_conservative.csv',\n",
              " 'DASH_processed_conservative.csv',\n",
              " 'ETH_processed_conservative.csv',\n",
              " 'DOGE_processed_conservative.csv',\n",
              " 'LTC_processed_conservative.csv',\n",
              " 'USDT_processed_conservative.csv',\n",
              " 'NVC_processed_conservative.csv',\n",
              " 'NMC_processed_conservative.csv',\n",
              " 'FTC_processed_conservative.csv',\n",
              " 'TRC_processed_conservative.csv',\n",
              " 'PPC_processed_conservative.csv',\n",
              " 'IXC_processed_conservative.csv',\n",
              " 'FRC_processed_conservative.csv',\n",
              " 'BTB_processed_conservative.csv',\n",
              " 'WDC_processed_conservative.csv',\n",
              " 'BTC_processed.csv',\n",
              " 'ETH_processed.csv',\n",
              " 'DOGE_processed.csv',\n",
              " 'USDT_processed.csv',\n",
              " 'DASH_processed.csv',\n",
              " 'NMC_processed.csv',\n",
              " 'PPC_processed.csv',\n",
              " 'LTC_processed.csv',\n",
              " 'IXC_processed.csv',\n",
              " 'NVC_processed.csv',\n",
              " 'TRC_processed.csv',\n",
              " 'WDC_processed.csv',\n",
              " 'BTB_processed.csv',\n",
              " 'FRC_processed.csv',\n",
              " 'FTC_processed.csv']"
            ]
          },
          "metadata": {
            "tags": []
          },
          "execution_count": 38
        }
      ]
    },
    {
      "cell_type": "markdown",
      "metadata": {
        "id": "fR4pAlb6e9df",
        "colab_type": "text"
      },
      "source": [
        "# Global variables & functions"
      ]
    },
    {
      "cell_type": "code",
      "metadata": {
        "id": "t2R7qUMaeuT3",
        "colab_type": "code",
        "colab": {}
      },
      "source": [
        "tickers = ['BTC', 'ETH', 'DOGE', 'DASH', \"LTC\", \"NMC\", \"PPC\", \"NVC\", \"FTC\", \"WDC\", \"BTB\"]\n",
        "BATCH_SIZE = 256\n",
        "BUFFER_SIZE = 10000\n",
        "# TRAIN_SPLIT = int(df.shape[0]*0.75)\n",
        "PAST_HISTORY = 15"
      ],
      "execution_count": 0,
      "outputs": []
    },
    {
      "cell_type": "code",
      "metadata": {
        "id": "_jH02Fj7e6WI",
        "colab_type": "code",
        "colab": {}
      },
      "source": [
        "# features_considered  = ['close', 'high', 'low', 'open', 'volumefrom', 'volumeto',\n",
        "#        '12EMA', '50EMA', '100EMA', 'minusDI',\n",
        "#        'plusDI', 'MACD', 'MACDsignal', 'RSI', 'StoOsci', 'StoOsci_signal',\n",
        "#        'BB_hband', 'BB_lband', 'ATR', 'ADI', 'MFI']\n",
        "# features_considered  = ['close', 'high', 'low', 'open','MACD','MACDsignal']\n",
        "features_considered  = ['close', 'high', 'low', 'open', 'volumeto',\n",
        "      '12_100EMA','50_100EMA', '100EMA', 'minusDI',\n",
        "      'plusDI', 'MACD', 'RSI', 'StoOsci', 'StoOsci_signal',\n",
        "      'BB_hband', 'BB_lband', 'ATR', 'ADI', 'MFI']\n",
        "y_labels = ['buy_signal', 'sell_signal', 'hold_signal']\n",
        "signals = ['buy', 'sell', 'hold']"
      ],
      "execution_count": 0,
      "outputs": []
    },
    {
      "cell_type": "code",
      "metadata": {
        "id": "63ULBHGhfyBr",
        "colab_type": "code",
        "colab": {}
      },
      "source": [
        "def preprocess_dataframe(df,features_considered):\n",
        "  df = df.dropna()\n",
        "  features = df[features_considered]\n",
        "  df['time'] = pd.to_datetime(df['time'])\n",
        "  features.index = df['time']\n",
        "\n",
        "\n",
        "  outcome = df[y_labels]\n",
        "  df['time'] = pd.to_datetime(df['time'])\n",
        "  outcome.index = df['time']\n",
        "\n",
        "  return features, outcome"
      ],
      "execution_count": 0,
      "outputs": []
    },
    {
      "cell_type": "code",
      "metadata": {
        "id": "M9G5g0bmfYOK",
        "colab_type": "code",
        "colab": {}
      },
      "source": [
        "def preprocess_features(features):\n",
        "  \n",
        "  x_dataset = features.values\n",
        "  train_split = int(features.shape[0]*0.75)\n",
        "\n",
        "  # standardize the dataset using the mean and standard deviation of the training data.\n",
        "  data_mean = x_dataset[:train_split].mean(axis=0)\n",
        "  data_std = x_dataset[:train_split].std(axis=0)\n",
        "  x_dataset = (x_dataset-data_mean)/data_std\n",
        "\n",
        "  # standardize the x_dataset using minmax scaler\n",
        "  # data_max = x_dataset[:train_split].max(axis=0)\n",
        "  # data_min = x_dataset[:train_split].min(axis=0)\n",
        "  # x_dataset = (x_dataset-data_min)/(data_max - data_min)\n",
        "\n",
        "  # Wavelet transform\n",
        "  # coeffs, freqs = pywt.cwt(x_dataset,scales=np.arange(1,2),wavelet='morl')\n",
        "  # x_dataset = coeffs.reshape(-1, coeffs.shape[-1])\n",
        "\n",
        "  return x_dataset\n",
        "\n",
        "def preprocess_outcome(outcome):\n",
        "  return outcome.values"
      ],
      "execution_count": 0,
      "outputs": []
    },
    {
      "cell_type": "code",
      "metadata": {
        "id": "fNkzzPZAgtOd",
        "colab_type": "code",
        "colab": {}
      },
      "source": [
        "def multivariate_data(dataset, target, start_index, end_index, history_size):\n",
        "  start_index = start_index + history_size\n",
        "  labels = target[start_index: end_index]\n",
        "  data = []\n",
        "  \n",
        "  \n",
        "  if end_index is None:\n",
        "    end_index = len(dataset) \n",
        "\n",
        "  for i in range(start_index, end_index):\n",
        "    indices = range(i-history_size, i)\n",
        "    data.append(dataset[indices])\n",
        "\n",
        "  return np.array(data), labels"
      ],
      "execution_count": 0,
      "outputs": []
    },
    {
      "cell_type": "code",
      "metadata": {
        "id": "8qbyNiZCg1Jy",
        "colab_type": "code",
        "colab": {}
      },
      "source": [
        "def decode(datum):\n",
        "    return np.argmax(datum)\n",
        "def transform_y(y_val):\n",
        "  y_true = []\n",
        "  for i in range(y_val.shape[0]):\n",
        "      y_true.append(decode(y_val[i]))\n",
        "  y_true = np.array(y_true).astype(int)\n",
        "  y_true = y_true.tolist()\n",
        "  return y_true"
      ],
      "execution_count": 0,
      "outputs": []
    },
    {
      "cell_type": "code",
      "metadata": {
        "id": "BXYZgidY5zNX",
        "colab_type": "code",
        "colab": {}
      },
      "source": [
        "from keras.utils import np_utils\n",
        "import keras.backend as K\n",
        "from itertools import product\n",
        "import functools\n",
        "\n",
        "def w_categorical_crossentropy(y_true, y_pred, weights):\n",
        "    nb_cl = len(weights)\n",
        "    final_mask = K.zeros_like(y_pred[:, 0])\n",
        "    y_pred_max = K.max(y_pred, axis=1)\n",
        "    y_pred_max = K.expand_dims(y_pred_max, 1)\n",
        "    y_pred_max_mat = K.equal(y_pred, y_pred_max)\n",
        "    for c_p, c_t in product(range(nb_cl), range(nb_cl)):\n",
        "\n",
        "        final_mask += (K.cast(weights[c_t, c_p],K.floatx()) * K.cast(y_pred_max_mat[:, c_p] ,K.floatx())* K.cast(y_true[:, c_t],K.floatx()))\n",
        "    return K.categorical_crossentropy(y_pred, y_true) * final_mask\n",
        "w_array = np.ones((3,3))\n",
        "w_array[0,1] = 1.2   # buy becomes sell\n",
        "w_array[1,0] = 1.2   # sell becomes buy\n",
        "ncce = functools.partial(w_categorical_crossentropy, weights=w_array)\n",
        "ncce.__name__ ='w_categorical_crossentropy'"
      ],
      "execution_count": 0,
      "outputs": []
    },
    {
      "cell_type": "code",
      "metadata": {
        "id": "fE8Cv6GQg6K6",
        "colab_type": "code",
        "colab": {}
      },
      "source": [
        "def create_model(x_train):\n",
        "  \"\"\" Construct Classifier Model \"\"\"\n",
        "  # Construct a neural network \n",
        "  model = tf.keras.Sequential([\n",
        "    tf.keras.layers.LSTM(58, input_shape=x_train.shape[-2:], return_sequences=True),\n",
        "    tf.keras.layers.Dropout(0.2),\n",
        "    tf.keras.layers.LSTM(29, return_sequences=False),\n",
        "    tf.keras.layers.Dense(3, activation='softmax')\n",
        "  ])\n",
        "\n",
        "  # Compile model\n",
        "  # model.compile(loss='categorical_crossentropy', optimizer='adam', metrics=['accuracy'])\n",
        "  model.compile(loss=ncce, optimizer='adam', metrics=['accuracy'])\n",
        "\n",
        "  # Show model structure\n",
        "  # print(model.summary())\n",
        "  return model"
      ],
      "execution_count": 0,
      "outputs": []
    },
    {
      "cell_type": "code",
      "metadata": {
        "id": "_RRJYjhybncq",
        "colab_type": "code",
        "colab": {}
      },
      "source": [
        "def create_CNN_model(x_train, y_train):\n",
        "  \"\"\" Construct CNN Classifier Model \"\"\"\n",
        "\n",
        "  n_timesteps, n_features, n_outputs = x_train.shape[1], x_train.shape[2], y_train.shape[1]\n",
        "  model = Sequential()\n",
        "  model.add(Conv1D(filters=12, kernel_size=2, activation='relu', padding='same', input_shape=(n_timesteps,n_features)))\n",
        "  model.add(Conv1D(filters=10, kernel_size=2, activation='relu', padding='same', input_shape=(n_timesteps,n_features)))\n",
        "  model.add(Conv1D(filters=6, kernel_size=2, padding='same', activation='relu'))\n",
        "  model.add(Dropout(0.1))\n",
        "  model.add(MaxPooling1D(pool_size=2, strides=2,))\n",
        "  model.add(Flatten())\n",
        "  model.add(Dense(100, activation='relu'))\n",
        "  model.add(Dense(n_outputs, activation='softmax'))\n",
        "\n",
        "  # Compile model\n",
        "  # model.compile(loss='categorical_crossentropy', optimizer='adam', metrics=['acc']) \n",
        "  model.compile(loss=ncce, optimizer='adam', metrics=['acc'])\n",
        "  return model"
      ],
      "execution_count": 0,
      "outputs": []
    },
    {
      "cell_type": "code",
      "metadata": {
        "id": "SlKhwT3Qg85Y",
        "colab_type": "code",
        "colab": {}
      },
      "source": [
        "def fit_model(model, train_data, val_data):\n",
        "  EPOCHS = 10\n",
        "  CLASS_WEIGHT = {0:1, 1:1, 2:1.5} # Give hold more class weight\n",
        "  batch_size = BATCH_SIZE\n",
        "  EVALUATION_INTERVAL = 200\n",
        "  history = model.fit(train_data, epochs=EPOCHS,\n",
        "                      # class_weight = CLASS_WEIGHT,\n",
        "                      steps_per_epoch=EVALUATION_INTERVAL,\n",
        "                      validation_data=val_data,\n",
        "                      batch_size = batch_size,\n",
        "                      # verbose=2,\n",
        "                      validation_steps=50)\n",
        "  # model.reset_states() #?\n",
        "  return model, history"
      ],
      "execution_count": 0,
      "outputs": []
    },
    {
      "cell_type": "code",
      "metadata": {
        "id": "uozcT4S6b9Jb",
        "colab_type": "code",
        "colab": {}
      },
      "source": [
        "def fit_CNN_model(model, x_train, y_train,x_val, y_val):\n",
        "  EPOCHS = 10\n",
        "  CLASS_WEIGHT = {0:1, 1:1, 2:2} # Give hold more class weight\n",
        "  batch_size = BATCH_SIZE\n",
        "  history = model.fit(x_train, y_train, validation_split=0.25, \n",
        "                      # class_weight = CLASS_WEIGHT,\n",
        "                      epochs=EPOCHS, batch_size=BATCH_SIZE, verbose=0)\n",
        "  _, accuracy = model.evaluate(x_val, y_val, batch_size=BATCH_SIZE, verbose=0)\n",
        "  # model.reset_states() #?\n",
        "  return model, history"
      ],
      "execution_count": 0,
      "outputs": []
    },
    {
      "cell_type": "code",
      "metadata": {
        "id": "WRndWVg7ccyJ",
        "colab_type": "code",
        "colab": {}
      },
      "source": [
        "def model_predict(model, input_data):\n",
        "  \"\"\"\n",
        "  Output: predicted values in [1, 1, 1, 1, 1, ...] shape\n",
        "  \"\"\"\n",
        "  probability_model = tf.keras.Sequential([model, \n",
        "                                         tf.keras.layers.Softmax()])\n",
        "  predictions = probability_model.predict(input_data)\n",
        "  predictions = np.argmax(predictions, axis = 1).astype(int)\n",
        "  predictions =  list(predictions)\n",
        "  return predictions"
      ],
      "execution_count": 0,
      "outputs": []
    },
    {
      "cell_type": "code",
      "metadata": {
        "id": "iWSrRKbxg_x-",
        "colab_type": "code",
        "colab": {}
      },
      "source": [
        "def CNN_model_predict(model, input_data):\n",
        "  \"\"\"\n",
        "  Output: predicted values in [1, 1, 1, 1, 1, ...] shape\n",
        "  \"\"\"\n",
        "  probability_model = Sequential([model, Softmax()])\n",
        "  predictions = probability_model.predict(input_data)\n",
        "  predictions = np.argmax(predictions, axis = 1).astype(int)\n",
        "  predictions =  list(predictions)\n",
        "  return predictions"
      ],
      "execution_count": 0,
      "outputs": []
    },
    {
      "cell_type": "code",
      "metadata": {
        "id": "2VYFTfc9hB-V",
        "colab_type": "code",
        "colab": {}
      },
      "source": [
        "def get_begin_end_dates(features, models, past_history):\n",
        "  all_indices = list(features.index)\n",
        "  # subtract past_history days from begin_dates as input \n",
        "  begin_dates = pd.DataFrame([all_indices[all_indices.index(i)-past_history] for i in models.index],columns=[\"date\"])\n",
        "  begin_dates = begin_dates.set_index('date').index\n",
        "  # begin_dates = models.index\n",
        "  end_dates = models.index[1:].append(pd.to_datetime(['2099-12-31']))\n",
        "  return begin_dates, end_dates"
      ],
      "execution_count": 0,
      "outputs": []
    },
    {
      "cell_type": "markdown",
      "metadata": {
        "id": "PS9uwDBvh4vS",
        "colab_type": "text"
      },
      "source": [
        "## Walkforward Model with Online Learning: LSTM & CNN"
      ]
    },
    {
      "cell_type": "code",
      "metadata": {
        "id": "4wgATdgaZllU",
        "colab_type": "code",
        "colab": {}
      },
      "source": [
        "def preprocess_features(features):\n",
        "  \n",
        "  x_dataset = features.values\n",
        "  train_split = int(features.shape[0]*0.75)\n",
        "\n",
        "  # standardize the dataset using the mean and standard deviation of the training data.\n",
        "  data_mean = x_dataset[:train_split].mean(axis=0)\n",
        "  data_std = x_dataset[:train_split].std(axis=0)\n",
        "  x_dataset = (x_dataset-data_mean)/data_std\n",
        "\n",
        "  # standardize the x_dataset using minmax scaler\n",
        "  # data_max = x_dataset[:train_split].max(axis=0)\n",
        "  # data_min = x_dataset[:train_split].min(axis=0)\n",
        "  # x_dataset = (x_dataset-data_min)/(data_max - data_min)\n",
        "\n",
        "  # Wavelet transform\n",
        "  # coeffs, freqs = pywt.cwt(x_dataset,scales=np.arange(1,2),wavelet='morl')\n",
        "  # x_dataset = coeffs.reshape(-1, coeffs.shape[-1])\n",
        "\n",
        "  #Stacked Autoencoder \n",
        "  # input_size = x_dataset.shape[1]\n",
        "  # hidden_size = 128\n",
        "  # code_size = 32\n",
        "  # input_img = Input(shape=(input_size,))\n",
        "  # hidden_1 = Dense(hidden_size, activation='relu')(input_img)\n",
        "  # code = Dense(code_size, activation='relu')(hidden_1)\n",
        "  # hidden_2 = Dense(hidden_size, activation='relu')(code)\n",
        "  # output_img = Dense(input_size, activation='sigmoid')(hidden_2)\n",
        "  # autoencoder = Model(input_img, output_img)\n",
        "  # autoencoder.compile(optimizer='adam', loss='binary_crossentropy')\n",
        "  # autoencoder.fit(x_dataset, x_dataset, epochs=5)\n",
        "  # x_dataset = autoencoder.predict(x_dataset)\n",
        "\n",
        "  return x_dataset"
      ],
      "execution_count": 0,
      "outputs": []
    },
    {
      "cell_type": "code",
      "metadata": {
        "id": "YC7KEbj-h2xN",
        "colab_type": "code",
        "colab": {}
      },
      "source": [
        "def make_walkforward_transfer_model(features, outcome):\n",
        "  # try:\n",
        "  recalc_dates = features.resample('6M').mean().index.values[1:-1]\n",
        "  models = pd.Series(index=recalc_dates, dtype = 'object')\n",
        "  histories = pd.Series(index=recalc_dates, dtype = 'object')\n",
        "  past_history = PAST_HISTORY\n",
        "  first_run = True\n",
        "  prev_date = None\n",
        "  for date in recalc_dates:\n",
        "    x_dataset = features.loc[slice(date-pd.Timedelta('270 days'),date)]\n",
        "    y_dataset = outcome.loc[slice(date-pd.Timedelta('270 days'),date)]\n",
        "\n",
        "    # Data Augmentation\n",
        "    k1 = max(int(- y_dataset['buy_signal'].sum() + 10000),0)\n",
        "    k2 = max(int(- y_dataset['sell_signal'].sum() + 10000),0)\n",
        "    k3 = max(int(- y_dataset['hold_signal'].sum() + 10000),0)\n",
        "\n",
        "    x_dataset = preprocess_features(x_dataset)\n",
        "    y_dataset = preprocess_outcome(y_dataset)\n",
        "    train_split_idx = int(x_dataset.shape[0]*0.75)\n",
        "    x_train, y_train  = multivariate_data(dataset = x_dataset, target = y_dataset,\n",
        "                                    start_index = 0, end_index = train_split_idx, \n",
        "                                    history_size = past_history,\n",
        "                                    )\n",
        "    x_val, y_val  = multivariate_data(dataset = x_dataset, target = y_dataset,\n",
        "                                    start_index = train_split_idx-past_history, \n",
        "                                      end_index = None, \n",
        "                                    history_size = past_history,\n",
        "                                    )\n",
        "    \n",
        "    # Data Augmentation\n",
        "    y_train_df = pd.DataFrame(y_train,columns=['buy','sell','hold'])\n",
        "    buy_indices = list(y_train_df.loc[y_train_df['buy']==1].index)\n",
        "    buy_indices = choices(buy_indices,k=k1)\n",
        "    sell_indices = list(y_train_df.loc[y_train_df['sell']==1].index)\n",
        "    sell_indices = choices(sell_indices,k=k2)\n",
        "    hold_indices = list(y_train_df.loc[y_train_df['hold']==1].index)\n",
        "    hold_indices = choices(hold_indices,k=k3)\n",
        "\n",
        "    x_buy_resampled = x_train[buy_indices]\n",
        "    y_buy_resampled = y_train[buy_indices]\n",
        "    x_train = np.concatenate((x_train, x_buy_resampled))\n",
        "    y_train = np.concatenate((y_train, y_buy_resampled))\n",
        "\n",
        "    x_sell_resampled = x_train[sell_indices]\n",
        "    y_sell_resampled = y_train[sell_indices]\n",
        "    x_train = np.concatenate((x_train, x_sell_resampled))\n",
        "    y_train = np.concatenate((y_train, y_sell_resampled))\n",
        "\n",
        "    x_hold_resampled = x_train[hold_indices]\n",
        "    y_hold_resampled = y_train[hold_indices]\n",
        "    x_train = np.concatenate((x_train, x_hold_resampled))\n",
        "    y_train = np.concatenate((y_train, y_hold_resampled))\n",
        "\n",
        "    x_train, y_train = shuffle(x_train, y_train)\n",
        "\n",
        "\n",
        "    train_data_single = tf.data.Dataset.from_tensor_slices((x_train, y_train))\n",
        "    train_data_single = train_data_single.cache().shuffle(BUFFER_SIZE).batch(BATCH_SIZE).repeat()\n",
        "    val_data_single = tf.data.Dataset.from_tensor_slices((x_val, y_val))\n",
        "    val_data_single = val_data_single.batch(BATCH_SIZE).repeat()\n",
        "    # create model\n",
        "    if first_run == True:\n",
        "      model = create_model(x_train)\n",
        "      first_run = False\n",
        "    else:\n",
        "      model = models[prev_date]\n",
        "    prev_date = date\n",
        "    # train model\n",
        "    model, history = fit_model(model,train_data_single,val_data_single)\n",
        "    models.loc[date] = model\n",
        "    histories.loc[date] = history\n",
        "\n",
        "  begin_dates, end_dates = get_begin_end_dates(features,models,past_history)\n",
        "\n",
        "  ## Generate OUT OF SAMPLE walk-forward predictions\n",
        "  predictions = pd.Series(index=features.index)\n",
        "  y_truth = pd.Series(index=features.index)\n",
        "\n",
        "  for i,model in enumerate(models): #loop thru each models object in collection\n",
        "    #         print(f'Using model trained on {begin_dates[i]}, Predict from: {begin_dates[i]} to: {end_dates[i]}')\n",
        "    # print(i,begin_dates[i],end_dates[i])\n",
        "    x_dataset = features.loc[slice(begin_dates[i],end_dates[i])]\n",
        "    y_dataset = outcome.loc[slice(begin_dates[i],end_dates[i])]\n",
        "    # Skip if number of observations input not enough\n",
        "    if x_dataset.shape[0] < past_history:\n",
        "      continue\n",
        "    index = x_dataset.index[past_history:]\n",
        "    # print(index)\n",
        "    x_dataset = preprocess_features(x_dataset)\n",
        "    y_dataset = preprocess_outcome(y_dataset)\n",
        "    train_split_idx = int(x_dataset.shape[0]*1)\n",
        "    x_val, y_val  = multivariate_data(dataset = x_dataset, target = y_dataset,\n",
        "                                    start_index = 0, end_index = train_split_idx, \n",
        "                                    history_size = past_history,\n",
        "                                    )\n",
        "\n",
        "    prediction = model_predict(model, x_val)\n",
        "    # print(i,prediction)\n",
        "    p = pd.Series(prediction,index=index)\n",
        "    predictions.loc[index] = p\n",
        "    y_true = transform_y(y_val)\n",
        "    y_truth.loc[index] = y_true\n",
        "  # except:\n",
        "  #   print(\"error occured\")\n",
        "  #   predictions = []\n",
        "  #   y_truth = []\n",
        "\n",
        "  return predictions, y_truth, histories, recalc_dates"
      ],
      "execution_count": 0,
      "outputs": []
    },
    {
      "cell_type": "code",
      "metadata": {
        "id": "y5tCcCYebWe_",
        "colab_type": "code",
        "colab": {}
      },
      "source": [
        "def make_walkforward_transfer_CNN_model(features, outcome):\n",
        "  # try:\n",
        "  recalc_dates = features.resample('6M').mean().index.values[1:-1]\n",
        "  models = pd.Series(index=recalc_dates, dtype = 'object')\n",
        "  histories = pd.Series(index=recalc_dates, dtype = 'object')\n",
        "  past_history = PAST_HISTORY\n",
        "  first_run = True\n",
        "  prev_date = None\n",
        "  for date in recalc_dates:\n",
        "    x_dataset = features.loc[slice(date-pd.Timedelta('180 days'),date)]\n",
        "    y_dataset = outcome.loc[slice(date-pd.Timedelta('180 days'),date)]\n",
        "\n",
        "    # Data Augmentation\n",
        "    k1 = max(int(- y_dataset['buy_signal'].sum() + 10000),0)\n",
        "    k2 = max(int(- y_dataset['sell_signal'].sum() + 10000),0)\n",
        "    k3 = max(int(- y_dataset['hold_signal'].sum() + 10000),0)\n",
        "\n",
        "\n",
        "    x_dataset = preprocess_features(x_dataset)\n",
        "    y_dataset = preprocess_outcome(y_dataset)\n",
        "    train_split_idx = int(x_dataset.shape[0]*0.75)\n",
        "    x_train, y_train  = multivariate_data(dataset = x_dataset, target = y_dataset,\n",
        "                                    start_index = 0, end_index = train_split_idx, \n",
        "                                    history_size = past_history,\n",
        "                                    )\n",
        "    x_val, y_val  = multivariate_data(dataset = x_dataset, target = y_dataset,\n",
        "                                    start_index = train_split_idx-past_history, \n",
        "                                      end_index = None, \n",
        "                                    history_size = past_history,\n",
        "                                    )\n",
        "    \n",
        "    # Data Augmentation\n",
        "    y_train_df = pd.DataFrame(y_train,columns=['buy','sell','hold'])\n",
        "    buy_indices = list(y_train_df.loc[y_train_df['buy']==1].index)\n",
        "    buy_indices = choices(buy_indices,k=k1)\n",
        "    sell_indices = list(y_train_df.loc[y_train_df['sell']==1].index)\n",
        "    sell_indices = choices(sell_indices,k=k2)\n",
        "    hold_indices = list(y_train_df.loc[y_train_df['hold']==1].index)\n",
        "    hold_indices = choices(hold_indices,k=k3)\n",
        "\n",
        "    x_buy_resampled = x_train[buy_indices]\n",
        "    y_buy_resampled = y_train[buy_indices]\n",
        "    x_train = np.concatenate((x_train, x_buy_resampled))\n",
        "    y_train = np.concatenate((y_train, y_buy_resampled))\n",
        "\n",
        "    x_sell_resampled = x_train[sell_indices]\n",
        "    y_sell_resampled = y_train[sell_indices]\n",
        "    x_train = np.concatenate((x_train, x_sell_resampled))\n",
        "    y_train = np.concatenate((y_train, y_sell_resampled))\n",
        "\n",
        "    x_hold_resampled = x_train[hold_indices]\n",
        "    y_hold_resampled = y_train[hold_indices]\n",
        "    x_train = np.concatenate((x_train, x_hold_resampled))\n",
        "    y_train = np.concatenate((y_train, y_hold_resampled))\n",
        "\n",
        "    x_train, y_train = shuffle(x_train, y_train)\n",
        "\n",
        "\n",
        "    # create model\n",
        "    if first_run == True:\n",
        "      model = create_CNN_model(x_train, y_train)\n",
        "      first_run = False\n",
        "    else:\n",
        "      model = models[prev_date]\n",
        "    prev_date = date\n",
        "    # train model\n",
        "    model, history = fit_CNN_model(model,x_train, y_train,x_val, y_val)\n",
        "    models.loc[date] = model\n",
        "    histories.loc[date] = history\n",
        "\n",
        "  begin_dates, end_dates = get_begin_end_dates(features,models,past_history)\n",
        "\n",
        "  ## Generate OUT OF SAMPLE walk-forward predictions\n",
        "  predictions = pd.Series(index=features.index)\n",
        "  y_truth = pd.Series(index=features.index)\n",
        "\n",
        "  for i,model in enumerate(models): #loop thru each models object in collection\n",
        "    #         print(f'Using model trained on {begin_dates[i]}, Predict from: {begin_dates[i]} to: {end_dates[i]}')\n",
        "    # print(i,begin_dates[i],end_dates[i])\n",
        "    x_dataset = features.loc[slice(begin_dates[i],end_dates[i])]\n",
        "    y_dataset = outcome.loc[slice(begin_dates[i],end_dates[i])]\n",
        "    # Skip if number of observations input not enough\n",
        "    if x_dataset.shape[0] < past_history:\n",
        "      continue\n",
        "    index = x_dataset.index[past_history:]\n",
        "    # print(index)\n",
        "    x_dataset = preprocess_features(x_dataset)\n",
        "    y_dataset = preprocess_outcome(y_dataset)\n",
        "    train_split_idx = int(x_dataset.shape[0]*1)\n",
        "    x_val, y_val  = multivariate_data(dataset = x_dataset, target = y_dataset,\n",
        "                                    start_index = 0, end_index = train_split_idx, \n",
        "                                    history_size = past_history,\n",
        "                                    )\n",
        "\n",
        "    prediction = CNN_model_predict(model, x_val)\n",
        "    # print(i,prediction)\n",
        "    p = pd.Series(prediction,index=index)\n",
        "    predictions.loc[index] = p\n",
        "    y_true = transform_y(y_val)\n",
        "    y_truth.loc[index] = y_true\n",
        "  # except:\n",
        "  #   print(\"error occured\")\n",
        "  #   predictions = []\n",
        "  #   y_truth = []\n",
        "\n",
        "  return predictions, y_truth, histories, recalc_dates"
      ],
      "execution_count": 0,
      "outputs": []
    },
    {
      "cell_type": "code",
      "metadata": {
        "id": "PQ04Lf0JZhRg",
        "colab_type": "code",
        "colab": {}
      },
      "source": [
        "def get_accuracy_eval(df, predictions, y_truth, histories,recalc_dates):\n",
        "  pred_table = pd.merge(predictions.rename('Pred'),y_truth.rename('y_truth'),left_index=True,right_index=True)\n",
        "  pred_table.dropna(inplace=True)\n",
        "\n",
        "  # Accuracy matrix\n",
        "  label_dict = {0:\"Buy\", 1:\"Sell\", 2:\"Hold\"}\n",
        "  y_true_label = [label_dict[x] for x in pred_table['y_truth']]\n",
        "  predict_valid_label = [label_dict[x] for x in pred_table['Pred']]\n",
        "\n",
        "  acc_mtx_labels = np.unique(y_true_label)\n",
        "\n",
        "  accuracy_matrix = confusion_matrix(y_true_label, predict_valid_label, labels = acc_mtx_labels)\n",
        "  \n",
        "  # Accuracy for all signals\n",
        "  accuracy_matrix_percentage = accuracy_matrix / accuracy_matrix.astype(np.float).sum()\n",
        "  print('Total accuracy:', np.trace(accuracy_matrix_percentage)*100)\n",
        "\n",
        "\n",
        "  # Confusion Matrix Heatmap\n",
        "  acc_df = pd.DataFrame(accuracy_matrix_percentage, index=acc_mtx_labels, columns=acc_mtx_labels)\n",
        "  ax = sns.heatmap(acc_df,  \n",
        "              fmt='.2%', cmap='Blues',annot=True)\n",
        "  # X - Y axis labels\n",
        "  ax.set_ylabel('Truth')\n",
        "  ax.set_xlabel('Model Prediction')\n",
        "\n",
        "  df_eval = df[['time','close','12EMA','50EMA','100EMA']].copy()\n",
        "  df_eval.set_index('time',inplace=True)\n",
        "  # df_eval = df_eval.loc['7/1/2018':]\n",
        "  df_eval = df_eval.loc['2018-07-01':]\n",
        "  df_eval = pd.merge(df_eval, pred_table, left_index=True, right_index=True)\n",
        "\n",
        "  df_eval['position'] = np.where(df_eval['Pred']==0,1,np.where(df_eval['Pred'] == 1,-1,np.nan))\n",
        "  df_eval['position'] = df_eval['position'].fillna(method='ffill')\n",
        "  df_eval['position'] = df_eval['position'].fillna(0)\n",
        "  df_eval['daily_ret'] = (df_eval['close'] - df_eval['close'].shift(1)).shift(-1)\n",
        "  df_eval['daily_ret'] = df_eval['daily_ret'].fillna(0)\n",
        "  df_eval['port_ret'] = df_eval['position'] * df_eval['daily_ret']\n",
        "  df_eval['port_ret'] = df_eval['port_ret'].fillna(0)\n",
        "  df_eval['cum_ret'] = np.cumsum(df_eval['port_ret'])\n",
        "  df_eval['buy_and_hold'] = np.cumsum(df_eval['daily_ret'])\n",
        "\n",
        "  # Benchmark model\n",
        "  df_eval['bm_signal'] = np.where((df_eval['12EMA'] > df_eval['50EMA']) & (df_eval['50EMA'] > df_eval['100EMA']), 0, np.where((df_eval['12EMA'] < df_eval['50EMA']) & (df_eval['50EMA'] < df_eval['100EMA']), 1,2))\n",
        "  df_eval['bm_position'] = np.where(df_eval['bm_signal']==0,1,np.where(df_eval['bm_signal'] == 1,-1,np.nan))\n",
        "  df_eval['bm_position'] = df_eval['bm_position'].fillna(method='ffill')\n",
        "  df_eval['bm_position'] = df_eval['bm_position'].fillna(0)\n",
        "  df_eval['bm_port_ret'] = df_eval['bm_position'] * df_eval['daily_ret']\n",
        "  df_eval['bm_cum_ret'] = np.cumsum(df_eval['bm_port_ret'])\n",
        "\n",
        "  # Ideal model\n",
        "  df_eval['ideal_position'] = np.where(df_eval['y_truth']==0,1,np.where(df_eval['y_truth'] == 1,-1,np.nan))\n",
        "  df_eval['ideal_position'] = df_eval['ideal_position'].fillna(method='ffill')\n",
        "  df_eval['ideal_position'] = df_eval['ideal_position'].fillna(0)\n",
        "  df_eval['ideal_port_ret'] = df_eval['ideal_position'] * df_eval['daily_ret']\n",
        "  df_eval['ideal_cum_ret'] = np.cumsum(df_eval['ideal_port_ret'])\n",
        "\n",
        "  plt.figure(figsize=(10, 8))\n",
        "  plt.plot(df_eval.index, df_eval['cum_ret'], label = 'ML Model')\n",
        "  plt.plot(df_eval.index, df_eval['buy_and_hold'], label = \"Buy and hold\")\n",
        "  plt.plot(df_eval.index, df_eval['bm_cum_ret'], label = \"Naive MA\")\n",
        "  # plt.plot(df_eval.index, df_eval['ideal_cum_ret'], label = \"Ideal\")\n",
        "  plt.legend()\n",
        "  plt.style.use('seaborn-darkgrid')"
      ],
      "execution_count": 0,
      "outputs": []
    },
    {
      "cell_type": "code",
      "metadata": {
        "id": "ja2S6lBcZtoB",
        "colab_type": "code",
        "colab": {}
      },
      "source": [
        "it = iter(tickers)"
      ],
      "execution_count": 0,
      "outputs": []
    },
    {
      "cell_type": "code",
      "metadata": {
        "id": "ShQBq0-bi1US",
        "colab_type": "code",
        "outputId": "d8c2cad7-f8f9-46c7-83cd-d99ce3c444b8",
        "colab": {
          "base_uri": "https://localhost:8080/",
          "height": 283
        }
      },
      "source": [
        "tickers"
      ],
      "execution_count": 61,
      "outputs": [
        {
          "output_type": "execute_result",
          "data": {
            "text/plain": [
              "['BTC',\n",
              " 'ETH',\n",
              " 'DOGE',\n",
              " 'USDT',\n",
              " 'DASH',\n",
              " 'LTC',\n",
              " 'NMC',\n",
              " 'PPC',\n",
              " 'NVC',\n",
              " 'TRC',\n",
              " 'FRC',\n",
              " 'FTC',\n",
              " 'IXC',\n",
              " 'WDC',\n",
              " 'BTB']"
            ]
          },
          "metadata": {
            "tags": []
          },
          "execution_count": 61
        }
      ]
    },
    {
      "cell_type": "code",
      "metadata": {
        "id": "VQ8ch22Ji6II",
        "colab_type": "code",
        "outputId": "4f13915f-8c65-4f51-9357-17e72c74e38b",
        "colab": {
          "base_uri": "https://localhost:8080/",
          "height": 34
        }
      },
      "source": [
        "ticker = next(it)\n",
        "ticker"
      ],
      "execution_count": 62,
      "outputs": [
        {
          "output_type": "execute_result",
          "data": {
            "text/plain": [
              "'BTC'"
            ]
          },
          "metadata": {
            "tags": []
          },
          "execution_count": 62
        }
      ]
    },
    {
      "cell_type": "code",
      "metadata": {
        "id": "xiZUeMIbZpqG",
        "colab_type": "code",
        "outputId": "2d0fe363-b768-4eb3-d6e1-e133cbbf7bc4",
        "colab": {
          "base_uri": "https://localhost:8080/",
          "height": 1000
        }
      },
      "source": [
        "# LSTM walkforward model\n",
        "\n",
        "# ticker = next(it)\n",
        "# ticker = 'BTC'\n",
        "print(\"Ticker\",ticker)\n",
        "data_dir = glob.glob(processed_data_dir+ticker+\"_processed.csv\")[0]\n",
        "df = pd.read_csv(data_dir)\n",
        "df['12_100EMA'] = df['12EMA'] / df['100EMA'] \n",
        "df['50_100EMA'] = df['50EMA'] / df['100EMA'] \n",
        "features_considered  = ['close', 'high', 'low', 'open', 'volumeto',\n",
        "      '12_100EMA','50_100EMA', '100EMA', 'minusDI',\n",
        "      'plusDI', 'MACD', 'RSI', 'StoOsci', 'StoOsci_signal',\n",
        "      'BB_hband', 'BB_lband', 'ATR', 'ADI', 'MFI']\n",
        "# features_considered  = ['close', 'high', 'low', 'open']\n",
        "features, outcome = preprocess_dataframe(df, features_considered)\n",
        "predictions, y_truth, histories,recalc_dates = make_walkforward_transfer_model(features, outcome)\n",
        "get_accuracy_eval(df, predictions, y_truth, histories,recalc_dates)"
      ],
      "execution_count": 65,
      "outputs": [
        {
          "output_type": "stream",
          "text": [
            "Ticker BTC\n",
            "Epoch 1/10\n",
            "200/200 [==============================] - 2s 11ms/step - loss: 3.1238 - accuracy: 0.8418 - val_loss: 14.1232 - val_accuracy: 0.1765\n",
            "Epoch 2/10\n",
            "200/200 [==============================] - 2s 8ms/step - loss: 1.5756 - accuracy: 0.9035 - val_loss: 15.1106 - val_accuracy: 0.1373\n",
            "Epoch 3/10\n",
            "200/200 [==============================] - 2s 8ms/step - loss: 1.5554 - accuracy: 0.9039 - val_loss: 15.6358 - val_accuracy: 0.0588\n",
            "Epoch 4/10\n",
            "200/200 [==============================] - 2s 8ms/step - loss: 1.5524 - accuracy: 0.9039 - val_loss: 15.8541 - val_accuracy: 0.0588\n",
            "Epoch 5/10\n",
            "200/200 [==============================] - 2s 8ms/step - loss: 1.5506 - accuracy: 0.9039 - val_loss: 16.0325 - val_accuracy: 0.0588\n",
            "Epoch 6/10\n",
            "200/200 [==============================] - 2s 8ms/step - loss: 1.6864 - accuracy: 0.8963 - val_loss: 15.9032 - val_accuracy: 0.0784\n",
            "Epoch 7/10\n",
            "200/200 [==============================] - 2s 8ms/step - loss: 1.5877 - accuracy: 0.9020 - val_loss: 13.3643 - val_accuracy: 0.2157\n",
            "Epoch 8/10\n",
            "200/200 [==============================] - 2s 8ms/step - loss: 1.5406 - accuracy: 0.9046 - val_loss: 13.4159 - val_accuracy: 0.2157\n",
            "Epoch 9/10\n",
            "200/200 [==============================] - 2s 8ms/step - loss: 1.5671 - accuracy: 0.9029 - val_loss: 13.4540 - val_accuracy: 0.2157\n",
            "Epoch 10/10\n",
            "200/200 [==============================] - 2s 8ms/step - loss: 1.5519 - accuracy: 0.9038 - val_loss: 13.4854 - val_accuracy: 0.2157\n",
            "Epoch 1/10\n",
            "200/200 [==============================] - 2s 8ms/step - loss: 5.5978 - accuracy: 0.6585 - val_loss: 11.9043 - val_accuracy: 0.2794\n",
            "Epoch 2/10\n",
            "200/200 [==============================] - 1s 7ms/step - loss: 5.4182 - accuracy: 0.6687 - val_loss: 11.9149 - val_accuracy: 0.2794\n",
            "Epoch 3/10\n",
            "200/200 [==============================] - 2s 8ms/step - loss: 5.2455 - accuracy: 0.6792 - val_loss: 8.6548 - val_accuracy: 0.4853\n",
            "Epoch 4/10\n",
            "200/200 [==============================] - 1s 7ms/step - loss: 3.1822 - accuracy: 0.8061 - val_loss: 9.5491 - val_accuracy: 0.4265\n",
            "Epoch 5/10\n",
            "200/200 [==============================] - 2s 8ms/step - loss: 0.9435 - accuracy: 0.9442 - val_loss: 9.7014 - val_accuracy: 0.4118\n",
            "Epoch 6/10\n",
            "200/200 [==============================] - 1s 7ms/step - loss: 0.9301 - accuracy: 0.9444 - val_loss: 9.5191 - val_accuracy: 0.4412\n",
            "Epoch 7/10\n",
            "200/200 [==============================] - 2s 8ms/step - loss: 0.9114 - accuracy: 0.9453 - val_loss: 9.5404 - val_accuracy: 0.4412\n",
            "Epoch 8/10\n",
            "200/200 [==============================] - 2s 8ms/step - loss: 0.9129 - accuracy: 0.9452 - val_loss: 9.5053 - val_accuracy: 0.4412\n",
            "Epoch 9/10\n",
            "200/200 [==============================] - 2s 8ms/step - loss: 0.9756 - accuracy: 0.9413 - val_loss: 9.4794 - val_accuracy: 0.4265\n",
            "Epoch 10/10\n",
            "200/200 [==============================] - 2s 8ms/step - loss: 1.0098 - accuracy: 0.9397 - val_loss: 10.3535 - val_accuracy: 0.3529\n",
            "Epoch 1/10\n",
            "200/200 [==============================] - 2s 8ms/step - loss: 3.1520 - accuracy: 0.8073 - val_loss: 9.1286 - val_accuracy: 0.4265\n",
            "Epoch 2/10\n",
            "200/200 [==============================] - 2s 8ms/step - loss: 2.6297 - accuracy: 0.8374 - val_loss: 9.0959 - val_accuracy: 0.4412\n",
            "Epoch 3/10\n",
            "200/200 [==============================] - 2s 8ms/step - loss: 2.6123 - accuracy: 0.8381 - val_loss: 9.0709 - val_accuracy: 0.4412\n",
            "Epoch 4/10\n",
            "200/200 [==============================] - 2s 8ms/step - loss: 2.6182 - accuracy: 0.8376 - val_loss: 9.0643 - val_accuracy: 0.4412\n",
            "Epoch 5/10\n",
            "200/200 [==============================] - 2s 8ms/step - loss: 2.6301 - accuracy: 0.8369 - val_loss: 9.0708 - val_accuracy: 0.4412\n",
            "Epoch 6/10\n",
            "200/200 [==============================] - 2s 8ms/step - loss: 2.6184 - accuracy: 0.8377 - val_loss: 9.1290 - val_accuracy: 0.4412\n",
            "Epoch 7/10\n",
            "200/200 [==============================] - 2s 8ms/step - loss: 2.7433 - accuracy: 0.8324 - val_loss: 5.4634 - val_accuracy: 0.6765\n",
            "Epoch 8/10\n",
            "200/200 [==============================] - 2s 8ms/step - loss: 2.8037 - accuracy: 0.8333 - val_loss: 7.5680 - val_accuracy: 0.5294\n",
            "Epoch 9/10\n",
            "200/200 [==============================] - 2s 8ms/step - loss: 2.6986 - accuracy: 0.8397 - val_loss: 7.6467 - val_accuracy: 0.5147\n",
            "Epoch 10/10\n",
            "200/200 [==============================] - 2s 8ms/step - loss: 2.7282 - accuracy: 0.8378 - val_loss: 7.6662 - val_accuracy: 0.5147\n",
            "Epoch 1/10\n",
            "200/200 [==============================] - 2s 8ms/step - loss: 1.4726 - accuracy: 0.9105 - val_loss: 12.3209 - val_accuracy: 0.2353\n",
            "Epoch 2/10\n",
            "200/200 [==============================] - 2s 8ms/step - loss: 1.1408 - accuracy: 0.9297 - val_loss: 11.8393 - val_accuracy: 0.2647\n",
            "Epoch 3/10\n",
            "200/200 [==============================] - 2s 8ms/step - loss: 1.0763 - accuracy: 0.9334 - val_loss: 11.8837 - val_accuracy: 0.2500\n",
            "Epoch 4/10\n",
            "200/200 [==============================] - 2s 8ms/step - loss: 1.0642 - accuracy: 0.9341 - val_loss: 11.8809 - val_accuracy: 0.2647\n",
            "Epoch 5/10\n",
            "200/200 [==============================] - 2s 8ms/step - loss: 1.1009 - accuracy: 0.9318 - val_loss: 11.8839 - val_accuracy: 0.2647\n",
            "Epoch 6/10\n",
            "200/200 [==============================] - 2s 8ms/step - loss: 1.0740 - accuracy: 0.9335 - val_loss: 11.9117 - val_accuracy: 0.2647\n",
            "Epoch 7/10\n",
            "200/200 [==============================] - 2s 8ms/step - loss: 1.0720 - accuracy: 0.9335 - val_loss: 11.9544 - val_accuracy: 0.2647\n",
            "Epoch 8/10\n",
            "200/200 [==============================] - 2s 8ms/step - loss: 1.0502 - accuracy: 0.9349 - val_loss: 11.8982 - val_accuracy: 0.2647\n",
            "Epoch 9/10\n",
            "200/200 [==============================] - 2s 8ms/step - loss: 1.0803 - accuracy: 0.9330 - val_loss: 11.8996 - val_accuracy: 0.2647\n",
            "Epoch 10/10\n",
            "200/200 [==============================] - 2s 8ms/step - loss: 1.0632 - accuracy: 0.9341 - val_loss: 11.8912 - val_accuracy: 0.2647\n",
            "Epoch 1/10\n",
            "200/200 [==============================] - 2s 8ms/step - loss: 1.7591 - accuracy: 0.8919 - val_loss: 3.6558 - val_accuracy: 0.7794\n",
            "Epoch 2/10\n",
            "200/200 [==============================] - 2s 8ms/step - loss: 1.2631 - accuracy: 0.9220 - val_loss: 3.6007 - val_accuracy: 0.7794\n",
            "Epoch 3/10\n",
            "200/200 [==============================] - 1s 7ms/step - loss: 1.2383 - accuracy: 0.9234 - val_loss: 3.9918 - val_accuracy: 0.7500\n",
            "Epoch 4/10\n",
            "200/200 [==============================] - 1s 7ms/step - loss: 1.2241 - accuracy: 0.9242 - val_loss: 3.8477 - val_accuracy: 0.7647\n",
            "Epoch 5/10\n",
            "200/200 [==============================] - 2s 8ms/step - loss: 1.2412 - accuracy: 0.9230 - val_loss: 3.8322 - val_accuracy: 0.7647\n",
            "Epoch 6/10\n",
            "200/200 [==============================] - 2s 8ms/step - loss: 1.2358 - accuracy: 0.9234 - val_loss: 3.8651 - val_accuracy: 0.7647\n",
            "Epoch 7/10\n",
            "200/200 [==============================] - 2s 8ms/step - loss: 1.2271 - accuracy: 0.9239 - val_loss: 3.7923 - val_accuracy: 0.7647\n",
            "Epoch 8/10\n",
            "200/200 [==============================] - 2s 8ms/step - loss: 1.2293 - accuracy: 0.9238 - val_loss: 3.7912 - val_accuracy: 0.7647\n",
            "Epoch 9/10\n",
            "200/200 [==============================] - 2s 8ms/step - loss: 1.2338 - accuracy: 0.9235 - val_loss: 3.7898 - val_accuracy: 0.7647\n",
            "Epoch 10/10\n",
            "200/200 [==============================] - 2s 8ms/step - loss: 1.2284 - accuracy: 0.9238 - val_loss: 3.8048 - val_accuracy: 0.7647\n",
            "Epoch 1/10\n",
            "200/200 [==============================] - 2s 8ms/step - loss: 1.6855 - accuracy: 0.8967 - val_loss: 4.3947 - val_accuracy: 0.7353\n",
            "Epoch 2/10\n",
            "200/200 [==============================] - 2s 8ms/step - loss: 1.3439 - accuracy: 0.9174 - val_loss: 4.5049 - val_accuracy: 0.7206\n",
            "Epoch 3/10\n",
            "200/200 [==============================] - 2s 8ms/step - loss: 1.3799 - accuracy: 0.9152 - val_loss: 4.9471 - val_accuracy: 0.6912\n",
            "Epoch 4/10\n",
            "200/200 [==============================] - 2s 8ms/step - loss: 1.3279 - accuracy: 0.9186 - val_loss: 4.7107 - val_accuracy: 0.7206\n",
            "Epoch 5/10\n",
            "200/200 [==============================] - 2s 8ms/step - loss: 1.3226 - accuracy: 0.9190 - val_loss: 4.6558 - val_accuracy: 0.7206\n",
            "Epoch 6/10\n",
            "200/200 [==============================] - 2s 8ms/step - loss: 1.3436 - accuracy: 0.9177 - val_loss: 4.6585 - val_accuracy: 0.7206\n",
            "Epoch 7/10\n",
            "200/200 [==============================] - 1s 7ms/step - loss: 1.3178 - accuracy: 0.9191 - val_loss: 4.6367 - val_accuracy: 0.7206\n",
            "Epoch 8/10\n",
            "200/200 [==============================] - 2s 8ms/step - loss: 1.3340 - accuracy: 0.9182 - val_loss: 4.6533 - val_accuracy: 0.7206\n",
            "Epoch 9/10\n",
            "200/200 [==============================] - 2s 8ms/step - loss: 1.3200 - accuracy: 0.9191 - val_loss: 4.6117 - val_accuracy: 0.7206\n",
            "Epoch 10/10\n",
            "200/200 [==============================] - 2s 8ms/step - loss: 1.3360 - accuracy: 0.9181 - val_loss: 4.7309 - val_accuracy: 0.7059\n",
            "Epoch 1/10\n",
            "200/200 [==============================] - 2s 8ms/step - loss: 1.3172 - accuracy: 0.9193 - val_loss: 8.2031 - val_accuracy: 0.5000\n",
            "Epoch 2/10\n",
            "200/200 [==============================] - 2s 8ms/step - loss: 0.9548 - accuracy: 0.9415 - val_loss: 8.4840 - val_accuracy: 0.4706\n",
            "Epoch 3/10\n",
            "200/200 [==============================] - 2s 8ms/step - loss: 0.9582 - accuracy: 0.9413 - val_loss: 8.4861 - val_accuracy: 0.4706\n",
            "Epoch 4/10\n",
            "200/200 [==============================] - 2s 8ms/step - loss: 0.9679 - accuracy: 0.9407 - val_loss: 8.4793 - val_accuracy: 0.4706\n",
            "Epoch 5/10\n",
            "200/200 [==============================] - 2s 8ms/step - loss: 0.9727 - accuracy: 0.9403 - val_loss: 8.4971 - val_accuracy: 0.4706\n",
            "Epoch 6/10\n",
            "200/200 [==============================] - 2s 8ms/step - loss: 0.9570 - accuracy: 0.9414 - val_loss: 8.5179 - val_accuracy: 0.4706\n",
            "Epoch 7/10\n",
            "200/200 [==============================] - 2s 8ms/step - loss: 0.9651 - accuracy: 0.9409 - val_loss: 8.5218 - val_accuracy: 0.4706\n",
            "Epoch 8/10\n",
            "200/200 [==============================] - 2s 8ms/step - loss: 0.9635 - accuracy: 0.9410 - val_loss: 8.4798 - val_accuracy: 0.4706\n",
            "Epoch 9/10\n",
            "200/200 [==============================] - 2s 8ms/step - loss: 0.9660 - accuracy: 0.9409 - val_loss: 8.5013 - val_accuracy: 0.4706\n",
            "Epoch 10/10\n",
            "200/200 [==============================] - 2s 8ms/step - loss: 0.9570 - accuracy: 0.9414 - val_loss: 7.9092 - val_accuracy: 0.5147\n",
            "Epoch 1/10\n",
            "200/200 [==============================] - 2s 8ms/step - loss: 0.8864 - accuracy: 0.9456 - val_loss: 4.2141 - val_accuracy: 0.7500\n",
            "Epoch 2/10\n",
            "200/200 [==============================] - 2s 8ms/step - loss: 0.7815 - accuracy: 0.9516 - val_loss: 3.5507 - val_accuracy: 0.7941\n",
            "Epoch 3/10\n",
            "200/200 [==============================] - 2s 8ms/step - loss: 0.7783 - accuracy: 0.9518 - val_loss: 2.9447 - val_accuracy: 0.8235\n",
            "Epoch 4/10\n",
            "200/200 [==============================] - 2s 8ms/step - loss: 0.7891 - accuracy: 0.9511 - val_loss: 4.1701 - val_accuracy: 0.7353\n",
            "Epoch 5/10\n",
            "200/200 [==============================] - 2s 8ms/step - loss: 0.4816 - accuracy: 0.9703 - val_loss: 3.4218 - val_accuracy: 0.7941\n",
            "Epoch 6/10\n",
            "200/200 [==============================] - 2s 8ms/step - loss: 0.3755 - accuracy: 0.9767 - val_loss: 3.3629 - val_accuracy: 0.7941\n",
            "Epoch 7/10\n",
            "200/200 [==============================] - 1s 7ms/step - loss: 0.3829 - accuracy: 0.9763 - val_loss: 3.6798 - val_accuracy: 0.7647\n",
            "Epoch 8/10\n",
            "200/200 [==============================] - 2s 8ms/step - loss: 0.3830 - accuracy: 0.9763 - val_loss: 3.4657 - val_accuracy: 0.7794\n",
            "Epoch 9/10\n",
            "200/200 [==============================] - 1s 7ms/step - loss: 0.3691 - accuracy: 0.9772 - val_loss: 3.3339 - val_accuracy: 0.7941\n",
            "Epoch 10/10\n",
            "200/200 [==============================] - 2s 8ms/step - loss: 0.3745 - accuracy: 0.9768 - val_loss: 3.5572 - val_accuracy: 0.7794\n",
            "Epoch 1/10\n",
            "200/200 [==============================] - 2s 8ms/step - loss: 2.5047 - accuracy: 0.8474 - val_loss: 5.9080 - val_accuracy: 0.6324\n",
            "Epoch 2/10\n",
            "200/200 [==============================] - 2s 8ms/step - loss: 0.9186 - accuracy: 0.9453 - val_loss: 5.9286 - val_accuracy: 0.6324\n",
            "Epoch 3/10\n",
            "200/200 [==============================] - 2s 8ms/step - loss: 0.8456 - accuracy: 0.9497 - val_loss: 5.9810 - val_accuracy: 0.6324\n",
            "Epoch 4/10\n",
            "200/200 [==============================] - 2s 8ms/step - loss: 0.8397 - accuracy: 0.9502 - val_loss: 5.8993 - val_accuracy: 0.6324\n",
            "Epoch 5/10\n",
            "200/200 [==============================] - 2s 8ms/step - loss: 0.8439 - accuracy: 0.9499 - val_loss: 6.1549 - val_accuracy: 0.6176\n",
            "Epoch 6/10\n",
            "200/200 [==============================] - 2s 8ms/step - loss: 0.8286 - accuracy: 0.9508 - val_loss: 6.3309 - val_accuracy: 0.6029\n",
            "Epoch 7/10\n",
            "200/200 [==============================] - 2s 8ms/step - loss: 0.8519 - accuracy: 0.9494 - val_loss: 6.3450 - val_accuracy: 0.6029\n",
            "Epoch 8/10\n",
            "200/200 [==============================] - 2s 8ms/step - loss: 0.8330 - accuracy: 0.9505 - val_loss: 6.4573 - val_accuracy: 0.6029\n",
            "Epoch 9/10\n",
            "200/200 [==============================] - 2s 8ms/step - loss: 0.8378 - accuracy: 0.9500 - val_loss: 6.3873 - val_accuracy: 0.6029\n",
            "Epoch 10/10\n",
            "200/200 [==============================] - 2s 8ms/step - loss: 0.8450 - accuracy: 0.9496 - val_loss: 6.3898 - val_accuracy: 0.6029\n",
            "Epoch 1/10\n",
            "200/200 [==============================] - 2s 8ms/step - loss: 1.9629 - accuracy: 0.8814 - val_loss: 4.6148 - val_accuracy: 0.7206\n",
            "Epoch 2/10\n",
            "200/200 [==============================] - 2s 8ms/step - loss: 1.5101 - accuracy: 0.9088 - val_loss: 6.0833 - val_accuracy: 0.6324\n",
            "Epoch 3/10\n",
            "200/200 [==============================] - 2s 8ms/step - loss: 1.2660 - accuracy: 0.9239 - val_loss: 5.5788 - val_accuracy: 0.6618\n",
            "Epoch 4/10\n",
            "200/200 [==============================] - 1s 7ms/step - loss: 1.2149 - accuracy: 0.9270 - val_loss: 5.6677 - val_accuracy: 0.6765\n",
            "Epoch 5/10\n",
            "200/200 [==============================] - 2s 8ms/step - loss: 1.0868 - accuracy: 0.9348 - val_loss: 5.4575 - val_accuracy: 0.6765\n",
            "Epoch 6/10\n",
            "200/200 [==============================] - 1s 7ms/step - loss: 1.0125 - accuracy: 0.9387 - val_loss: 5.3471 - val_accuracy: 0.6765\n",
            "Epoch 7/10\n",
            "200/200 [==============================] - 1s 7ms/step - loss: 1.1293 - accuracy: 0.9326 - val_loss: 5.2471 - val_accuracy: 0.6765\n",
            "Epoch 8/10\n",
            "200/200 [==============================] - 2s 8ms/step - loss: 1.0040 - accuracy: 0.9391 - val_loss: 5.2799 - val_accuracy: 0.6765\n",
            "Epoch 9/10\n",
            "200/200 [==============================] - 2s 8ms/step - loss: 0.9798 - accuracy: 0.9406 - val_loss: 5.4262 - val_accuracy: 0.6765\n",
            "Epoch 10/10\n",
            "200/200 [==============================] - 2s 8ms/step - loss: 0.9876 - accuracy: 0.9401 - val_loss: 5.3533 - val_accuracy: 0.6765\n",
            "Epoch 1/10\n",
            "200/200 [==============================] - 2s 8ms/step - loss: 2.1634 - accuracy: 0.8685 - val_loss: 5.6462 - val_accuracy: 0.6765\n",
            "Epoch 2/10\n",
            "200/200 [==============================] - 1s 7ms/step - loss: 1.6032 - accuracy: 0.9023 - val_loss: 5.6079 - val_accuracy: 0.6618\n",
            "Epoch 3/10\n",
            "200/200 [==============================] - 2s 8ms/step - loss: 1.5758 - accuracy: 0.9039 - val_loss: 5.6053 - val_accuracy: 0.6765\n",
            "Epoch 4/10\n",
            "200/200 [==============================] - 2s 8ms/step - loss: 1.5938 - accuracy: 0.9028 - val_loss: 5.9520 - val_accuracy: 0.6324\n",
            "Epoch 5/10\n",
            "200/200 [==============================] - 2s 8ms/step - loss: 1.5706 - accuracy: 0.9042 - val_loss: 5.8241 - val_accuracy: 0.6471\n",
            "Epoch 6/10\n",
            "200/200 [==============================] - 2s 8ms/step - loss: 1.5935 - accuracy: 0.9027 - val_loss: 5.9063 - val_accuracy: 0.6324\n",
            "Epoch 7/10\n",
            "200/200 [==============================] - 2s 8ms/step - loss: 1.5764 - accuracy: 0.9038 - val_loss: 5.9223 - val_accuracy: 0.6324\n",
            "Epoch 8/10\n",
            "200/200 [==============================] - 2s 8ms/step - loss: 1.5923 - accuracy: 0.9029 - val_loss: 6.0778 - val_accuracy: 0.6176\n",
            "Epoch 9/10\n",
            "200/200 [==============================] - 2s 8ms/step - loss: 1.5668 - accuracy: 0.9043 - val_loss: 5.9938 - val_accuracy: 0.6176\n",
            "Epoch 10/10\n",
            "200/200 [==============================] - 2s 8ms/step - loss: 1.5865 - accuracy: 0.9032 - val_loss: 6.0952 - val_accuracy: 0.6176\n",
            "Epoch 1/10\n",
            "200/200 [==============================] - 2s 8ms/step - loss: 1.9278 - accuracy: 0.8809 - val_loss: 2.1734 - val_accuracy: 0.8676\n",
            "Epoch 2/10\n",
            "200/200 [==============================] - 2s 8ms/step - loss: 1.6628 - accuracy: 0.8969 - val_loss: 2.2185 - val_accuracy: 0.8529\n",
            "Epoch 3/10\n",
            "200/200 [==============================] - 2s 8ms/step - loss: 1.6340 - accuracy: 0.8987 - val_loss: 2.1752 - val_accuracy: 0.8676\n",
            "Epoch 4/10\n",
            "200/200 [==============================] - 2s 8ms/step - loss: 1.6353 - accuracy: 0.8986 - val_loss: 2.2682 - val_accuracy: 0.8529\n",
            "Epoch 5/10\n",
            "200/200 [==============================] - 2s 8ms/step - loss: 1.6409 - accuracy: 0.8982 - val_loss: 2.2570 - val_accuracy: 0.8529\n",
            "Epoch 6/10\n",
            "200/200 [==============================] - 2s 8ms/step - loss: 1.6425 - accuracy: 0.8981 - val_loss: 2.2322 - val_accuracy: 0.8676\n",
            "Epoch 7/10\n",
            "200/200 [==============================] - 1s 7ms/step - loss: 1.6331 - accuracy: 0.8987 - val_loss: 2.2314 - val_accuracy: 0.8676\n",
            "Epoch 8/10\n",
            "200/200 [==============================] - 1s 7ms/step - loss: 1.6399 - accuracy: 0.8983 - val_loss: 2.1771 - val_accuracy: 0.8676\n",
            "Epoch 9/10\n",
            "200/200 [==============================] - 2s 8ms/step - loss: 1.6343 - accuracy: 0.8986 - val_loss: 2.1806 - val_accuracy: 0.8676\n",
            "Epoch 10/10\n",
            "200/200 [==============================] - 1s 7ms/step - loss: 1.6257 - accuracy: 0.8992 - val_loss: 2.3146 - val_accuracy: 0.8529\n",
            "Epoch 1/10\n",
            "200/200 [==============================] - 2s 8ms/step - loss: 1.6989 - accuracy: 0.8949 - val_loss: 5.9258 - val_accuracy: 0.6471\n",
            "Epoch 2/10\n",
            "200/200 [==============================] - 2s 8ms/step - loss: 1.3492 - accuracy: 0.9164 - val_loss: 4.9705 - val_accuracy: 0.6912\n",
            "Epoch 3/10\n",
            "200/200 [==============================] - 1s 7ms/step - loss: 1.3569 - accuracy: 0.9159 - val_loss: 5.4523 - val_accuracy: 0.6618\n",
            "Epoch 4/10\n",
            "200/200 [==============================] - 2s 8ms/step - loss: 1.3653 - accuracy: 0.9153 - val_loss: 5.3307 - val_accuracy: 0.6765\n",
            "Epoch 5/10\n",
            "200/200 [==============================] - 2s 8ms/step - loss: 1.2344 - accuracy: 0.9235 - val_loss: 4.4303 - val_accuracy: 0.7206\n",
            "Epoch 6/10\n",
            "200/200 [==============================] - 2s 8ms/step - loss: 1.0503 - accuracy: 0.9350 - val_loss: 4.5471 - val_accuracy: 0.7206\n",
            "Epoch 7/10\n",
            "200/200 [==============================] - 1s 7ms/step - loss: 1.0377 - accuracy: 0.9357 - val_loss: 4.5222 - val_accuracy: 0.7059\n",
            "Epoch 8/10\n",
            "200/200 [==============================] - 2s 8ms/step - loss: 0.9823 - accuracy: 0.9392 - val_loss: 4.7507 - val_accuracy: 0.7059\n",
            "Epoch 9/10\n",
            "200/200 [==============================] - 2s 8ms/step - loss: 1.0398 - accuracy: 0.9357 - val_loss: 4.7191 - val_accuracy: 0.7206\n",
            "Epoch 10/10\n",
            "200/200 [==============================] - 1s 7ms/step - loss: 1.0925 - accuracy: 0.9323 - val_loss: 4.8050 - val_accuracy: 0.6912\n"
          ],
          "name": "stdout"
        },
        {
          "output_type": "stream",
          "text": [
            "/usr/local/lib/python3.6/dist-packages/ipykernel_launcher.py:77: DeprecationWarning: The default dtype for empty Series will be 'object' instead of 'float64' in a future version. Specify a dtype explicitly to silence this warning.\n",
            "/usr/local/lib/python3.6/dist-packages/ipykernel_launcher.py:78: DeprecationWarning: The default dtype for empty Series will be 'object' instead of 'float64' in a future version. Specify a dtype explicitly to silence this warning.\n"
          ],
          "name": "stderr"
        },
        {
          "output_type": "stream",
          "text": [
            "Total accuracy: 69.2176143651133\n"
          ],
          "name": "stdout"
        },
        {
          "output_type": "display_data",
          "data": {
            "image/png": "[encoded data removed]",
            "text/plain": [
              "<Figure size 432x288 with 2 Axes>"
            ]
          },
          "metadata": {
            "tags": []
          }
        },
        {
          "output_type": "display_data",
          "data": {
            "image/png": "[encoded data removed]",
            "text/plain": [
              "<Figure size 720x576 with 1 Axes>"
            ]
          },
          "metadata": {
            "tags": []
          }
        }
      ]
    },
    {
      "cell_type": "code",
      "metadata": {
        "id": "VXWEm8A8dKac",
        "colab_type": "code",
        "outputId": "4d8f9219-e0ec-4ffb-962b-efb5d877cf9a",
        "colab": {
          "base_uri": "https://localhost:8080/",
          "height": 828
        }
      },
      "source": [
        "# CNN walk-forward model\n",
        "\n",
        "# ticker = next(it)\n",
        "# ticker = 'BTC'\n",
        "print(\"Ticker\",ticker)\n",
        "data_dir = glob.glob(processed_data_dir+ticker+\"_processed.csv\")[0]\n",
        "df = pd.read_csv(data_dir)\n",
        "df['12_100EMA'] = df['12EMA'] / df['100EMA'] \n",
        "df['50_100EMA'] = df['50EMA'] / df['100EMA'] \n",
        "features_considered  = ['close', 'high', 'low', 'open', 'volumeto',\n",
        "      '12_100EMA','50_100EMA', '100EMA', 'minusDI',\n",
        "      'plusDI', 'MACD', 'RSI', 'StoOsci', 'StoOsci_signal',\n",
        "      'BB_hband', 'BB_lband', 'ATR', 'ADI', 'MFI']\n",
        "\n",
        "features, outcome = preprocess_dataframe(df, features_considered)\n",
        "predictions, y_truth, histories,recalc_dates = make_walkforward_transfer_CNN_model(features, outcome)\n",
        "get_accuracy_eval(df, predictions, y_truth, histories,recalc_dates)"
      ],
      "execution_count": 66,
      "outputs": [
        {
          "output_type": "stream",
          "text": [
            "Ticker BTC\n"
          ],
          "name": "stdout"
        },
        {
          "output_type": "stream",
          "text": [
            "/usr/local/lib/python3.6/dist-packages/ipykernel_launcher.py:74: DeprecationWarning: The default dtype for empty Series will be 'object' instead of 'float64' in a future version. Specify a dtype explicitly to silence this warning.\n",
            "/usr/local/lib/python3.6/dist-packages/ipykernel_launcher.py:75: DeprecationWarning: The default dtype for empty Series will be 'object' instead of 'float64' in a future version. Specify a dtype explicitly to silence this warning.\n"
          ],
          "name": "stderr"
        },
        {
          "output_type": "stream",
          "text": [
            "Total accuracy: 64.98503634031637\n"
          ],
          "name": "stdout"
        },
        {
          "output_type": "display_data",
          "data": {
            "image/png": "[encoded data removed]",
            "text/plain": [
              "<Figure size 432x288 with 2 Axes>"
            ]
          },
          "metadata": {
            "tags": []
          }
        },
        {
          "output_type": "display_data",
          "data": {
            "image/png": "[encoded data removed]",
            "text/plain": [
              "<Figure size 720x576 with 1 Axes>"
            ]
          },
          "metadata": {
            "tags": []
          }
        }
      ]
    },
    {
      "cell_type": "markdown",
      "metadata": {
        "id": "f6iIrECpkmiZ",
        "colab_type": "text"
      },
      "source": [
        "## Transfer learning from other cryptos"
      ]
    },
    {
      "cell_type": "code",
      "metadata": {
        "id": "dCO9xphtk-yI",
        "colab_type": "code",
        "colab": {}
      },
      "source": [
        "def make_walkforward_transfer_model2(features, outcome, model = None):\n",
        "  # try:\n",
        "  recalc_dates = features.resample('6M').mean().index.values[1:-1]\n",
        "  models = pd.Series(index=recalc_dates, dtype = 'object')\n",
        "  histories = pd.Series(index=recalc_dates, dtype = 'object')\n",
        "  past_history = PAST_HISTORY\n",
        "  first_run = True\n",
        "  prev_date = None\n",
        "  for date in recalc_dates:\n",
        "    x_dataset = features.loc[slice(date-pd.Timedelta('270 days'),date)]\n",
        "    y_dataset = outcome.loc[slice(date-pd.Timedelta('270 days'),date)]\n",
        "    x_dataset = preprocess_features(x_dataset)\n",
        "    y_dataset = preprocess_outcome(y_dataset)\n",
        "    train_split_idx = int(x_dataset.shape[0]*0.75)\n",
        "    x_train, y_train  = multivariate_data(dataset = x_dataset, target = y_dataset,\n",
        "                                    start_index = 0, end_index = train_split_idx, \n",
        "                                    history_size = past_history,\n",
        "                                    )\n",
        "    x_val, y_val  = multivariate_data(dataset = x_dataset, target = y_dataset,\n",
        "                                    start_index = train_split_idx-past_history, \n",
        "                                      end_index = None, \n",
        "                                    history_size = past_history,\n",
        "                                    )\n",
        "    train_data_single = tf.data.Dataset.from_tensor_slices((x_train, y_train))\n",
        "    train_data_single = train_data_single.cache().shuffle(BUFFER_SIZE).batch(BATCH_SIZE).repeat()\n",
        "    val_data_single = tf.data.Dataset.from_tensor_slices((x_val, y_val))\n",
        "    val_data_single = val_data_single.batch(BATCH_SIZE).repeat()\n",
        "    # create model\n",
        "    if first_run == True:\n",
        "      if model == None:\n",
        "        model = create_model(x_train)\n",
        "      else:\n",
        "        model = model\n",
        "      first_run = False\n",
        "    else:\n",
        "      model = models[prev_date]\n",
        "    prev_date = date\n",
        "    # train model\n",
        "    model, history = fit_model(model,train_data_single,val_data_single)\n",
        "    models.loc[date] = model\n",
        "    histories.loc[date] = history\n",
        "\n",
        "  begin_dates, end_dates = get_begin_end_dates(features,models,past_history)\n",
        "\n",
        "  ## Generate OUT OF SAMPLE walk-forward predictions\n",
        "  predictions = pd.Series(index=features.index)\n",
        "  y_truth = pd.Series(index=features.index)\n",
        "\n",
        "  for i,model in enumerate(models): #loop thru each models object in collection\n",
        "    #         print(f'Using model trained on {begin_dates[i]}, Predict from: {begin_dates[i]} to: {end_dates[i]}')\n",
        "    # print(i,begin_dates[i],end_dates[i])\n",
        "    x_dataset = features.loc[slice(begin_dates[i],end_dates[i])]\n",
        "    y_dataset = outcome.loc[slice(begin_dates[i],end_dates[i])]\n",
        "    # Skip if number of observations input not enough\n",
        "    if x_dataset.shape[0] < past_history:\n",
        "      continue\n",
        "    index = x_dataset.index[past_history:]\n",
        "    # print(index)\n",
        "    x_dataset = preprocess_features(x_dataset)\n",
        "    y_dataset = preprocess_outcome(y_dataset)\n",
        "    train_split_idx = int(x_dataset.shape[0]*1)\n",
        "    x_val, y_val  = multivariate_data(dataset = x_dataset, target = y_dataset,\n",
        "                                    start_index = 0, end_index = train_split_idx, \n",
        "                                    history_size = past_history,\n",
        "                                    )\n",
        "\n",
        "    prediction = model_predict(model, x_val)\n",
        "    # print(i,prediction)\n",
        "    p = pd.Series(prediction,index=index)\n",
        "    predictions.loc[index] = p\n",
        "    y_true = transform_y(y_val)\n",
        "    y_truth.loc[index] = y_true\n",
        "  # except:\n",
        "  #   print(\"error occured\")\n",
        "  #   predictions = []\n",
        "  #   y_truth = []\n",
        "\n",
        "  return predictions, y_truth, model"
      ],
      "execution_count": 0,
      "outputs": []
    },
    {
      "cell_type": "code",
      "metadata": {
        "id": "qfvdLrr5ngMT",
        "colab_type": "code",
        "colab": {}
      },
      "source": [
        "tickers2 = ['ETH', 'DOGE', 'USDT', 'DASH', \"NMC\", \"PPC\", \"NVC\", \"TRC\", \"FRC\", \"FTC\", \"IXC\", \"WDC\", \"BTB\"]\n",
        "initial_ticker = 'LTC'"
      ],
      "execution_count": 0,
      "outputs": []
    },
    {
      "cell_type": "code",
      "metadata": {
        "id": "nSXK_ivOoidE",
        "colab_type": "code",
        "outputId": "7c9dc9d3-6462-4937-d5f8-568ab6226a1a",
        "colab": {
          "base_uri": "https://localhost:8080/",
          "height": 292
        }
      },
      "source": [
        "print(\"Now appending\",initial_ticker)\n",
        "data_dir = glob.glob(processed_data_dir+initial_ticker+\"_processed.csv\")[0]\n",
        "df = pd.read_csv(data_dir)\n",
        "df['12_100EMA'] = df['12EMA'] / df['100EMA'] \n",
        "df['50_100EMA'] = df['50EMA'] / df['100EMA'] \n",
        "features, outcome = preprocess_dataframe(df, features_considered)\n",
        "predictions, y_truth, model = make_walkforward_transfer_model2(features, outcome)"
      ],
      "execution_count": 0,
      "outputs": [
        {
          "output_type": "stream",
          "text": [
            "Now appending LTC\n",
            "200/200 [==============================] - 1s 7ms/step - loss: 0.4506 - accuracy: 0.8195 - val_loss: 3.9338 - val_accuracy: 0.4565\n",
            "200/200 [==============================] - 1s 4ms/step - loss: 0.6803 - accuracy: 0.7829 - val_loss: 1.5664 - val_accuracy: 0.6324\n",
            "200/200 [==============================] - 1s 4ms/step - loss: 0.4138 - accuracy: 0.8249 - val_loss: 1.5781 - val_accuracy: 0.3235\n",
            "200/200 [==============================] - 1s 4ms/step - loss: 0.4273 - accuracy: 0.8588 - val_loss: 2.9724 - val_accuracy: 0.4265\n",
            "200/200 [==============================] - 1s 4ms/step - loss: 0.4374 - accuracy: 0.8328 - val_loss: 2.1616 - val_accuracy: 0.2941\n",
            "200/200 [==============================] - 1s 4ms/step - loss: 0.3791 - accuracy: 0.8531 - val_loss: 2.4652 - val_accuracy: 0.4118\n",
            "200/200 [==============================] - 1s 4ms/step - loss: 0.3873 - accuracy: 0.8812 - val_loss: 2.0176 - val_accuracy: 0.3971\n",
            "200/200 [==============================] - 1s 4ms/step - loss: 0.5095 - accuracy: 0.8076 - val_loss: 1.7917 - val_accuracy: 0.4118\n",
            "200/200 [==============================] - 1s 4ms/step - loss: 0.3084 - accuracy: 0.9035 - val_loss: 2.6789 - val_accuracy: 0.3529\n",
            "200/200 [==============================] - 1s 4ms/step - loss: 0.3936 - accuracy: 0.8723 - val_loss: 2.4540 - val_accuracy: 0.3382\n",
            "200/200 [==============================] - 1s 4ms/step - loss: 0.5475 - accuracy: 0.7948 - val_loss: 1.4733 - val_accuracy: 0.6176\n",
            "200/200 [==============================] - 1s 4ms/step - loss: 0.3080 - accuracy: 0.8929 - val_loss: 2.2715 - val_accuracy: 0.3382\n"
          ],
          "name": "stdout"
        },
        {
          "output_type": "stream",
          "text": [
            "/usr/local/lib/python3.6/dist-packages/ipykernel_launcher.py:46: DeprecationWarning: The default dtype for empty Series will be 'object' instead of 'float64' in a future version. Specify a dtype explicitly to silence this warning.\n",
            "/usr/local/lib/python3.6/dist-packages/ipykernel_launcher.py:47: DeprecationWarning: The default dtype for empty Series will be 'object' instead of 'float64' in a future version. Specify a dtype explicitly to silence this warning.\n"
          ],
          "name": "stderr"
        }
      ]
    },
    {
      "cell_type": "code",
      "metadata": {
        "id": "mX86m5j4ktVP",
        "colab_type": "code",
        "outputId": "8ac8cd26-ca46-4276-9416-e30d218bbf82",
        "colab": {
          "base_uri": "https://localhost:8080/",
          "height": 1000
        }
      },
      "source": [
        "for ticker in tickers2:\n",
        "  if ticker == 'BTC':\n",
        "    print(\"Skipping BTC\")\n",
        "    continue\n",
        "    print(\"double check: skipping BTC\")\n",
        "\n",
        "  print(\"Now appending\",ticker)\n",
        "  data_dir = glob.glob(processed_data_dir+ticker+\"_processed.csv\")[0]\n",
        "  df = pd.read_csv(data_dir)\n",
        "  df['12_100EMA'] = df['12EMA'] / df['100EMA'] \n",
        "  df['50_100EMA'] = df['50EMA'] / df['100EMA'] \n",
        "  features, outcome = preprocess_dataframe(df, features_considered)\n",
        "  try:\n",
        "    _, _, model = make_walkforward_transfer_model2(features, outcome, model)\n",
        "  except:\n",
        "    continue"
      ],
      "execution_count": 0,
      "outputs": [
        {
          "output_type": "stream",
          "text": [
            "Now appending ETH\n",
            "200/200 [==============================] - 1s 4ms/step - loss: nan - accuracy: 0.6815 - val_loss: nan - val_accuracy: 0.6200\n",
            "200/200 [==============================] - 1s 4ms/step - loss: nan - accuracy: 0.4734 - val_loss: nan - val_accuracy: 0.1471\n",
            "200/200 [==============================] - 1s 4ms/step - loss: nan - accuracy: 0.5319 - val_loss: nan - val_accuracy: 0.8676\n",
            "200/200 [==============================] - 1s 4ms/step - loss: nan - accuracy: 0.6649 - val_loss: nan - val_accuracy: 0.5441\n",
            "200/200 [==============================] - 1s 4ms/step - loss: nan - accuracy: 0.4574 - val_loss: nan - val_accuracy: 0.4706\n",
            "200/200 [==============================] - 1s 4ms/step - loss: nan - accuracy: 0.2394 - val_loss: nan - val_accuracy: 0.1618\n",
            "200/200 [==============================] - 1s 4ms/step - loss: nan - accuracy: 0.3351 - val_loss: nan - val_accuracy: 0.7500\n",
            "200/200 [==============================] - 1s 4ms/step - loss: nan - accuracy: 0.4415 - val_loss: nan - val_accuracy: 0.2647\n"
          ],
          "name": "stdout"
        },
        {
          "output_type": "stream",
          "text": [
            "/usr/local/lib/python3.6/dist-packages/ipykernel_launcher.py:46: DeprecationWarning: The default dtype for empty Series will be 'object' instead of 'float64' in a future version. Specify a dtype explicitly to silence this warning.\n",
            "/usr/local/lib/python3.6/dist-packages/ipykernel_launcher.py:47: DeprecationWarning: The default dtype for empty Series will be 'object' instead of 'float64' in a future version. Specify a dtype explicitly to silence this warning.\n"
          ],
          "name": "stderr"
        },
        {
          "output_type": "stream",
          "text": [
            "Now appending DOGE\n",
            "200/200 [==============================] - 1s 4ms/step - loss: nan - accuracy: 0.2986 - val_loss: nan - val_accuracy: 0.1509\n",
            "200/200 [==============================] - 1s 4ms/step - loss: nan - accuracy: 0.3511 - val_loss: nan - val_accuracy: 0.0588\n",
            "200/200 [==============================] - 1s 4ms/step - loss: nan - accuracy: 0.2713 - val_loss: nan - val_accuracy: 0.3971\n",
            "200/200 [==============================] - 1s 4ms/step - loss: nan - accuracy: 0.3989 - val_loss: nan - val_accuracy: 0.1765\n",
            "200/200 [==============================] - 1s 4ms/step - loss: nan - accuracy: 0.1862 - val_loss: nan - val_accuracy: 0.4412\n",
            "200/200 [==============================] - 1s 4ms/step - loss: nan - accuracy: 0.5691 - val_loss: nan - val_accuracy: 0.2941\n",
            "200/200 [==============================] - 1s 4ms/step - loss: nan - accuracy: 0.5479 - val_loss: nan - val_accuracy: 0.1618\n",
            "200/200 [==============================] - 1s 4ms/step - loss: nan - accuracy: 0.2500 - val_loss: nan - val_accuracy: 0.4265\n",
            "200/200 [==============================] - 1s 4ms/step - loss: nan - accuracy: 0.2287 - val_loss: nan - val_accuracy: 0.3382\n",
            "200/200 [==============================] - 1s 4ms/step - loss: nan - accuracy: 0.3883 - val_loss: nan - val_accuracy: 0.1618\n",
            "Now appending USDT\n",
            "200/200 [==============================] - 1s 4ms/step - loss: nan - accuracy: 0.0000e+00 - val_loss: nan - val_accuracy: 0.0000e+00\n",
            "200/200 [==============================] - 1s 4ms/step - loss: nan - accuracy: 0.4889 - val_loss: nan - val_accuracy: 0.4000\n",
            " 44/200 [=====>........................] - ETA: 0s - loss: nan - accuracy: 0.1220"
          ],
          "name": "stdout"
        },
        {
          "output_type": "stream",
          "text": [
            "/usr/local/lib/python3.6/dist-packages/numpy/core/_methods.py:193: RuntimeWarning: invalid value encountered in subtract\n",
            "  x = asanyarray(arr - arrmean)\n",
            "/usr/local/lib/python3.6/dist-packages/ipykernel_launcher.py:9: RuntimeWarning: invalid value encountered in subtract\n",
            "  if __name__ == '__main__':\n"
          ],
          "name": "stderr"
        },
        {
          "output_type": "stream",
          "text": [
            "200/200 [==============================] - 1s 4ms/step - loss: nan - accuracy: 0.1220 - val_loss: nan - val_accuracy: 0.0000e+00\n",
            " 44/200 [=====>........................] - ETA: 0s - loss: nan - accuracy: 0.1724"
          ],
          "name": "stdout"
        },
        {
          "output_type": "stream",
          "text": [
            "/usr/local/lib/python3.6/dist-packages/numpy/lib/function_base.py:1269: RuntimeWarning: invalid value encountered in subtract\n",
            "  a = op(a[slice1], a[slice2])\n"
          ],
          "name": "stderr"
        },
        {
          "output_type": "stream",
          "text": [
            "200/200 [==============================] - 1s 4ms/step - loss: nan - accuracy: 0.1724 - val_loss: nan - val_accuracy: 0.0938\n",
            "200/200 [==============================] - 1s 4ms/step - loss: nan - accuracy: 0.0621 - val_loss: nan - val_accuracy: 0.1094\n",
            "200/200 [==============================] - 1s 4ms/step - loss: nan - accuracy: 0.0588 - val_loss: nan - val_accuracy: 0.0000e+00\n",
            "200/200 [==============================] - 1s 4ms/step - loss: nan - accuracy: 0.0000e+00 - val_loss: nan - val_accuracy: 0.0408\n",
            "200/200 [==============================] - 1s 4ms/step - loss: nan - accuracy: 0.0270 - val_loss: nan - val_accuracy: 0.0000e+00\n",
            "200/200 [==============================] - 1s 4ms/step - loss: nan - accuracy: 0.0000e+00 - val_loss: nan - val_accuracy: 0.0000e+00\n",
            "Now appending DASH\n",
            "200/200 [==============================] - 1s 4ms/step - loss: nan - accuracy: 0.2991 - val_loss: nan - val_accuracy: 0.5682\n",
            "200/200 [==============================] - 1s 4ms/step - loss: nan - accuracy: 0.4971 - val_loss: nan - val_accuracy: 0.3016\n",
            "200/200 [==============================] - 1s 4ms/step - loss: nan - accuracy: 0.3670 - val_loss: nan - val_accuracy: 0.2647\n",
            "200/200 [==============================] - 1s 4ms/step - loss: nan - accuracy: 0.4787 - val_loss: nan - val_accuracy: 0.5588\n",
            "200/200 [==============================] - 1s 4ms/step - loss: nan - accuracy: 0.5426 - val_loss: nan - val_accuracy: 0.0882\n",
            "200/200 [==============================] - 1s 4ms/step - loss: nan - accuracy: 0.5585 - val_loss: nan - val_accuracy: 0.4706\n",
            "200/200 [==============================] - 1s 4ms/step - loss: nan - accuracy: 0.6223 - val_loss: nan - val_accuracy: 0.4412\n",
            "200/200 [==============================] - 1s 4ms/step - loss: nan - accuracy: 0.3777 - val_loss: nan - val_accuracy: 0.3676\n",
            "200/200 [==============================] - 1s 4ms/step - loss: nan - accuracy: 0.2606 - val_loss: nan - val_accuracy: 0.0882\n",
            "200/200 [==============================] - 1s 4ms/step - loss: nan - accuracy: 0.2979 - val_loss: nan - val_accuracy: 0.6618\n",
            "200/200 [==============================] - 1s 4ms/step - loss: nan - accuracy: 0.3883 - val_loss: nan - val_accuracy: 0.1765\n",
            "Now appending NMC\n",
            "200/200 [==============================] - 1s 4ms/step - loss: nan - accuracy: 0.2857 - val_loss: nan - val_accuracy: 0.0800\n",
            "200/200 [==============================] - 1s 4ms/step - loss: nan - accuracy: 0.1968 - val_loss: nan - val_accuracy: 0.1912\n",
            "200/200 [==============================] - 1s 4ms/step - loss: nan - accuracy: 0.2128 - val_loss: nan - val_accuracy: 0.2941\n",
            "200/200 [==============================] - 1s 4ms/step - loss: nan - accuracy: 0.2979 - val_loss: nan - val_accuracy: 0.2500\n",
            "200/200 [==============================] - 1s 4ms/step - loss: nan - accuracy: 0.2340 - val_loss: nan - val_accuracy: 0.1029\n",
            "200/200 [==============================] - 1s 4ms/step - loss: nan - accuracy: 0.1330 - val_loss: nan - val_accuracy: 0.5588\n",
            "200/200 [==============================] - 1s 4ms/step - loss: nan - accuracy: 0.6702 - val_loss: nan - val_accuracy: 0.3529\n",
            "200/200 [==============================] - 1s 4ms/step - loss: nan - accuracy: 0.4362 - val_loss: nan - val_accuracy: 0.3529\n",
            "200/200 [==============================] - 1s 4ms/step - loss: nan - accuracy: 0.2819 - val_loss: nan - val_accuracy: 0.1618\n",
            "200/200 [==============================] - 1s 4ms/step - loss: nan - accuracy: 0.2394 - val_loss: nan - val_accuracy: 0.3824\n",
            "200/200 [==============================] - 1s 4ms/step - loss: nan - accuracy: 0.5213 - val_loss: nan - val_accuracy: 0.3676\n",
            "200/200 [==============================] - 1s 4ms/step - loss: nan - accuracy: 0.2926 - val_loss: nan - val_accuracy: 0.5294\n",
            "Now appending PPC\n",
            "200/200 [==============================] - 1s 4ms/step - loss: nan - accuracy: 0.3214 - val_loss: nan - val_accuracy: 0.6731\n",
            "200/200 [==============================] - 1s 4ms/step - loss: nan - accuracy: 0.3936 - val_loss: nan - val_accuracy: 0.3235\n",
            "200/200 [==============================] - 1s 4ms/step - loss: nan - accuracy: 0.2872 - val_loss: nan - val_accuracy: 0.3529\n",
            "200/200 [==============================] - 1s 4ms/step - loss: nan - accuracy: 0.1968 - val_loss: nan - val_accuracy: 0.4265\n",
            "200/200 [==============================] - 1s 4ms/step - loss: nan - accuracy: 0.6383 - val_loss: nan - val_accuracy: 0.3824\n",
            "200/200 [==============================] - 1s 4ms/step - loss: nan - accuracy: 0.3820 - val_loss: nan - val_accuracy: 0.6154\n",
            "200/200 [==============================] - 1s 4ms/step - loss: nan - accuracy: 0.4309 - val_loss: nan - val_accuracy: 0.2206\n",
            "200/200 [==============================] - 1s 4ms/step - loss: nan - accuracy: 0.2234 - val_loss: nan - val_accuracy: 0.2794\n",
            "200/200 [==============================] - 1s 4ms/step - loss: nan - accuracy: 0.2896 - val_loss: nan - val_accuracy: 0.3134\n",
            "200/200 [==============================] - 1s 4ms/step - loss: nan - accuracy: 0.1809 - val_loss: nan - val_accuracy: 0.5735\n",
            "Now appending NVC\n",
            "200/200 [==============================] - 1s 4ms/step - loss: nan - accuracy: 0.3724 - val_loss: nan - val_accuracy: 0.1111\n",
            "200/200 [==============================] - 1s 5ms/step - loss: nan - accuracy: 0.1596 - val_loss: nan - val_accuracy: 0.2647\n",
            "200/200 [==============================] - 1s 4ms/step - loss: nan - accuracy: 0.2021 - val_loss: nan - val_accuracy: 0.0588\n",
            "200/200 [==============================] - 1s 4ms/step - loss: nan - accuracy: 0.1596 - val_loss: nan - val_accuracy: 0.4706\n",
            "200/200 [==============================] - 1s 4ms/step - loss: nan - accuracy: 0.5691 - val_loss: nan - val_accuracy: 0.3088\n",
            "200/200 [==============================] - 1s 4ms/step - loss: nan - accuracy: 0.3936 - val_loss: nan - val_accuracy: 0.2353\n",
            "200/200 [==============================] - 1s 4ms/step - loss: nan - accuracy: 0.2340 - val_loss: nan - val_accuracy: 0.1029\n",
            "200/200 [==============================] - 1s 4ms/step - loss: nan - accuracy: 0.2394 - val_loss: nan - val_accuracy: 0.1912\n",
            "200/200 [==============================] - 1s 4ms/step - loss: nan - accuracy: 0.4043 - val_loss: nan - val_accuracy: 0.2941\n",
            "Now appending TRC\n",
            "200/200 [==============================] - 1s 4ms/step - loss: nan - accuracy: 0.2111 - val_loss: nan - val_accuracy: 0.4167\n",
            "200/200 [==============================] - 1s 4ms/step - loss: nan - accuracy: 0.5238 - val_loss: nan - val_accuracy: 0.1667\n",
            "Now appending FRC\n"
          ],
          "name": "stdout"
        },
        {
          "output_type": "stream",
          "text": [
            "/usr/local/lib/python3.6/dist-packages/ipykernel_launcher.py:7: RuntimeWarning: Mean of empty slice.\n",
            "  import sys\n",
            "/usr/local/lib/python3.6/dist-packages/numpy/core/_methods.py:154: RuntimeWarning: invalid value encountered in true_divide\n",
            "  ret, rcount, out=ret, casting='unsafe', subok=False)\n",
            "/usr/local/lib/python3.6/dist-packages/numpy/core/_methods.py:217: RuntimeWarning: Degrees of freedom <= 0 for slice\n",
            "  keepdims=keepdims)\n",
            "/usr/local/lib/python3.6/dist-packages/numpy/core/_methods.py:186: RuntimeWarning: invalid value encountered in true_divide\n",
            "  arrmean, rcount, out=arrmean, casting='unsafe', subok=False)\n",
            "/usr/local/lib/python3.6/dist-packages/numpy/core/_methods.py:207: RuntimeWarning: invalid value encountered in true_divide\n",
            "  ret, rcount, out=ret, casting='unsafe', subok=False)\n"
          ],
          "name": "stderr"
        },
        {
          "output_type": "stream",
          "text": [
            "200/200 [==============================] - 1s 4ms/step - loss: nan - accuracy: 0.3256 - val_loss: nan - val_accuracy: 0.2245\n",
            "200/200 [==============================] - 1s 4ms/step - loss: nan - accuracy: 0.2649 - val_loss: nan - val_accuracy: 0.6866\n",
            "200/200 [==============================] - 1s 4ms/step - loss: nan - accuracy: 0.6429 - val_loss: nan - val_accuracy: 0.7917\n",
            "Now appending FTC\n",
            "200/200 [==============================] - 1s 4ms/step - loss: nan - accuracy: 0.3571 - val_loss: nan - val_accuracy: 0.5106\n",
            "200/200 [==============================] - 1s 4ms/step - loss: nan - accuracy: 0.3191 - val_loss: nan - val_accuracy: 0.3824\n",
            "200/200 [==============================] - 1s 4ms/step - loss: nan - accuracy: 0.4521 - val_loss: nan - val_accuracy: 0.1618\n",
            "200/200 [==============================] - 1s 4ms/step - loss: nan - accuracy: 0.1170 - val_loss: nan - val_accuracy: 0.2941\n",
            "200/200 [==============================] - 1s 4ms/step - loss: nan - accuracy: 0.5426 - val_loss: nan - val_accuracy: 0.5000\n",
            "200/200 [==============================] - 1s 4ms/step - loss: nan - accuracy: 0.5266 - val_loss: nan - val_accuracy: 0.6029\n",
            "200/200 [==============================] - 1s 4ms/step - loss: nan - accuracy: 0.4628 - val_loss: nan - val_accuracy: 0.2353\n",
            "200/200 [==============================] - 1s 4ms/step - loss: nan - accuracy: 0.2021 - val_loss: nan - val_accuracy: 0.2059\n",
            "200/200 [==============================] - 1s 4ms/step - loss: nan - accuracy: 0.3245 - val_loss: nan - val_accuracy: 0.3676\n",
            "200/200 [==============================] - 1s 4ms/step - loss: nan - accuracy: 0.2872 - val_loss: nan - val_accuracy: 0.3529\n",
            "Now appending IXC\n",
            "200/200 [==============================] - 1s 4ms/step - loss: nan - accuracy: 0.3551 - val_loss: nan - val_accuracy: 0.3137\n",
            "200/200 [==============================] - 1s 4ms/step - loss: nan - accuracy: 0.4359 - val_loss: nan - val_accuracy: 0.5556\n",
            "Now appending WDC\n",
            "200/200 [==============================] - 1s 4ms/step - loss: nan - accuracy: 0.2344 - val_loss: nan - val_accuracy: 0.7083\n",
            "200/200 [==============================] - 1s 4ms/step - loss: nan - accuracy: 0.3032 - val_loss: nan - val_accuracy: 0.4559\n",
            "200/200 [==============================] - 1s 4ms/step - loss: nan - accuracy: 0.3670 - val_loss: nan - val_accuracy: 0.2941\n",
            "200/200 [==============================] - 1s 4ms/step - loss: nan - accuracy: 0.3138 - val_loss: nan - val_accuracy: 0.3676\n",
            "200/200 [==============================] - 1s 4ms/step - loss: nan - accuracy: 0.3300 - val_loss: nan - val_accuracy: 0.9231\n",
            "200/200 [==============================] - 1s 4ms/step - loss: nan - accuracy: 0.3121 - val_loss: nan - val_accuracy: 0.8276\n",
            "200/200 [==============================] - 1s 4ms/step - loss: nan - accuracy: 0.4149 - val_loss: nan - val_accuracy: 0.1471\n",
            "Now appending BTB\n",
            "200/200 [==============================] - 1s 4ms/step - loss: nan - accuracy: 0.5702 - val_loss: nan - val_accuracy: 0.1591\n",
            "200/200 [==============================] - 1s 4ms/step - loss: nan - accuracy: 0.2889 - val_loss: nan - val_accuracy: 0.4242\n",
            "200/200 [==============================] - 1s 4ms/step - loss: nan - accuracy: 0.3333 - val_loss: nan - val_accuracy: 0.7500\n"
          ],
          "name": "stdout"
        }
      ]
    },
    {
      "cell_type": "markdown",
      "metadata": {
        "id": "QBqYPnXXqHRw",
        "colab_type": "text"
      },
      "source": [
        "### Putting model into BTC"
      ]
    },
    {
      "cell_type": "code",
      "metadata": {
        "colab_type": "code",
        "outputId": "2c248131-d552-4b7a-d7fa-2e219e49586b",
        "id": "cBRJKPhuqE7c",
        "colab": {
          "base_uri": "https://localhost:8080/",
          "height": 224
        }
      },
      "source": [
        "ticker = 'BTC'\n",
        "# ticker = 'SPX'\n",
        "data_dir = glob.glob(processed_data_dir+ticker+\"_processed.csv\")[0]\n",
        "df = pd.read_csv(data_dir)\n",
        "df.head()"
      ],
      "execution_count": 0,
      "outputs": [
        {
          "output_type": "execute_result",
          "data": {
            "text/html": [
              "<div>\n",
              "<style scoped>\n",
              "    .dataframe tbody tr th:only-of-type {\n",
              "        vertical-align: middle;\n",
              "    }\n",
              "\n",
              "    .dataframe tbody tr th {\n",
              "        vertical-align: top;\n",
              "    }\n",
              "\n",
              "    .dataframe thead th {\n",
              "        text-align: right;\n",
              "    }\n",
              "</style>\n",
              "<table border=\"1\" class=\"dataframe\">\n",
              "  <thead>\n",
              "    <tr style=\"text-align: right;\">\n",
              "      <th></th>\n",
              "      <th>time</th>\n",
              "      <th>close</th>\n",
              "      <th>high</th>\n",
              "      <th>low</th>\n",
              "      <th>open</th>\n",
              "      <th>volumefrom</th>\n",
              "      <th>volumeto</th>\n",
              "      <th>ret_holding</th>\n",
              "      <th>15SMA</th>\n",
              "      <th>SMA_ret_holding1</th>\n",
              "      <th>buy_signal</th>\n",
              "      <th>sell_signal</th>\n",
              "      <th>hold_signal</th>\n",
              "      <th>close_ret</th>\n",
              "      <th>12EMA</th>\n",
              "      <th>50EMA</th>\n",
              "      <th>100EMA</th>\n",
              "      <th>minusDI</th>\n",
              "      <th>plusDI</th>\n",
              "      <th>MACD</th>\n",
              "      <th>RSI</th>\n",
              "      <th>StoOsci</th>\n",
              "      <th>StoOsci_signal</th>\n",
              "      <th>BB_hband</th>\n",
              "      <th>BB_lband</th>\n",
              "      <th>ATR</th>\n",
              "      <th>ADI</th>\n",
              "      <th>MFI</th>\n",
              "    </tr>\n",
              "  </thead>\n",
              "  <tbody>\n",
              "    <tr>\n",
              "      <th>0</th>\n",
              "      <td>4/11/2013</td>\n",
              "      <td>124.90</td>\n",
              "      <td>188.7</td>\n",
              "      <td>110.20</td>\n",
              "      <td>165.0</td>\n",
              "      <td>118747.72</td>\n",
              "      <td>18867223.23</td>\n",
              "      <td>-0.063251</td>\n",
              "      <td>137.955591</td>\n",
              "      <td>-0.018988</td>\n",
              "      <td>0</td>\n",
              "      <td>1</td>\n",
              "      <td>0</td>\n",
              "      <td>-0.243030</td>\n",
              "      <td>145.284333</td>\n",
              "      <td>87.712684</td>\n",
              "      <td>60.798513</td>\n",
              "      <td>19.204489</td>\n",
              "      <td>28.229613</td>\n",
              "      <td>2.618666</td>\n",
              "      <td>52.534220</td>\n",
              "      <td>12.516431</td>\n",
              "      <td>30.091575</td>\n",
              "      <td>213.472003</td>\n",
              "      <td>60.737997</td>\n",
              "      <td>30.593601</td>\n",
              "      <td>1.095791e+08</td>\n",
              "      <td>62.609170</td>\n",
              "    </tr>\n",
              "    <tr>\n",
              "      <th>1</th>\n",
              "      <td>4/12/2013</td>\n",
              "      <td>117.00</td>\n",
              "      <td>140.0</td>\n",
              "      <td>54.25</td>\n",
              "      <td>124.9</td>\n",
              "      <td>556468.03</td>\n",
              "      <td>47619189.45</td>\n",
              "      <td>-0.205128</td>\n",
              "      <td>135.336142</td>\n",
              "      <td>-0.039103</td>\n",
              "      <td>0</td>\n",
              "      <td>1</td>\n",
              "      <td>0</td>\n",
              "      <td>-0.063251</td>\n",
              "      <td>140.932898</td>\n",
              "      <td>88.861206</td>\n",
              "      <td>61.911414</td>\n",
              "      <td>27.806557</td>\n",
              "      <td>22.955601</td>\n",
              "      <td>-1.440933</td>\n",
              "      <td>50.594625</td>\n",
              "      <td>-29.038179</td>\n",
              "      <td>-2.600867</td>\n",
              "      <td>211.884738</td>\n",
              "      <td>66.110976</td>\n",
              "      <td>34.533343</td>\n",
              "      <td>1.316533e+08</td>\n",
              "      <td>52.254324</td>\n",
              "    </tr>\n",
              "    <tr>\n",
              "      <th>2</th>\n",
              "      <td>4/13/2013</td>\n",
              "      <td>93.00</td>\n",
              "      <td>130.0</td>\n",
              "      <td>85.50</td>\n",
              "      <td>117.0</td>\n",
              "      <td>238347.58</td>\n",
              "      <td>26277415.26</td>\n",
              "      <td>-0.032258</td>\n",
              "      <td>130.044124</td>\n",
              "      <td>-0.038491</td>\n",
              "      <td>0</td>\n",
              "      <td>1</td>\n",
              "      <td>0</td>\n",
              "      <td>-0.205128</td>\n",
              "      <td>133.558606</td>\n",
              "      <td>89.023512</td>\n",
              "      <td>62.527030</td>\n",
              "      <td>25.146848</td>\n",
              "      <td>20.759888</td>\n",
              "      <td>-5.680621</td>\n",
              "      <td>45.141858</td>\n",
              "      <td>-6.093979</td>\n",
              "      <td>-7.538576</td>\n",
              "      <td>211.795017</td>\n",
              "      <td>66.316412</td>\n",
              "      <td>35.245247</td>\n",
              "      <td>1.142335e+08</td>\n",
              "      <td>47.746081</td>\n",
              "    </tr>\n",
              "    <tr>\n",
              "      <th>3</th>\n",
              "      <td>4/14/2013</td>\n",
              "      <td>90.00</td>\n",
              "      <td>110.0</td>\n",
              "      <td>84.44</td>\n",
              "      <td>93.0</td>\n",
              "      <td>166274.96</td>\n",
              "      <td>16197017.56</td>\n",
              "      <td>-0.084556</td>\n",
              "      <td>125.038609</td>\n",
              "      <td>-0.042635</td>\n",
              "      <td>0</td>\n",
              "      <td>1</td>\n",
              "      <td>0</td>\n",
              "      <td>-0.032258</td>\n",
              "      <td>126.857282</td>\n",
              "      <td>89.061805</td>\n",
              "      <td>63.071049</td>\n",
              "      <td>23.959408</td>\n",
              "      <td>19.586011</td>\n",
              "      <td>-8.457816</td>\n",
              "      <td>44.496306</td>\n",
              "      <td>-17.387097</td>\n",
              "      <td>-17.506418</td>\n",
              "      <td>212.140937</td>\n",
              "      <td>65.537634</td>\n",
              "      <td>34.553444</td>\n",
              "      <td>1.050830e+08</td>\n",
              "      <td>45.445031</td>\n",
              "    </tr>\n",
              "    <tr>\n",
              "      <th>4</th>\n",
              "      <td>4/15/2013</td>\n",
              "      <td>82.39</td>\n",
              "      <td>102.0</td>\n",
              "      <td>71.51</td>\n",
              "      <td>90.0</td>\n",
              "      <td>236673.01</td>\n",
              "      <td>20607774.11</td>\n",
              "      <td>-0.170288</td>\n",
              "      <td>119.707533</td>\n",
              "      <td>-0.053618</td>\n",
              "      <td>0</td>\n",
              "      <td>1</td>\n",
              "      <td>0</td>\n",
              "      <td>-0.084556</td>\n",
              "      <td>120.016161</td>\n",
              "      <td>88.800166</td>\n",
              "      <td>63.453602</td>\n",
              "      <td>25.223837</td>\n",
              "      <td>18.243578</td>\n",
              "      <td>-10.447686</td>\n",
              "      <td>42.823364</td>\n",
              "      <td>-23.820312</td>\n",
              "      <td>-15.767130</td>\n",
              "      <td>214.284307</td>\n",
              "      <td>60.307122</td>\n",
              "      <td>34.263198</td>\n",
              "      <td>9.918256e+07</td>\n",
              "      <td>41.923978</td>\n",
              "    </tr>\n",
              "  </tbody>\n",
              "</table>\n",
              "</div>"
            ],
            "text/plain": [
              "        time   close   high  ...        ATR           ADI        MFI\n",
              "0  4/11/2013  124.90  188.7  ...  30.593601  1.095791e+08  62.609170\n",
              "1  4/12/2013  117.00  140.0  ...  34.533343  1.316533e+08  52.254324\n",
              "2  4/13/2013   93.00  130.0  ...  35.245247  1.142335e+08  47.746081\n",
              "3  4/14/2013   90.00  110.0  ...  34.553444  1.050830e+08  45.445031\n",
              "4  4/15/2013   82.39  102.0  ...  34.263198  9.918256e+07  41.923978\n",
              "\n",
              "[5 rows x 28 columns]"
            ]
          },
          "metadata": {
            "tags": []
          },
          "execution_count": 77
        }
      ]
    },
    {
      "cell_type": "code",
      "metadata": {
        "colab_type": "code",
        "id": "NXmCoGgfqE7w",
        "colab": {}
      },
      "source": [
        "df['12_100EMA'] = df['12EMA'] / df['100EMA'] \n",
        "df['50_100EMA'] = df['50EMA'] / df['100EMA'] \n",
        "\n",
        "# features_considered  = ['close', 'high', 'low', 'open','volumeto']\n",
        "\n",
        "# features_considered  = ['close', 'high', 'low', 'open','volumeto',\n",
        "#                         '12_100EMA','50_100EMA',\n",
        "#                         'MACD','minusDI','plusDI']\n",
        "features_considered  = ['close', 'high', 'low', 'open', 'volumeto',\n",
        "       '12_100EMA','50_100EMA', '100EMA', 'minusDI',\n",
        "       'plusDI', 'MACD', 'RSI', 'StoOsci', 'StoOsci_signal',\n",
        "       'BB_hband', 'BB_lband', 'ATR', 'ADI', 'MFI']"
      ],
      "execution_count": 0,
      "outputs": []
    },
    {
      "cell_type": "code",
      "metadata": {
        "colab_type": "code",
        "id": "DG1ucMD1qE71",
        "colab": {}
      },
      "source": [
        "def preprocess_features(features):\n",
        "  \n",
        "  x_dataset = features.values\n",
        "  train_split = int(features.shape[0]*0.75)\n",
        "\n",
        "  # standardize the dataset using the mean and standard deviation of the training data.\n",
        "  data_mean = x_dataset[:train_split].mean(axis=0)\n",
        "  data_std = x_dataset[:train_split].std(axis=0)\n",
        "  x_dataset = (x_dataset-data_mean)/data_std\n",
        "\n",
        "  # standardize the x_dataset using minmax scaler\n",
        "  # data_max = x_dataset[:train_split].max(axis=0)\n",
        "  # data_min = x_dataset[:train_split].min(axis=0)\n",
        "  # x_dataset = (x_dataset-data_min)/(data_max - data_min)\n",
        "\n",
        "  # Wavelet transform\n",
        "  coeffs, freqs = pywt.cwt(x_dataset,scales=np.arange(1,2),wavelet='morl')\n",
        "  x_dataset = coeffs.reshape(-1, coeffs.shape[-1])\n",
        "\n",
        "  return x_dataset"
      ],
      "execution_count": 0,
      "outputs": []
    },
    {
      "cell_type": "code",
      "metadata": {
        "colab_type": "code",
        "outputId": "d6311fd6-c196-4b60-a404-3fb4ac314722",
        "id": "yxqABIpeqE77",
        "colab": {
          "base_uri": "https://localhost:8080/",
          "height": 292
        }
      },
      "source": [
        "# features_considered  = ['close', 'high', 'low', 'open', 'volumefrom', 'volumeto',\n",
        "#        '12EMA', '50EMA', '100EMA', 'minusDI',\n",
        "#        'plusDI', 'MACD', 'RSI', 'StoOsci', 'StoOsci_signal',\n",
        "#        'BB_hband', 'BB_lband', 'ATR', 'ADI', 'MFI']\n",
        "\n",
        "\n",
        "features, outcome = preprocess_dataframe(df, features_considered)\n",
        "predictions, y_truth, _ = make_walkforward_transfer_model2(features, outcome, model)"
      ],
      "execution_count": 0,
      "outputs": [
        {
          "output_type": "stream",
          "text": [
            "200/200 [==============================] - 1s 4ms/step - loss: nan - accuracy: 0.5072 - val_loss: nan - val_accuracy: 0.6863\n",
            "200/200 [==============================] - 1s 4ms/step - loss: nan - accuracy: 0.6011 - val_loss: nan - val_accuracy: 0.4265\n",
            "200/200 [==============================] - 1s 4ms/step - loss: nan - accuracy: 0.3138 - val_loss: nan - val_accuracy: 0.0882\n",
            "200/200 [==============================] - 1s 4ms/step - loss: nan - accuracy: 0.1596 - val_loss: nan - val_accuracy: 0.3088\n",
            "200/200 [==============================] - 1s 4ms/step - loss: nan - accuracy: 0.3670 - val_loss: nan - val_accuracy: 0.5000\n",
            "200/200 [==============================] - 1s 4ms/step - loss: nan - accuracy: 0.4628 - val_loss: nan - val_accuracy: 0.2794\n",
            "200/200 [==============================] - 1s 4ms/step - loss: nan - accuracy: 0.3085 - val_loss: nan - val_accuracy: 0.3824\n",
            "200/200 [==============================] - 1s 4ms/step - loss: nan - accuracy: 0.5426 - val_loss: nan - val_accuracy: 0.6618\n",
            "200/200 [==============================] - 1s 4ms/step - loss: nan - accuracy: 0.7074 - val_loss: nan - val_accuracy: 0.7059\n",
            "200/200 [==============================] - 1s 4ms/step - loss: nan - accuracy: 0.5957 - val_loss: nan - val_accuracy: 0.4118\n",
            "200/200 [==============================] - 1s 4ms/step - loss: nan - accuracy: 0.3245 - val_loss: nan - val_accuracy: 0.2353\n",
            "200/200 [==============================] - 1s 4ms/step - loss: nan - accuracy: 0.2340 - val_loss: nan - val_accuracy: 0.5882\n",
            "200/200 [==============================] - 1s 4ms/step - loss: nan - accuracy: 0.6117 - val_loss: nan - val_accuracy: 0.2059\n"
          ],
          "name": "stdout"
        },
        {
          "output_type": "stream",
          "text": [
            "/usr/local/lib/python3.6/dist-packages/ipykernel_launcher.py:46: DeprecationWarning: The default dtype for empty Series will be 'object' instead of 'float64' in a future version. Specify a dtype explicitly to silence this warning.\n",
            "/usr/local/lib/python3.6/dist-packages/ipykernel_launcher.py:47: DeprecationWarning: The default dtype for empty Series will be 'object' instead of 'float64' in a future version. Specify a dtype explicitly to silence this warning.\n"
          ],
          "name": "stderr"
        }
      ]
    },
    {
      "cell_type": "code",
      "metadata": {
        "colab_type": "code",
        "id": "mhNujfDoqE8H",
        "colab": {}
      },
      "source": [
        "pred_table = pd.merge(predictions.rename('Pred'),y_truth.rename('y_truth'),left_index=True,right_index=True)\n",
        "pred_table.dropna(inplace=True)"
      ],
      "execution_count": 0,
      "outputs": []
    },
    {
      "cell_type": "code",
      "metadata": {
        "colab_type": "code",
        "outputId": "1a0890dc-2051-4349-f342-5963a19d53fa",
        "id": "oyJ9H61ZqE8M",
        "colab": {
          "base_uri": "https://localhost:8080/",
          "height": 142
        }
      },
      "source": [
        "# accuracy_matrix = confusion_matrix(pred_table['y_truth'], pred_table['Pred'])\n",
        "# accuracy_matrix\n",
        "\n",
        "# Accuracy matrix\n",
        "label_dict = {0:\"Buy\", 1:\"Sell\", 2:\"Hold\"}\n",
        "y_true_label = [label_dict[x] for x in pred_table['y_truth']]\n",
        "predict_valid_label = [label_dict[x] for x in pred_table['Pred']]\n",
        "\n",
        "acc_mtx_labels = np.unique(y_true_label)\n",
        "\n",
        "accuracy_matrix = confusion_matrix(y_true_label, predict_valid_label, labels = acc_mtx_labels)\n",
        "pd.DataFrame(accuracy_matrix, index=acc_mtx_labels, columns=acc_mtx_labels)\n",
        "# accuracy_matrix"
      ],
      "execution_count": 0,
      "outputs": [
        {
          "output_type": "execute_result",
          "data": {
            "text/html": [
              "<div>\n",
              "<style scoped>\n",
              "    .dataframe tbody tr th:only-of-type {\n",
              "        vertical-align: middle;\n",
              "    }\n",
              "\n",
              "    .dataframe tbody tr th {\n",
              "        vertical-align: top;\n",
              "    }\n",
              "\n",
              "    .dataframe thead th {\n",
              "        text-align: right;\n",
              "    }\n",
              "</style>\n",
              "<table border=\"1\" class=\"dataframe\">\n",
              "  <thead>\n",
              "    <tr style=\"text-align: right;\">\n",
              "      <th></th>\n",
              "      <th>Buy</th>\n",
              "      <th>Hold</th>\n",
              "      <th>Sell</th>\n",
              "    </tr>\n",
              "  </thead>\n",
              "  <tbody>\n",
              "    <tr>\n",
              "      <th>Buy</th>\n",
              "      <td>971</td>\n",
              "      <td>0</td>\n",
              "      <td>0</td>\n",
              "    </tr>\n",
              "    <tr>\n",
              "      <th>Hold</th>\n",
              "      <td>565</td>\n",
              "      <td>0</td>\n",
              "      <td>0</td>\n",
              "    </tr>\n",
              "    <tr>\n",
              "      <th>Sell</th>\n",
              "      <td>803</td>\n",
              "      <td>0</td>\n",
              "      <td>0</td>\n",
              "    </tr>\n",
              "  </tbody>\n",
              "</table>\n",
              "</div>"
            ],
            "text/plain": [
              "      Buy  Hold  Sell\n",
              "Buy   971     0     0\n",
              "Hold  565     0     0\n",
              "Sell  803     0     0"
            ]
          },
          "metadata": {
            "tags": []
          },
          "execution_count": 82
        }
      ]
    },
    {
      "cell_type": "code",
      "metadata": {
        "colab_type": "code",
        "outputId": "38f845f4-0b45-4d6f-b59d-cb735813d9f9",
        "id": "KMmGtSuDqE8V",
        "colab": {
          "base_uri": "https://localhost:8080/",
          "height": 34
        }
      },
      "source": [
        "# Accuracy for all signals\n",
        "accuracy_matrix_percentage = accuracy_matrix / accuracy_matrix.astype(np.float).sum()\n",
        "print('Total accuracy:', np.trace(accuracy_matrix_percentage)*100)"
      ],
      "execution_count": 0,
      "outputs": [
        {
          "output_type": "stream",
          "text": [
            "Total accuracy: 41.51346729371526\n"
          ],
          "name": "stdout"
        }
      ]
    },
    {
      "cell_type": "code",
      "metadata": {
        "colab_type": "code",
        "outputId": "970b1962-c6eb-43c9-e0ce-de560c34dbf3",
        "id": "qX0lJJB8qE8Z",
        "colab": {
          "base_uri": "https://localhost:8080/",
          "height": 293
        }
      },
      "source": [
        "# Confusion Matrix Heatmap\n",
        "acc_df = pd.DataFrame(accuracy_matrix_percentage, index=acc_mtx_labels, columns=acc_mtx_labels)\n",
        "ax = sns.heatmap(acc_df,  \n",
        "            fmt='.2%', cmap='Blues',annot=True)\n",
        "# X - Y axis labels\n",
        "ax.set_ylabel('Truth')\n",
        "ax.set_xlabel('Model Prediction')"
      ],
      "execution_count": 0,
      "outputs": [
        {
          "output_type": "execute_result",
          "data": {
            "text/plain": [
              "Text(0.5, 18.5, 'Model Prediction')"
            ]
          },
          "metadata": {
            "tags": []
          },
          "execution_count": 84
        },
        {
          "output_type": "display_data",
          "data": {
            "image/png": "[encoded data removed]",
            "text/plain": [
              "<Figure size 432x288 with 2 Axes>"
            ]
          },
          "metadata": {
            "tags": []
          }
        }
      ]
    },
    {
      "cell_type": "code",
      "metadata": {
        "colab_type": "code",
        "outputId": "0a5cd549-0b1b-439f-cbf1-45bd25c93e33",
        "id": "9ZDIxLaNqE8d",
        "colab": {
          "base_uri": "https://localhost:8080/",
          "height": 235
        }
      },
      "source": [
        "pred_table.head()"
      ],
      "execution_count": 0,
      "outputs": [
        {
          "output_type": "execute_result",
          "data": {
            "text/html": [
              "<div>\n",
              "<style scoped>\n",
              "    .dataframe tbody tr th:only-of-type {\n",
              "        vertical-align: middle;\n",
              "    }\n",
              "\n",
              "    .dataframe tbody tr th {\n",
              "        vertical-align: top;\n",
              "    }\n",
              "\n",
              "    .dataframe thead th {\n",
              "        text-align: right;\n",
              "    }\n",
              "</style>\n",
              "<table border=\"1\" class=\"dataframe\">\n",
              "  <thead>\n",
              "    <tr style=\"text-align: right;\">\n",
              "      <th></th>\n",
              "      <th>Pred</th>\n",
              "      <th>y_truth</th>\n",
              "    </tr>\n",
              "    <tr>\n",
              "      <th>time</th>\n",
              "      <th></th>\n",
              "      <th></th>\n",
              "    </tr>\n",
              "  </thead>\n",
              "  <tbody>\n",
              "    <tr>\n",
              "      <th>2013-10-31</th>\n",
              "      <td>0.0</td>\n",
              "      <td>0.0</td>\n",
              "    </tr>\n",
              "    <tr>\n",
              "      <th>2013-11-01</th>\n",
              "      <td>0.0</td>\n",
              "      <td>0.0</td>\n",
              "    </tr>\n",
              "    <tr>\n",
              "      <th>2013-11-02</th>\n",
              "      <td>0.0</td>\n",
              "      <td>0.0</td>\n",
              "    </tr>\n",
              "    <tr>\n",
              "      <th>2013-11-03</th>\n",
              "      <td>0.0</td>\n",
              "      <td>0.0</td>\n",
              "    </tr>\n",
              "    <tr>\n",
              "      <th>2013-11-04</th>\n",
              "      <td>0.0</td>\n",
              "      <td>0.0</td>\n",
              "    </tr>\n",
              "  </tbody>\n",
              "</table>\n",
              "</div>"
            ],
            "text/plain": [
              "            Pred  y_truth\n",
              "time                     \n",
              "2013-10-31   0.0      0.0\n",
              "2013-11-01   0.0      0.0\n",
              "2013-11-02   0.0      0.0\n",
              "2013-11-03   0.0      0.0\n",
              "2013-11-04   0.0      0.0"
            ]
          },
          "metadata": {
            "tags": []
          },
          "execution_count": 85
        }
      ]
    },
    {
      "cell_type": "code",
      "metadata": {
        "colab_type": "code",
        "outputId": "58a2dba8-f1b5-4467-a6a6-7792b9aa9815",
        "id": "cL-X2U_eqE8f",
        "colab": {
          "base_uri": "https://localhost:8080/",
          "height": 479
        }
      },
      "source": [
        "pred_table_plt = pred_table.loc['4/1/2018':'6/28/2018']\n",
        "plt.figure(figsize=(10, 8))\n",
        "# plt.plot(df.index, df['close'], label = 'Close')\n",
        "plt.scatter(pred_table_plt.index, pred_table_plt['Pred'], label = 'Pred',alpha=0.5)\n",
        "plt.scatter(pred_table_plt.index, pred_table_plt['y_truth'], label = 'y_truth',alpha=0.5)\n",
        "# plt.plot(df.index, df['MACD'], label = 'MACD')\n",
        "plt.legend()\n",
        "plt.style.use('seaborn-darkgrid')"
      ],
      "execution_count": 0,
      "outputs": [
        {
          "output_type": "display_data",
          "data": {
            "image/png": "[encoded data removed]",
            "text/plain": [
              "<Figure size 720x576 with 1 Axes>"
            ]
          },
          "metadata": {
            "tags": []
          }
        }
      ]
    },
    {
      "cell_type": "markdown",
      "metadata": {
        "colab_type": "text",
        "id": "396U3SsVqE8h"
      },
      "source": [
        "### P&L Simulation"
      ]
    },
    {
      "cell_type": "code",
      "metadata": {
        "colab_type": "code",
        "outputId": "3d7baf92-5066-48a1-ba67-17a140e84b22",
        "id": "d6NOayfbqE8h",
        "colab": {
          "base_uri": "https://localhost:8080/",
          "height": 235
        }
      },
      "source": [
        "df_eval = df[['time','close','12EMA','50EMA','100EMA']].copy()\n",
        "# df_eval['time'] = pd.to_datetime(df_eval['time'])\n",
        "# df_eval = df_eval[df_eval['time'] > \"2015-01-01\"]\n",
        "df_eval.set_index('time',inplace=True)\n",
        "df_eval = df_eval.loc['7/1/2018':]\n",
        "df_eval.head()"
      ],
      "execution_count": 0,
      "outputs": [
        {
          "output_type": "execute_result",
          "data": {
            "text/html": [
              "<div>\n",
              "<style scoped>\n",
              "    .dataframe tbody tr th:only-of-type {\n",
              "        vertical-align: middle;\n",
              "    }\n",
              "\n",
              "    .dataframe tbody tr th {\n",
              "        vertical-align: top;\n",
              "    }\n",
              "\n",
              "    .dataframe thead th {\n",
              "        text-align: right;\n",
              "    }\n",
              "</style>\n",
              "<table border=\"1\" class=\"dataframe\">\n",
              "  <thead>\n",
              "    <tr style=\"text-align: right;\">\n",
              "      <th></th>\n",
              "      <th>close</th>\n",
              "      <th>12EMA</th>\n",
              "      <th>50EMA</th>\n",
              "      <th>100EMA</th>\n",
              "    </tr>\n",
              "    <tr>\n",
              "      <th>time</th>\n",
              "      <th></th>\n",
              "      <th></th>\n",
              "      <th></th>\n",
              "      <th></th>\n",
              "    </tr>\n",
              "  </thead>\n",
              "  <tbody>\n",
              "    <tr>\n",
              "      <th>7/1/2018</th>\n",
              "      <td>6339.04</td>\n",
              "      <td>6306.443649</td>\n",
              "      <td>7083.790207</td>\n",
              "      <td>7766.218771</td>\n",
              "    </tr>\n",
              "    <tr>\n",
              "      <th>7/2/2018</th>\n",
              "      <td>6615.66</td>\n",
              "      <td>6354.015395</td>\n",
              "      <td>7065.432160</td>\n",
              "      <td>7743.435429</td>\n",
              "    </tr>\n",
              "    <tr>\n",
              "      <th>7/3/2018</th>\n",
              "      <td>6509.58</td>\n",
              "      <td>6377.948411</td>\n",
              "      <td>7043.634036</td>\n",
              "      <td>7719.002648</td>\n",
              "    </tr>\n",
              "    <tr>\n",
              "      <th>7/4/2018</th>\n",
              "      <td>6590.06</td>\n",
              "      <td>6410.580963</td>\n",
              "      <td>7025.846819</td>\n",
              "      <td>7696.647348</td>\n",
              "    </tr>\n",
              "    <tr>\n",
              "      <th>7/5/2018</th>\n",
              "      <td>6534.81</td>\n",
              "      <td>6429.693123</td>\n",
              "      <td>7006.590473</td>\n",
              "      <td>7673.640668</td>\n",
              "    </tr>\n",
              "  </tbody>\n",
              "</table>\n",
              "</div>"
            ],
            "text/plain": [
              "            close        12EMA        50EMA       100EMA\n",
              "time                                                    \n",
              "7/1/2018  6339.04  6306.443649  7083.790207  7766.218771\n",
              "7/2/2018  6615.66  6354.015395  7065.432160  7743.435429\n",
              "7/3/2018  6509.58  6377.948411  7043.634036  7719.002648\n",
              "7/4/2018  6590.06  6410.580963  7025.846819  7696.647348\n",
              "7/5/2018  6534.81  6429.693123  7006.590473  7673.640668"
            ]
          },
          "metadata": {
            "tags": []
          },
          "execution_count": 87
        }
      ]
    },
    {
      "cell_type": "code",
      "metadata": {
        "colab_type": "code",
        "outputId": "e20d76bd-5eb6-4c07-d99b-917bea646989",
        "id": "LZleMfaYqE8j",
        "colab": {
          "base_uri": "https://localhost:8080/",
          "height": 235
        }
      },
      "source": [
        "df_eval = pd.merge(df_eval, pred_table, left_index=True, right_index=True)\n",
        "# df_eval.dropna(inplace=True)\n",
        "df_eval.head()"
      ],
      "execution_count": 0,
      "outputs": [
        {
          "output_type": "execute_result",
          "data": {
            "text/html": [
              "<div>\n",
              "<style scoped>\n",
              "    .dataframe tbody tr th:only-of-type {\n",
              "        vertical-align: middle;\n",
              "    }\n",
              "\n",
              "    .dataframe tbody tr th {\n",
              "        vertical-align: top;\n",
              "    }\n",
              "\n",
              "    .dataframe thead th {\n",
              "        text-align: right;\n",
              "    }\n",
              "</style>\n",
              "<table border=\"1\" class=\"dataframe\">\n",
              "  <thead>\n",
              "    <tr style=\"text-align: right;\">\n",
              "      <th></th>\n",
              "      <th>close</th>\n",
              "      <th>12EMA</th>\n",
              "      <th>50EMA</th>\n",
              "      <th>100EMA</th>\n",
              "      <th>Pred</th>\n",
              "      <th>y_truth</th>\n",
              "    </tr>\n",
              "    <tr>\n",
              "      <th>time</th>\n",
              "      <th></th>\n",
              "      <th></th>\n",
              "      <th></th>\n",
              "      <th></th>\n",
              "      <th></th>\n",
              "      <th></th>\n",
              "    </tr>\n",
              "  </thead>\n",
              "  <tbody>\n",
              "    <tr>\n",
              "      <th>2018-07-01</th>\n",
              "      <td>6339.04</td>\n",
              "      <td>6306.443649</td>\n",
              "      <td>7083.790207</td>\n",
              "      <td>7766.218771</td>\n",
              "      <td>0.0</td>\n",
              "      <td>0.0</td>\n",
              "    </tr>\n",
              "    <tr>\n",
              "      <th>2018-07-02</th>\n",
              "      <td>6615.66</td>\n",
              "      <td>6354.015395</td>\n",
              "      <td>7065.432160</td>\n",
              "      <td>7743.435429</td>\n",
              "      <td>0.0</td>\n",
              "      <td>0.0</td>\n",
              "    </tr>\n",
              "    <tr>\n",
              "      <th>2018-07-03</th>\n",
              "      <td>6509.58</td>\n",
              "      <td>6377.948411</td>\n",
              "      <td>7043.634036</td>\n",
              "      <td>7719.002648</td>\n",
              "      <td>0.0</td>\n",
              "      <td>0.0</td>\n",
              "    </tr>\n",
              "    <tr>\n",
              "      <th>2018-07-04</th>\n",
              "      <td>6590.06</td>\n",
              "      <td>6410.580963</td>\n",
              "      <td>7025.846819</td>\n",
              "      <td>7696.647348</td>\n",
              "      <td>0.0</td>\n",
              "      <td>0.0</td>\n",
              "    </tr>\n",
              "    <tr>\n",
              "      <th>2018-07-05</th>\n",
              "      <td>6534.81</td>\n",
              "      <td>6429.693123</td>\n",
              "      <td>7006.590473</td>\n",
              "      <td>7673.640668</td>\n",
              "      <td>0.0</td>\n",
              "      <td>0.0</td>\n",
              "    </tr>\n",
              "  </tbody>\n",
              "</table>\n",
              "</div>"
            ],
            "text/plain": [
              "              close        12EMA        50EMA       100EMA  Pred  y_truth\n",
              "time                                                                     \n",
              "2018-07-01  6339.04  6306.443649  7083.790207  7766.218771   0.0      0.0\n",
              "2018-07-02  6615.66  6354.015395  7065.432160  7743.435429   0.0      0.0\n",
              "2018-07-03  6509.58  6377.948411  7043.634036  7719.002648   0.0      0.0\n",
              "2018-07-04  6590.06  6410.580963  7025.846819  7696.647348   0.0      0.0\n",
              "2018-07-05  6534.81  6429.693123  7006.590473  7673.640668   0.0      0.0"
            ]
          },
          "metadata": {
            "tags": []
          },
          "execution_count": 88
        }
      ]
    },
    {
      "cell_type": "code",
      "metadata": {
        "colab_type": "code",
        "outputId": "d110a567-dbe7-4243-b0ab-abb794338441",
        "id": "GTQsGQnUqE8l",
        "colab": {
          "base_uri": "https://localhost:8080/",
          "height": 340
        }
      },
      "source": [
        "df_eval['position'] = np.where(df_eval['Pred']==0,1,np.where(df_eval['Pred'] == 1,-1,np.nan))\n",
        "df_eval['position'] = df_eval['position'].fillna(method='ffill')\n",
        "df_eval['position'] = df_eval['position'].fillna(0)\n",
        "df_eval['daily_ret'] = df_eval['close'] / df_eval['close'].shift(1) -1 \n",
        "df_eval['daily_ret'] = df_eval['daily_ret'].fillna(0)\n",
        "df_eval['port_ret'] = df_eval['position'] * df_eval['daily_ret']\n",
        "df_eval['port_ret'] = df_eval['port_ret'].fillna(0)\n",
        "df_eval['cum_ret'] = np.cumprod(1+df_eval['port_ret'])\n",
        "df_eval['buy_and_hold'] = np.cumprod(1+df_eval['daily_ret'])\n",
        "\n",
        "# Benchmark model\n",
        "df_eval['bm_signal'] = np.where((df_eval['12EMA'] > df_eval['50EMA']) & (df_eval['50EMA'] > df_eval['100EMA']), 0, np.where((df_eval['12EMA'] < df_eval['50EMA']) & (df_eval['50EMA'] < df_eval['100EMA']), 1,2))\n",
        "df_eval['bm_position'] = np.where(df_eval['bm_signal']==0,1,np.where(df_eval['bm_signal'] == 1,-1,np.nan))\n",
        "df_eval['bm_position'] = df_eval['bm_position'].fillna(method='ffill')\n",
        "df_eval['bm_position'] = df_eval['bm_position'].fillna(0)\n",
        "df_eval['bm_port_ret'] = df_eval['bm_position'] * df_eval['daily_ret']\n",
        "df_eval['bm_cum_ret'] = np.cumprod(1+df_eval['bm_port_ret'])\n",
        "\n",
        "# Ideal model\n",
        "df_eval['ideal_position'] = np.where(df_eval['y_truth']==0,1,np.where(df_eval['y_truth'] == 1,-1,np.nan))\n",
        "df_eval['ideal_position'] = df_eval['ideal_position'].fillna(method='ffill')\n",
        "df_eval['ideal_position'] = df_eval['ideal_position'].fillna(0)\n",
        "df_eval['ideal_port_ret'] = df_eval['ideal_position'] * df_eval['daily_ret']\n",
        "df_eval['ideal_cum_ret'] = np.cumprod(1+df_eval['ideal_port_ret'])\n",
        "\n",
        "df_eval.tail()"
      ],
      "execution_count": 0,
      "outputs": [
        {
          "output_type": "execute_result",
          "data": {
            "text/html": [
              "<div>\n",
              "<style scoped>\n",
              "    .dataframe tbody tr th:only-of-type {\n",
              "        vertical-align: middle;\n",
              "    }\n",
              "\n",
              "    .dataframe tbody tr th {\n",
              "        vertical-align: top;\n",
              "    }\n",
              "\n",
              "    .dataframe thead th {\n",
              "        text-align: right;\n",
              "    }\n",
              "</style>\n",
              "<table border=\"1\" class=\"dataframe\">\n",
              "  <thead>\n",
              "    <tr style=\"text-align: right;\">\n",
              "      <th></th>\n",
              "      <th>close</th>\n",
              "      <th>12EMA</th>\n",
              "      <th>50EMA</th>\n",
              "      <th>100EMA</th>\n",
              "      <th>Pred</th>\n",
              "      <th>y_truth</th>\n",
              "      <th>position</th>\n",
              "      <th>daily_ret</th>\n",
              "      <th>port_ret</th>\n",
              "      <th>cum_ret</th>\n",
              "      <th>buy_and_hold</th>\n",
              "      <th>bm_signal</th>\n",
              "      <th>bm_position</th>\n",
              "      <th>bm_port_ret</th>\n",
              "      <th>bm_cum_ret</th>\n",
              "      <th>ideal_position</th>\n",
              "      <th>ideal_port_ret</th>\n",
              "      <th>ideal_cum_ret</th>\n",
              "    </tr>\n",
              "    <tr>\n",
              "      <th>time</th>\n",
              "      <th></th>\n",
              "      <th></th>\n",
              "      <th></th>\n",
              "      <th></th>\n",
              "      <th></th>\n",
              "      <th></th>\n",
              "      <th></th>\n",
              "      <th></th>\n",
              "      <th></th>\n",
              "      <th></th>\n",
              "      <th></th>\n",
              "      <th></th>\n",
              "      <th></th>\n",
              "      <th></th>\n",
              "      <th></th>\n",
              "      <th></th>\n",
              "      <th></th>\n",
              "      <th></th>\n",
              "    </tr>\n",
              "  </thead>\n",
              "  <tbody>\n",
              "    <tr>\n",
              "      <th>2020-03-22</th>\n",
              "      <td>5828.15</td>\n",
              "      <td>6184.406766</td>\n",
              "      <td>7748.461133</td>\n",
              "      <td>8149.698925</td>\n",
              "      <td>0.0</td>\n",
              "      <td>0.0</td>\n",
              "      <td>1.0</td>\n",
              "      <td>-0.059282</td>\n",
              "      <td>-0.059282</td>\n",
              "      <td>0.919406</td>\n",
              "      <td>0.919406</td>\n",
              "      <td>1</td>\n",
              "      <td>-1.0</td>\n",
              "      <td>0.059282</td>\n",
              "      <td>0.662061</td>\n",
              "      <td>1.0</td>\n",
              "      <td>-0.059282</td>\n",
              "      <td>220.118897</td>\n",
              "    </tr>\n",
              "    <tr>\n",
              "      <th>2020-03-23</th>\n",
              "      <td>6503.53</td>\n",
              "      <td>6233.502648</td>\n",
              "      <td>7699.640304</td>\n",
              "      <td>8117.101520</td>\n",
              "      <td>0.0</td>\n",
              "      <td>0.0</td>\n",
              "      <td>1.0</td>\n",
              "      <td>0.115882</td>\n",
              "      <td>0.115882</td>\n",
              "      <td>1.025949</td>\n",
              "      <td>1.025949</td>\n",
              "      <td>1</td>\n",
              "      <td>-1.0</td>\n",
              "      <td>-0.115882</td>\n",
              "      <td>0.585340</td>\n",
              "      <td>1.0</td>\n",
              "      <td>0.115882</td>\n",
              "      <td>245.626803</td>\n",
              "    </tr>\n",
              "    <tr>\n",
              "      <th>2020-03-24</th>\n",
              "      <td>6767.18</td>\n",
              "      <td>6315.606856</td>\n",
              "      <td>7663.073233</td>\n",
              "      <td>8090.370401</td>\n",
              "      <td>0.0</td>\n",
              "      <td>0.0</td>\n",
              "      <td>1.0</td>\n",
              "      <td>0.040540</td>\n",
              "      <td>0.040540</td>\n",
              "      <td>1.067540</td>\n",
              "      <td>1.067540</td>\n",
              "      <td>1</td>\n",
              "      <td>-1.0</td>\n",
              "      <td>-0.040540</td>\n",
              "      <td>0.561611</td>\n",
              "      <td>1.0</td>\n",
              "      <td>0.040540</td>\n",
              "      <td>255.584396</td>\n",
              "    </tr>\n",
              "    <tr>\n",
              "      <th>2020-03-25</th>\n",
              "      <td>6694.21</td>\n",
              "      <td>6373.853494</td>\n",
              "      <td>7625.078597</td>\n",
              "      <td>8062.723661</td>\n",
              "      <td>0.0</td>\n",
              "      <td>0.0</td>\n",
              "      <td>1.0</td>\n",
              "      <td>-0.010783</td>\n",
              "      <td>-0.010783</td>\n",
              "      <td>1.056029</td>\n",
              "      <td>1.056029</td>\n",
              "      <td>1</td>\n",
              "      <td>-1.0</td>\n",
              "      <td>0.010783</td>\n",
              "      <td>0.567666</td>\n",
              "      <td>1.0</td>\n",
              "      <td>-0.010783</td>\n",
              "      <td>252.828449</td>\n",
              "    </tr>\n",
              "    <tr>\n",
              "      <th>2020-03-26</th>\n",
              "      <td>6757.95</td>\n",
              "      <td>6432.945264</td>\n",
              "      <td>7591.073554</td>\n",
              "      <td>8036.886558</td>\n",
              "      <td>0.0</td>\n",
              "      <td>0.0</td>\n",
              "      <td>1.0</td>\n",
              "      <td>0.009522</td>\n",
              "      <td>0.009522</td>\n",
              "      <td>1.066084</td>\n",
              "      <td>1.066084</td>\n",
              "      <td>1</td>\n",
              "      <td>-1.0</td>\n",
              "      <td>-0.009522</td>\n",
              "      <td>0.562261</td>\n",
              "      <td>1.0</td>\n",
              "      <td>0.009522</td>\n",
              "      <td>255.235796</td>\n",
              "    </tr>\n",
              "  </tbody>\n",
              "</table>\n",
              "</div>"
            ],
            "text/plain": [
              "              close        12EMA  ...  ideal_port_ret  ideal_cum_ret\n",
              "time                              ...                               \n",
              "2020-03-22  5828.15  6184.406766  ...       -0.059282     220.118897\n",
              "2020-03-23  6503.53  6233.502648  ...        0.115882     245.626803\n",
              "2020-03-24  6767.18  6315.606856  ...        0.040540     255.584396\n",
              "2020-03-25  6694.21  6373.853494  ...       -0.010783     252.828449\n",
              "2020-03-26  6757.95  6432.945264  ...        0.009522     255.235796\n",
              "\n",
              "[5 rows x 18 columns]"
            ]
          },
          "metadata": {
            "tags": []
          },
          "execution_count": 89
        }
      ]
    },
    {
      "cell_type": "code",
      "metadata": {
        "colab_type": "code",
        "id": "irRAQZ7xqE8p",
        "colab": {}
      },
      "source": [
        "# df_eval.iloc[250:300]"
      ],
      "execution_count": 0,
      "outputs": []
    },
    {
      "cell_type": "code",
      "metadata": {
        "colab_type": "code",
        "outputId": "b9a9056f-3701-4c2b-be86-137ab9ecbf6c",
        "id": "_1YvvEEGqE8t",
        "colab": {
          "base_uri": "https://localhost:8080/",
          "height": 479
        }
      },
      "source": [
        "plt.figure(figsize=(10, 8))\n",
        "plt.plot(df_eval.index, df_eval['cum_ret'], label = 'LSTM')\n",
        "plt.plot(df_eval.index, df_eval['buy_and_hold'], label = \"Buy and hold\")\n",
        "plt.plot(df_eval.index, df_eval['bm_cum_ret'], label = \"Naive MA\")\n",
        "# plt.plot(df_eval.index, df_eval['ideal_cum_ret'], label = \"Ideal\")\n",
        "plt.legend()\n",
        "plt.style.use('seaborn-darkgrid')"
      ],
      "execution_count": 0,
      "outputs": [
        {
          "output_type": "display_data",
          "data": {
            "image/png": "[encoded data removed]",
            "text/plain": [
              "<Figure size 720x576 with 1 Axes>"
            ]
          },
          "metadata": {
            "tags": []
          }
        }
      ]
    },
    {
      "cell_type": "markdown",
      "metadata": {
        "id": "6efWgIo9laWW",
        "colab_type": "text"
      },
      "source": [
        "## General performance on all cryptos"
      ]
    },
    {
      "cell_type": "code",
      "metadata": {
        "id": "S2bpFkV8lZu5",
        "colab_type": "code",
        "outputId": "83d8f006-73e4-47c4-87f6-77e7599f8b8e",
        "colab": {
          "base_uri": "https://localhost:8080/",
          "height": 1000
        }
      },
      "source": [
        "# LSTM General performance on all cryptos\n",
        "multiple_pred = []\n",
        "multiple_ytruth = []\n",
        "for ticker in tickers:\n",
        "  print(\"Ticker\",ticker)\n",
        "  data_dir = glob.glob(processed_data_dir+ticker+\"_processed.csv\")[0]\n",
        "  df = pd.read_csv(data_dir)\n",
        "  df['12_100EMA'] = df['12EMA'] / df['100EMA'] \n",
        "  df['50_100EMA'] = df['50EMA'] / df['100EMA'] \n",
        "  features_considered  = ['close', 'high', 'low', 'open', 'volumeto',\n",
        "      '12_100EMA','50_100EMA', '100EMA', 'minusDI',\n",
        "      'plusDI', 'MACD', 'RSI', 'StoOsci', 'StoOsci_signal',\n",
        "      'BB_hband', 'BB_lband', 'ATR', 'ADI', 'MFI']\n",
        "  features, outcome = preprocess_dataframe(df, features_considered)\n",
        "  predictions, y_truth, _,_ = make_walkforward_transfer_model(features, outcome)\n",
        "  multiple_pred.append(predictions)\n",
        "  multiple_ytruth.append(y_truth)"
      ],
      "execution_count": 0,
      "outputs": [
        {
          "output_type": "stream",
          "text": [
            "Ticker BTC\n",
            "Epoch 1/10\n",
            "200/200 [==============================] - 2s 11ms/step - loss: 4.1622 - accuracy: 0.7773 - val_loss: 15.9485 - val_accuracy: 0.0588\n",
            "Epoch 2/10\n",
            "200/200 [==============================] - 2s 8ms/step - loss: 2.7151 - accuracy: 0.8331 - val_loss: 16.4309 - val_accuracy: 0.0588\n",
            "Epoch 3/10\n",
            "200/200 [==============================] - 2s 8ms/step - loss: 2.6705 - accuracy: 0.8349 - val_loss: 16.3942 - val_accuracy: 0.0588\n",
            "Epoch 4/10\n",
            "200/200 [==============================] - 2s 8ms/step - loss: 2.6819 - accuracy: 0.8339 - val_loss: 16.3874 - val_accuracy: 0.0588\n",
            "Epoch 5/10\n",
            "200/200 [==============================] - 2s 8ms/step - loss: 2.6683 - accuracy: 0.8346 - val_loss: 16.3894 - val_accuracy: 0.0588\n",
            "Epoch 6/10\n",
            "200/200 [==============================] - 2s 8ms/step - loss: 2.6756 - accuracy: 0.8341 - val_loss: 16.3904 - val_accuracy: 0.0588\n",
            "Epoch 7/10\n",
            "200/200 [==============================] - 2s 8ms/step - loss: 2.6581 - accuracy: 0.8352 - val_loss: 16.3886 - val_accuracy: 0.0588\n",
            "Epoch 8/10\n",
            "200/200 [==============================] - 2s 8ms/step - loss: 2.6699 - accuracy: 0.8344 - val_loss: 16.3908 - val_accuracy: 0.0588\n",
            "Epoch 9/10\n",
            "200/200 [==============================] - 2s 8ms/step - loss: 2.6678 - accuracy: 0.8346 - val_loss: 16.3894 - val_accuracy: 0.0588\n",
            "Epoch 10/10\n",
            "200/200 [==============================] - 2s 8ms/step - loss: 2.6780 - accuracy: 0.8339 - val_loss: 16.3902 - val_accuracy: 0.0588\n",
            "Epoch 1/10\n",
            "200/200 [==============================] - 2s 8ms/step - loss: 6.8273 - accuracy: 0.5918 - val_loss: 9.4641 - val_accuracy: 0.4412\n",
            "Epoch 2/10\n",
            "200/200 [==============================] - 2s 8ms/step - loss: 6.7448 - accuracy: 0.5966 - val_loss: 9.5243 - val_accuracy: 0.4412\n",
            "Epoch 3/10\n",
            "200/200 [==============================] - 2s 8ms/step - loss: 6.7351 - accuracy: 0.5973 - val_loss: 9.5287 - val_accuracy: 0.4412\n",
            "Epoch 4/10\n",
            "200/200 [==============================] - 2s 8ms/step - loss: 6.7401 - accuracy: 0.5969 - val_loss: 9.5326 - val_accuracy: 0.4412\n",
            "Epoch 5/10\n",
            "200/200 [==============================] - 2s 8ms/step - loss: 6.7486 - accuracy: 0.5962 - val_loss: 9.5386 - val_accuracy: 0.4412\n",
            "Epoch 6/10\n",
            "200/200 [==============================] - 2s 8ms/step - loss: 4.5444 - accuracy: 0.7290 - val_loss: 7.8977 - val_accuracy: 0.5588\n",
            "Epoch 7/10\n",
            "200/200 [==============================] - 2s 8ms/step - loss: 1.2502 - accuracy: 0.9258 - val_loss: 7.4773 - val_accuracy: 0.5588\n",
            "Epoch 8/10\n",
            "200/200 [==============================] - 2s 8ms/step - loss: 0.9848 - accuracy: 0.9408 - val_loss: 7.3471 - val_accuracy: 0.5735\n",
            "Epoch 9/10\n",
            "200/200 [==============================] - 2s 8ms/step - loss: 1.0053 - accuracy: 0.9394 - val_loss: 7.3089 - val_accuracy: 0.5882\n",
            "Epoch 10/10\n",
            "200/200 [==============================] - 2s 8ms/step - loss: 0.9708 - accuracy: 0.9416 - val_loss: 7.2642 - val_accuracy: 0.5882\n",
            "Epoch 1/10\n",
            "200/200 [==============================] - 2s 8ms/step - loss: 2.8165 - accuracy: 0.8305 - val_loss: 9.5695 - val_accuracy: 0.4412\n",
            "Epoch 2/10\n",
            "200/200 [==============================] - 2s 8ms/step - loss: 1.0883 - accuracy: 0.9338 - val_loss: 9.9659 - val_accuracy: 0.4265\n",
            "Epoch 3/10\n",
            "200/200 [==============================] - 2s 8ms/step - loss: 1.1261 - accuracy: 0.9312 - val_loss: 9.9371 - val_accuracy: 0.4265\n",
            "Epoch 4/10\n",
            "200/200 [==============================] - 2s 8ms/step - loss: 1.1333 - accuracy: 0.9307 - val_loss: 9.9097 - val_accuracy: 0.4265\n",
            "Epoch 5/10\n",
            "200/200 [==============================] - 2s 8ms/step - loss: 1.1323 - accuracy: 0.9307 - val_loss: 9.8819 - val_accuracy: 0.4265\n",
            "Epoch 6/10\n",
            "200/200 [==============================] - 2s 8ms/step - loss: 1.1316 - accuracy: 0.9308 - val_loss: 9.8711 - val_accuracy: 0.4265\n",
            "Epoch 7/10\n",
            "200/200 [==============================] - 2s 8ms/step - loss: 1.0687 - accuracy: 0.9347 - val_loss: 9.8720 - val_accuracy: 0.4265\n",
            "Epoch 8/10\n",
            "200/200 [==============================] - 2s 8ms/step - loss: 1.0638 - accuracy: 0.9350 - val_loss: 9.8681 - val_accuracy: 0.4265\n",
            "Epoch 9/10\n",
            "200/200 [==============================] - 2s 8ms/step - loss: 1.0683 - accuracy: 0.9347 - val_loss: 9.8590 - val_accuracy: 0.4265\n",
            "Epoch 10/10\n",
            "200/200 [==============================] - 2s 8ms/step - loss: 1.0691 - accuracy: 0.9347 - val_loss: 9.8552 - val_accuracy: 0.4265\n",
            "Epoch 1/10\n",
            "200/200 [==============================] - 2s 8ms/step - loss: 2.3135 - accuracy: 0.8592 - val_loss: 7.3064 - val_accuracy: 0.5441\n",
            "Epoch 2/10\n",
            "200/200 [==============================] - 2s 8ms/step - loss: 1.8865 - accuracy: 0.8831 - val_loss: 7.2785 - val_accuracy: 0.5441\n",
            "Epoch 3/10\n",
            "200/200 [==============================] - 2s 8ms/step - loss: 1.8450 - accuracy: 0.8856 - val_loss: 7.3213 - val_accuracy: 0.5441\n",
            "Epoch 4/10\n",
            "200/200 [==============================] - 2s 8ms/step - loss: 1.8916 - accuracy: 0.8827 - val_loss: 7.2920 - val_accuracy: 0.5441\n",
            "Epoch 5/10\n",
            "200/200 [==============================] - 2s 8ms/step - loss: 1.8716 - accuracy: 0.8840 - val_loss: 7.1962 - val_accuracy: 0.5441\n",
            "Epoch 6/10\n",
            "200/200 [==============================] - 2s 8ms/step - loss: 1.9083 - accuracy: 0.8818 - val_loss: 7.0787 - val_accuracy: 0.5588\n",
            "Epoch 7/10\n",
            "200/200 [==============================] - 2s 8ms/step - loss: 1.7957 - accuracy: 0.8886 - val_loss: 7.7183 - val_accuracy: 0.5294\n",
            "Epoch 8/10\n",
            "200/200 [==============================] - 2s 8ms/step - loss: 1.8118 - accuracy: 0.8877 - val_loss: 7.9031 - val_accuracy: 0.5000\n",
            "Epoch 9/10\n",
            "200/200 [==============================] - 2s 8ms/step - loss: 1.7397 - accuracy: 0.8922 - val_loss: 7.8640 - val_accuracy: 0.5147\n",
            "Epoch 10/10\n",
            "200/200 [==============================] - 2s 8ms/step - loss: 1.7161 - accuracy: 0.8936 - val_loss: 7.8289 - val_accuracy: 0.5147\n",
            "Epoch 1/10\n",
            "200/200 [==============================] - 2s 8ms/step - loss: 4.9236 - accuracy: 0.6950 - val_loss: 6.1464 - val_accuracy: 0.6176\n",
            "Epoch 2/10\n",
            "200/200 [==============================] - 2s 8ms/step - loss: 4.5430 - accuracy: 0.7182 - val_loss: 6.1607 - val_accuracy: 0.6176\n",
            "Epoch 3/10\n",
            "200/200 [==============================] - 2s 8ms/step - loss: 4.5552 - accuracy: 0.7174 - val_loss: 6.1556 - val_accuracy: 0.6176\n",
            "Epoch 4/10\n",
            "200/200 [==============================] - 1s 7ms/step - loss: 4.5318 - accuracy: 0.7189 - val_loss: 6.1502 - val_accuracy: 0.6176\n",
            "Epoch 5/10\n",
            "200/200 [==============================] - 2s 8ms/step - loss: 4.5402 - accuracy: 0.7183 - val_loss: 6.1646 - val_accuracy: 0.6176\n",
            "Epoch 6/10\n",
            "200/200 [==============================] - 2s 8ms/step - loss: 4.5330 - accuracy: 0.7188 - val_loss: 6.1557 - val_accuracy: 0.6176\n",
            "Epoch 7/10\n",
            "200/200 [==============================] - 2s 8ms/step - loss: 4.5285 - accuracy: 0.7191 - val_loss: 6.1530 - val_accuracy: 0.6176\n",
            "Epoch 8/10\n",
            "200/200 [==============================] - 2s 8ms/step - loss: 4.5707 - accuracy: 0.7164 - val_loss: 6.1513 - val_accuracy: 0.6176\n",
            "Epoch 9/10\n",
            "200/200 [==============================] - 2s 8ms/step - loss: 4.5225 - accuracy: 0.7194 - val_loss: 6.1495 - val_accuracy: 0.6176\n",
            "Epoch 10/10\n",
            "200/200 [==============================] - 2s 8ms/step - loss: 4.5218 - accuracy: 0.7195 - val_loss: 6.1481 - val_accuracy: 0.6176\n",
            "Epoch 1/10\n",
            "200/200 [==============================] - 2s 8ms/step - loss: 6.1965 - accuracy: 0.6173 - val_loss: 6.9798 - val_accuracy: 0.5735\n",
            "Epoch 2/10\n",
            "200/200 [==============================] - 1s 7ms/step - loss: 6.0922 - accuracy: 0.6224 - val_loss: 7.0235 - val_accuracy: 0.5588\n",
            "Epoch 3/10\n",
            "200/200 [==============================] - 2s 8ms/step - loss: 6.0552 - accuracy: 0.6247 - val_loss: 7.5690 - val_accuracy: 0.5294\n",
            "Epoch 4/10\n",
            "200/200 [==============================] - 2s 8ms/step - loss: 6.0195 - accuracy: 0.6267 - val_loss: 7.2671 - val_accuracy: 0.5441\n",
            "Epoch 5/10\n",
            "200/200 [==============================] - 2s 8ms/step - loss: 6.0132 - accuracy: 0.6272 - val_loss: 7.4605 - val_accuracy: 0.5147\n",
            "Epoch 6/10\n",
            "200/200 [==============================] - 2s 8ms/step - loss: 6.0423 - accuracy: 0.6254 - val_loss: 7.4051 - val_accuracy: 0.5294\n",
            "Epoch 7/10\n",
            "200/200 [==============================] - 2s 8ms/step - loss: 6.0091 - accuracy: 0.6272 - val_loss: 7.3293 - val_accuracy: 0.5441\n",
            "Epoch 8/10\n",
            "200/200 [==============================] - 2s 8ms/step - loss: 6.0289 - accuracy: 0.6260 - val_loss: 6.5788 - val_accuracy: 0.5882\n",
            "Epoch 9/10\n",
            "200/200 [==============================] - 2s 8ms/step - loss: 6.0197 - accuracy: 0.6265 - val_loss: 6.6481 - val_accuracy: 0.5882\n",
            "Epoch 10/10\n",
            "200/200 [==============================] - 2s 8ms/step - loss: 6.0148 - accuracy: 0.6268 - val_loss: 6.6672 - val_accuracy: 0.5882\n",
            "Epoch 1/10\n",
            "200/200 [==============================] - 2s 8ms/step - loss: 6.3191 - accuracy: 0.6081 - val_loss: 2.3710 - val_accuracy: 0.8529\n",
            "Epoch 2/10\n",
            "200/200 [==============================] - 2s 8ms/step - loss: 6.2126 - accuracy: 0.6146 - val_loss: 2.4231 - val_accuracy: 0.8529\n",
            "Epoch 3/10\n",
            "200/200 [==============================] - 2s 8ms/step - loss: 6.1949 - accuracy: 0.6157 - val_loss: 2.5395 - val_accuracy: 0.8382\n",
            "Epoch 4/10\n",
            "200/200 [==============================] - 2s 8ms/step - loss: 6.1953 - accuracy: 0.6157 - val_loss: 2.4178 - val_accuracy: 0.8529\n",
            "Epoch 5/10\n",
            "200/200 [==============================] - 2s 8ms/step - loss: 6.1753 - accuracy: 0.6169 - val_loss: 2.4584 - val_accuracy: 0.8529\n",
            "Epoch 6/10\n",
            "200/200 [==============================] - 2s 8ms/step - loss: 6.1847 - accuracy: 0.6163 - val_loss: 2.5413 - val_accuracy: 0.8382\n",
            "Epoch 7/10\n",
            "200/200 [==============================] - 2s 8ms/step - loss: 6.1852 - accuracy: 0.6163 - val_loss: 2.5918 - val_accuracy: 0.8382\n",
            "Epoch 8/10\n",
            "200/200 [==============================] - 2s 8ms/step - loss: 6.2090 - accuracy: 0.6148 - val_loss: 2.5869 - val_accuracy: 0.8382\n",
            "Epoch 9/10\n",
            "200/200 [==============================] - 2s 8ms/step - loss: 6.1418 - accuracy: 0.6190 - val_loss: 2.5636 - val_accuracy: 0.8382\n",
            "Epoch 10/10\n",
            "200/200 [==============================] - 2s 8ms/step - loss: 6.1935 - accuracy: 0.6157 - val_loss: 2.5701 - val_accuracy: 0.8382\n",
            "Epoch 1/10\n",
            "200/200 [==============================] - 2s 8ms/step - loss: 5.5123 - accuracy: 0.6585 - val_loss: 10.0084 - val_accuracy: 0.3824\n",
            "Epoch 2/10\n",
            "200/200 [==============================] - 2s 8ms/step - loss: 5.4346 - accuracy: 0.6629 - val_loss: 9.7666 - val_accuracy: 0.3971\n",
            "Epoch 3/10\n",
            "200/200 [==============================] - 1s 7ms/step - loss: 5.3844 - accuracy: 0.6660 - val_loss: 9.4595 - val_accuracy: 0.4118\n",
            "Epoch 4/10\n",
            "200/200 [==============================] - 2s 8ms/step - loss: 5.3700 - accuracy: 0.6668 - val_loss: 9.6194 - val_accuracy: 0.3971\n",
            "Epoch 5/10\n",
            "200/200 [==============================] - 2s 8ms/step - loss: 5.3849 - accuracy: 0.6659 - val_loss: 9.5011 - val_accuracy: 0.4265\n",
            "Epoch 6/10\n",
            "200/200 [==============================] - 2s 8ms/step - loss: 1.8472 - accuracy: 0.8858 - val_loss: 4.9930 - val_accuracy: 0.6765\n",
            "Epoch 7/10\n",
            "200/200 [==============================] - 1s 7ms/step - loss: 0.6367 - accuracy: 0.9609 - val_loss: 4.9034 - val_accuracy: 0.6912\n",
            "Epoch 8/10\n",
            "200/200 [==============================] - 2s 8ms/step - loss: 0.6324 - accuracy: 0.9610 - val_loss: 4.9593 - val_accuracy: 0.6912\n",
            "Epoch 9/10\n",
            "200/200 [==============================] - 1s 7ms/step - loss: 0.6226 - accuracy: 0.9615 - val_loss: 4.8357 - val_accuracy: 0.7059\n",
            "Epoch 10/10\n",
            "200/200 [==============================] - 2s 8ms/step - loss: 0.6202 - accuracy: 0.9616 - val_loss: 4.9415 - val_accuracy: 0.6765\n",
            "Epoch 1/10\n",
            "200/200 [==============================] - 2s 8ms/step - loss: 2.0863 - accuracy: 0.8718 - val_loss: 4.3332 - val_accuracy: 0.7206\n",
            "Epoch 2/10\n",
            "200/200 [==============================] - 2s 8ms/step - loss: 1.4949 - accuracy: 0.9075 - val_loss: 4.1935 - val_accuracy: 0.7353\n",
            "Epoch 3/10\n",
            "200/200 [==============================] - 2s 8ms/step - loss: 1.4767 - accuracy: 0.9084 - val_loss: 4.1062 - val_accuracy: 0.7500\n",
            "Epoch 4/10\n",
            "200/200 [==============================] - 1s 7ms/step - loss: 1.3764 - accuracy: 0.9147 - val_loss: 4.0439 - val_accuracy: 0.7500\n",
            "Epoch 5/10\n",
            "200/200 [==============================] - 1s 7ms/step - loss: 1.3584 - accuracy: 0.9158 - val_loss: 4.0396 - val_accuracy: 0.7500\n",
            "Epoch 6/10\n",
            "200/200 [==============================] - 2s 8ms/step - loss: 1.3531 - accuracy: 0.9161 - val_loss: 4.0367 - val_accuracy: 0.7500\n",
            "Epoch 7/10\n",
            "200/200 [==============================] - 1s 7ms/step - loss: 1.3461 - accuracy: 0.9165 - val_loss: 4.0350 - val_accuracy: 0.7500\n",
            "Epoch 8/10\n",
            "200/200 [==============================] - 2s 8ms/step - loss: 1.3525 - accuracy: 0.9162 - val_loss: 4.0473 - val_accuracy: 0.7500\n",
            "Epoch 9/10\n",
            "200/200 [==============================] - 2s 8ms/step - loss: 1.3534 - accuracy: 0.9161 - val_loss: 4.0425 - val_accuracy: 0.7500\n",
            "Epoch 10/10\n",
            "200/200 [==============================] - 2s 8ms/step - loss: 1.3548 - accuracy: 0.9160 - val_loss: 4.0372 - val_accuracy: 0.7500\n",
            "Epoch 1/10\n",
            "200/200 [==============================] - 2s 8ms/step - loss: 2.0695 - accuracy: 0.8742 - val_loss: 4.7790 - val_accuracy: 0.7353\n",
            "Epoch 2/10\n",
            "200/200 [==============================] - 2s 8ms/step - loss: 1.2553 - accuracy: 0.9226 - val_loss: 4.6331 - val_accuracy: 0.7353\n",
            "Epoch 3/10\n",
            "200/200 [==============================] - 1s 7ms/step - loss: 1.1183 - accuracy: 0.9313 - val_loss: 4.1846 - val_accuracy: 0.7647\n",
            "Epoch 4/10\n",
            "200/200 [==============================] - 2s 8ms/step - loss: 1.0590 - accuracy: 0.9349 - val_loss: 4.3608 - val_accuracy: 0.7353\n",
            "Epoch 5/10\n",
            "200/200 [==============================] - 2s 8ms/step - loss: 1.0835 - accuracy: 0.9331 - val_loss: 4.6111 - val_accuracy: 0.7353\n",
            "Epoch 6/10\n",
            "200/200 [==============================] - 2s 8ms/step - loss: 1.1994 - accuracy: 0.9263 - val_loss: 4.3325 - val_accuracy: 0.7353\n",
            "Epoch 7/10\n",
            "200/200 [==============================] - 2s 8ms/step - loss: 1.0172 - accuracy: 0.9372 - val_loss: 4.5517 - val_accuracy: 0.7353\n",
            "Epoch 8/10\n",
            "200/200 [==============================] - 2s 8ms/step - loss: 1.0210 - accuracy: 0.9368 - val_loss: 4.7355 - val_accuracy: 0.7206\n",
            "Epoch 9/10\n",
            "200/200 [==============================] - 2s 8ms/step - loss: 1.0079 - accuracy: 0.9376 - val_loss: 4.7795 - val_accuracy: 0.7059\n",
            "Epoch 10/10\n",
            "200/200 [==============================] - 2s 8ms/step - loss: 1.0247 - accuracy: 0.9367 - val_loss: 4.6365 - val_accuracy: 0.7353\n",
            "Epoch 1/10\n",
            "200/200 [==============================] - 2s 8ms/step - loss: 2.0291 - accuracy: 0.8780 - val_loss: 3.5333 - val_accuracy: 0.7794\n",
            "Epoch 2/10\n",
            "200/200 [==============================] - 2s 8ms/step - loss: 1.4629 - accuracy: 0.9111 - val_loss: 4.0269 - val_accuracy: 0.7500\n",
            "Epoch 3/10\n",
            "200/200 [==============================] - 2s 8ms/step - loss: 1.4462 - accuracy: 0.9122 - val_loss: 3.8061 - val_accuracy: 0.7500\n",
            "Epoch 4/10\n",
            "200/200 [==============================] - 2s 8ms/step - loss: 1.4358 - accuracy: 0.9127 - val_loss: 3.5709 - val_accuracy: 0.7941\n",
            "Epoch 5/10\n",
            "200/200 [==============================] - 2s 8ms/step - loss: 1.3258 - accuracy: 0.9194 - val_loss: 4.2723 - val_accuracy: 0.7353\n",
            "Epoch 6/10\n",
            "200/200 [==============================] - 2s 8ms/step - loss: 1.0576 - accuracy: 0.9347 - val_loss: 3.9148 - val_accuracy: 0.7647\n",
            "Epoch 7/10\n",
            "200/200 [==============================] - 1s 7ms/step - loss: 1.0569 - accuracy: 0.9345 - val_loss: 3.9436 - val_accuracy: 0.7500\n",
            "Epoch 8/10\n",
            "200/200 [==============================] - 2s 8ms/step - loss: 0.9784 - accuracy: 0.9394 - val_loss: 5.0691 - val_accuracy: 0.6765\n",
            "Epoch 9/10\n",
            "200/200 [==============================] - 2s 8ms/step - loss: 0.8522 - accuracy: 0.9472 - val_loss: 4.4018 - val_accuracy: 0.7353\n",
            "Epoch 10/10\n",
            "200/200 [==============================] - 2s 8ms/step - loss: 0.8767 - accuracy: 0.9456 - val_loss: 4.9170 - val_accuracy: 0.6912\n",
            "Epoch 1/10\n",
            "200/200 [==============================] - 2s 8ms/step - loss: 1.5973 - accuracy: 0.9019 - val_loss: 2.7966 - val_accuracy: 0.8382\n",
            "Epoch 2/10\n",
            "200/200 [==============================] - 2s 8ms/step - loss: 0.9841 - accuracy: 0.9392 - val_loss: 2.1038 - val_accuracy: 0.8676\n",
            "Epoch 3/10\n",
            "200/200 [==============================] - 2s 8ms/step - loss: 0.5973 - accuracy: 0.9632 - val_loss: 2.5334 - val_accuracy: 0.8382\n",
            "Epoch 4/10\n",
            "200/200 [==============================] - 2s 8ms/step - loss: 0.5670 - accuracy: 0.9649 - val_loss: 2.7269 - val_accuracy: 0.8235\n",
            "Epoch 5/10\n",
            "200/200 [==============================] - 2s 8ms/step - loss: 0.5626 - accuracy: 0.9651 - val_loss: 2.6888 - val_accuracy: 0.8382\n",
            "Epoch 6/10\n",
            "200/200 [==============================] - 2s 8ms/step - loss: 0.5139 - accuracy: 0.9682 - val_loss: 2.7941 - val_accuracy: 0.8235\n",
            "Epoch 7/10\n",
            "200/200 [==============================] - 2s 8ms/step - loss: 0.4859 - accuracy: 0.9699 - val_loss: 2.7718 - val_accuracy: 0.8235\n",
            "Epoch 8/10\n",
            "200/200 [==============================] - 2s 8ms/step - loss: 0.4781 - accuracy: 0.9704 - val_loss: 2.7076 - val_accuracy: 0.8235\n",
            "Epoch 9/10\n",
            "200/200 [==============================] - 2s 8ms/step - loss: 0.4757 - accuracy: 0.9705 - val_loss: 2.7055 - val_accuracy: 0.8235\n",
            "Epoch 10/10\n",
            "200/200 [==============================] - 1s 7ms/step - loss: 0.4842 - accuracy: 0.9700 - val_loss: 2.7040 - val_accuracy: 0.8235\n",
            "Epoch 1/10\n",
            "200/200 [==============================] - 2s 8ms/step - loss: 1.7380 - accuracy: 0.8946 - val_loss: 9.1034 - val_accuracy: 0.4412\n",
            "Epoch 2/10\n",
            "200/200 [==============================] - 2s 8ms/step - loss: 1.1863 - accuracy: 0.9267 - val_loss: 8.4840 - val_accuracy: 0.4706\n",
            "Epoch 3/10\n",
            "200/200 [==============================] - 2s 8ms/step - loss: 0.8176 - accuracy: 0.9497 - val_loss: 6.9383 - val_accuracy: 0.5735\n",
            "Epoch 4/10\n",
            "200/200 [==============================] - 2s 8ms/step - loss: 0.7450 - accuracy: 0.9539 - val_loss: 7.0902 - val_accuracy: 0.5588\n",
            "Epoch 5/10\n",
            "200/200 [==============================] - 2s 8ms/step - loss: 0.7161 - accuracy: 0.9556 - val_loss: 7.1560 - val_accuracy: 0.5588\n",
            "Epoch 6/10\n",
            "200/200 [==============================] - 2s 8ms/step - loss: 0.7240 - accuracy: 0.9551 - val_loss: 7.1295 - val_accuracy: 0.5588\n",
            "Epoch 7/10\n",
            "200/200 [==============================] - 2s 8ms/step - loss: 0.7150 - accuracy: 0.9558 - val_loss: 7.5035 - val_accuracy: 0.5441\n",
            "Epoch 8/10\n",
            "200/200 [==============================] - 2s 8ms/step - loss: 0.6628 - accuracy: 0.9589 - val_loss: 7.2355 - val_accuracy: 0.5588\n",
            "Epoch 9/10\n",
            "200/200 [==============================] - 2s 8ms/step - loss: 0.6513 - accuracy: 0.9596 - val_loss: 7.2871 - val_accuracy: 0.5588\n",
            "Epoch 10/10\n",
            "200/200 [==============================] - 2s 8ms/step - loss: 0.6397 - accuracy: 0.9604 - val_loss: 7.2356 - val_accuracy: 0.5588\n"
          ],
          "name": "stdout"
        },
        {
          "output_type": "stream",
          "text": [
            "/usr/local/lib/python3.6/dist-packages/ipykernel_launcher.py:77: DeprecationWarning: The default dtype for empty Series will be 'object' instead of 'float64' in a future version. Specify a dtype explicitly to silence this warning.\n",
            "/usr/local/lib/python3.6/dist-packages/ipykernel_launcher.py:78: DeprecationWarning: The default dtype for empty Series will be 'object' instead of 'float64' in a future version. Specify a dtype explicitly to silence this warning.\n"
          ],
          "name": "stderr"
        },
        {
          "output_type": "stream",
          "text": [
            "Ticker ETH\n",
            "Epoch 1/10\n",
            "200/200 [==============================] - 2s 11ms/step - loss: 5.7429 - accuracy: 0.6679 - val_loss: 12.8677 - val_accuracy: 0.3200\n",
            "Epoch 2/10\n",
            "200/200 [==============================] - 1s 7ms/step - loss: 4.6299 - accuracy: 0.7200 - val_loss: 12.8859 - val_accuracy: 0.3200\n",
            "Epoch 3/10\n",
            "200/200 [==============================] - 1s 7ms/step - loss: 4.0556 - accuracy: 0.7565 - val_loss: 12.8884 - val_accuracy: 0.3200\n",
            "Epoch 4/10\n",
            "200/200 [==============================] - 2s 8ms/step - loss: 3.9961 - accuracy: 0.7595 - val_loss: 12.8893 - val_accuracy: 0.3200\n",
            "Epoch 5/10\n",
            "200/200 [==============================] - 2s 8ms/step - loss: 5.6941 - accuracy: 0.6571 - val_loss: 12.8884 - val_accuracy: 0.3200\n",
            "Epoch 6/10\n",
            "200/200 [==============================] - 1s 7ms/step - loss: 5.8962 - accuracy: 0.6454 - val_loss: 12.8883 - val_accuracy: 0.3200\n",
            "Epoch 7/10\n",
            "200/200 [==============================] - 1s 7ms/step - loss: 3.9707 - accuracy: 0.7635 - val_loss: 12.8882 - val_accuracy: 0.3200\n",
            "Epoch 8/10\n",
            "200/200 [==============================] - 2s 8ms/step - loss: 3.9109 - accuracy: 0.7667 - val_loss: 12.8862 - val_accuracy: 0.3200\n",
            "Epoch 9/10\n",
            "200/200 [==============================] - 2s 8ms/step - loss: 3.8641 - accuracy: 0.7697 - val_loss: 12.8879 - val_accuracy: 0.3200\n",
            "Epoch 10/10\n",
            "200/200 [==============================] - 2s 8ms/step - loss: 3.8417 - accuracy: 0.7707 - val_loss: 12.8880 - val_accuracy: 0.3200\n",
            "Epoch 1/10\n",
            "200/200 [==============================] - 2s 8ms/step - loss: 3.0923 - accuracy: 0.8196 - val_loss: 9.5290 - val_accuracy: 0.4265\n",
            "Epoch 2/10\n",
            "200/200 [==============================] - 1s 7ms/step - loss: 2.1891 - accuracy: 0.8682 - val_loss: 7.5877 - val_accuracy: 0.5441\n",
            "Epoch 3/10\n",
            "200/200 [==============================] - 2s 8ms/step - loss: 2.1254 - accuracy: 0.8716 - val_loss: 9.1385 - val_accuracy: 0.4265\n",
            "Epoch 4/10\n",
            "200/200 [==============================] - 2s 8ms/step - loss: 2.1134 - accuracy: 0.8721 - val_loss: 9.8814 - val_accuracy: 0.3824\n",
            "Epoch 5/10\n",
            "200/200 [==============================] - 2s 8ms/step - loss: 2.1000 - accuracy: 0.8728 - val_loss: 10.0711 - val_accuracy: 0.3824\n",
            "Epoch 6/10\n",
            "200/200 [==============================] - 1s 7ms/step - loss: 2.1213 - accuracy: 0.8717 - val_loss: 7.5761 - val_accuracy: 0.5294\n",
            "Epoch 7/10\n",
            "200/200 [==============================] - 1s 7ms/step - loss: 2.0908 - accuracy: 0.8733 - val_loss: 7.7028 - val_accuracy: 0.5294\n",
            "Epoch 8/10\n",
            "200/200 [==============================] - 2s 8ms/step - loss: 2.0927 - accuracy: 0.8732 - val_loss: 7.8290 - val_accuracy: 0.5147\n",
            "Epoch 9/10\n",
            "200/200 [==============================] - 1s 7ms/step - loss: 2.2163 - accuracy: 0.8658 - val_loss: 7.5522 - val_accuracy: 0.5147\n",
            "Epoch 10/10\n",
            "200/200 [==============================] - 1s 7ms/step - loss: 2.1516 - accuracy: 0.8695 - val_loss: 7.9108 - val_accuracy: 0.5000\n",
            "Epoch 1/10\n",
            "200/200 [==============================] - 2s 8ms/step - loss: 3.2942 - accuracy: 0.7999 - val_loss: 15.0847 - val_accuracy: 0.1912\n",
            "Epoch 2/10\n",
            "200/200 [==============================] - 2s 8ms/step - loss: 2.7475 - accuracy: 0.8299 - val_loss: 14.2359 - val_accuracy: 0.2353\n",
            "Epoch 3/10\n",
            "200/200 [==============================] - 2s 8ms/step - loss: 2.6973 - accuracy: 0.8328 - val_loss: 13.5377 - val_accuracy: 0.2647\n",
            "Epoch 4/10\n",
            "200/200 [==============================] - 2s 8ms/step - loss: 2.6995 - accuracy: 0.8325 - val_loss: 13.0996 - val_accuracy: 0.2941\n",
            "Epoch 5/10\n",
            "200/200 [==============================] - 2s 8ms/step - loss: 2.0724 - accuracy: 0.8719 - val_loss: 12.1009 - val_accuracy: 0.3529\n",
            "Epoch 6/10\n",
            "200/200 [==============================] - 2s 8ms/step - loss: 1.6385 - accuracy: 0.8986 - val_loss: 12.0188 - val_accuracy: 0.3382\n",
            "Epoch 7/10\n",
            "200/200 [==============================] - 2s 8ms/step - loss: 1.6288 - accuracy: 0.8990 - val_loss: 12.0915 - val_accuracy: 0.3382\n",
            "Epoch 8/10\n",
            "200/200 [==============================] - 1s 7ms/step - loss: 1.6392 - accuracy: 0.8984 - val_loss: 12.2887 - val_accuracy: 0.3382\n",
            "Epoch 9/10\n",
            " 57/200 [=======>......................] - ETA: 0s - loss: 1.6086 - accuracy: 0.9003"
          ],
          "name": "stdout"
        }
      ]
    },
    {
      "cell_type": "code",
      "metadata": {
        "id": "gLxTkgMCmyo1",
        "colab_type": "code",
        "outputId": "d5d9390d-f881-44f5-caa1-328f8865742d",
        "colab": {
          "base_uri": "https://localhost:8080/",
          "height": 251
        }
      },
      "source": [
        "pred_results = []\n",
        "ytruth_results = []\n",
        "for i in range(1,len(tickers)):\n",
        "  if len(multiple_pred[i]) == 0:\n",
        "    continue\n",
        "  pred_table = pd.merge(multiple_pred[i].rename('Pred'),multiple_ytruth[i].rename('y_truth'),left_index=True,right_index=True)\n",
        "  pred_table.dropna(inplace=True)\n",
        "  pred_results.append(pred_table['Pred'].tolist())\n",
        "  ytruth_results.append(pred_table['y_truth'].tolist())"
      ],
      "execution_count": 0,
      "outputs": [
        {
          "output_type": "error",
          "ename": "IndexError",
          "evalue": "ignored",
          "traceback": [
            "\u001b[0;31m---------------------------------------------------------------------------\u001b[0m",
            "\u001b[0;31mIndexError\u001b[0m                                Traceback (most recent call last)",
            "\u001b[0;32m<ipython-input-93-46422b23c778>\u001b[0m in \u001b[0;36m<module>\u001b[0;34m()\u001b[0m\n\u001b[1;32m      2\u001b[0m \u001b[0mytruth_results\u001b[0m \u001b[0;34m=\u001b[0m \u001b[0;34m[\u001b[0m\u001b[0;34m]\u001b[0m\u001b[0;34m\u001b[0m\u001b[0;34m\u001b[0m\u001b[0m\n\u001b[1;32m      3\u001b[0m \u001b[0;32mfor\u001b[0m \u001b[0mi\u001b[0m \u001b[0;32min\u001b[0m \u001b[0mrange\u001b[0m\u001b[0;34m(\u001b[0m\u001b[0;36m1\u001b[0m\u001b[0;34m,\u001b[0m\u001b[0mlen\u001b[0m\u001b[0;34m(\u001b[0m\u001b[0mtickers\u001b[0m\u001b[0;34m)\u001b[0m\u001b[0;34m)\u001b[0m\u001b[0;34m:\u001b[0m\u001b[0;34m\u001b[0m\u001b[0;34m\u001b[0m\u001b[0m\n\u001b[0;32m----> 4\u001b[0;31m   \u001b[0;32mif\u001b[0m \u001b[0mlen\u001b[0m\u001b[0;34m(\u001b[0m\u001b[0mmultiple_pred\u001b[0m\u001b[0;34m[\u001b[0m\u001b[0mi\u001b[0m\u001b[0;34m]\u001b[0m\u001b[0;34m)\u001b[0m \u001b[0;34m==\u001b[0m \u001b[0;36m0\u001b[0m\u001b[0;34m:\u001b[0m\u001b[0;34m\u001b[0m\u001b[0;34m\u001b[0m\u001b[0m\n\u001b[0m\u001b[1;32m      5\u001b[0m     \u001b[0;32mcontinue\u001b[0m\u001b[0;34m\u001b[0m\u001b[0;34m\u001b[0m\u001b[0m\n\u001b[1;32m      6\u001b[0m   \u001b[0mpred_table\u001b[0m \u001b[0;34m=\u001b[0m \u001b[0mpd\u001b[0m\u001b[0;34m.\u001b[0m\u001b[0mmerge\u001b[0m\u001b[0;34m(\u001b[0m\u001b[0mmultiple_pred\u001b[0m\u001b[0;34m[\u001b[0m\u001b[0mi\u001b[0m\u001b[0;34m]\u001b[0m\u001b[0;34m.\u001b[0m\u001b[0mrename\u001b[0m\u001b[0;34m(\u001b[0m\u001b[0;34m'Pred'\u001b[0m\u001b[0;34m)\u001b[0m\u001b[0;34m,\u001b[0m\u001b[0mmultiple_ytruth\u001b[0m\u001b[0;34m[\u001b[0m\u001b[0mi\u001b[0m\u001b[0;34m]\u001b[0m\u001b[0;34m.\u001b[0m\u001b[0mrename\u001b[0m\u001b[0;34m(\u001b[0m\u001b[0;34m'y_truth'\u001b[0m\u001b[0;34m)\u001b[0m\u001b[0;34m,\u001b[0m\u001b[0mleft_index\u001b[0m\u001b[0;34m=\u001b[0m\u001b[0;32mTrue\u001b[0m\u001b[0;34m,\u001b[0m\u001b[0mright_index\u001b[0m\u001b[0;34m=\u001b[0m\u001b[0;32mTrue\u001b[0m\u001b[0;34m)\u001b[0m\u001b[0;34m\u001b[0m\u001b[0;34m\u001b[0m\u001b[0m\n",
            "\u001b[0;31mIndexError\u001b[0m: list index out of range"
          ]
        }
      ]
    },
    {
      "cell_type": "code",
      "metadata": {
        "id": "gCnMR8ttCvBY",
        "colab_type": "code",
        "colab": {}
      },
      "source": [
        "pred_result = [item for sublist in pred_results for item in sublist]\n",
        "ytruth_result = [item for sublist in ytruth_results for item in sublist]"
      ],
      "execution_count": 0,
      "outputs": []
    },
    {
      "cell_type": "code",
      "metadata": {
        "colab_type": "code",
        "id": "gctyvwkAC2hZ",
        "colab": {}
      },
      "source": [
        "# accuracy_matrix = confusion_matrix(pred_table['y_truth'], pred_table['Pred'])\n",
        "# accuracy_matrix\n",
        "\n",
        "# Accuracy matrix\n",
        "label_dict = {0:\"Buy\", 1:\"Sell\", 2:\"Hold\"}\n",
        "y_true_label = [label_dict[x] for x in pred_result]\n",
        "predict_valid_label = [label_dict[x] for x in ytruth_result]\n",
        "\n",
        "acc_mtx_labels = np.unique(y_true_label)\n",
        "\n",
        "accuracy_matrix = confusion_matrix(y_true_label, predict_valid_label, labels = acc_mtx_labels)\n",
        "pd.DataFrame(accuracy_matrix, index=acc_mtx_labels, columns=acc_mtx_labels)\n",
        "# accuracy_matrix"
      ],
      "execution_count": 0,
      "outputs": []
    },
    {
      "cell_type": "code",
      "metadata": {
        "colab_type": "code",
        "id": "LfynbVV7C2hd",
        "colab": {}
      },
      "source": [
        "# Accuracy for all signals\n",
        "accuracy_matrix_percentage = accuracy_matrix / accuracy_matrix.astype(np.float).sum()\n",
        "print('Total accuracy:', np.trace(accuracy_matrix_percentage)*100)"
      ],
      "execution_count": 0,
      "outputs": []
    },
    {
      "cell_type": "code",
      "metadata": {
        "colab_type": "code",
        "id": "0LResgT7C2hg",
        "colab": {}
      },
      "source": [
        "# Confusion Matrix Heatmap\n",
        "acc_df = pd.DataFrame(accuracy_matrix_percentage, index=acc_mtx_labels, columns=acc_mtx_labels)\n",
        "ax = sns.heatmap(acc_df,  \n",
        "            fmt='.2%', cmap='Blues',annot=True)\n",
        "# X - Y axis labels\n",
        "ax.set_ylabel('Truth')\n",
        "ax.set_xlabel('Model Prediction')"
      ],
      "execution_count": 0,
      "outputs": []
    }
  ]
}