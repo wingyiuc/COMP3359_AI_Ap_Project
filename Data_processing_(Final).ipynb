{
  "nbformat": 4,
  "nbformat_minor": 0,
  "metadata": {
    "colab": {
      "name": "Data processing (Final).ipynb",
      "provenance": [],
      "include_colab_link": true
    },
    "kernelspec": {
      "name": "python3",
      "display_name": "Python 3"
    }
  },
  "cells": [
    {
      "cell_type": "markdown",
      "metadata": {
        "id": "view-in-github",
        "colab_type": "text"
      },
      "source": [
        "<a href=\"https://colab.research.google.com/github/wingyiuc/COMP3359_AI_Ap_Project/blob/master/Data_processing_(Final).ipynb\" target=\"_parent\"><img src=\"https://colab.research.google.com/assets/colab-badge.svg\" alt=\"Open In Colab\"/></a>"
      ]
    },
    {
      "cell_type": "markdown",
      "metadata": {
        "id": "ByaeMTV8uXOu",
        "colab_type": "text"
      },
      "source": [
        "## 0. Getting started"
      ]
    },
    {
      "cell_type": "code",
      "metadata": {
        "id": "mPrRkk6xc9n_",
        "colab_type": "code",
        "outputId": "3ba6caed-f2b7-425e-ca5e-51b1e891625c",
        "colab": {
          "base_uri": "https://localhost:8080/",
          "height": 125
        }
      },
      "source": [
        "\"\"\" Prepare Notebook for Google Colab \"\"\"\n",
        "# Mount Google Drive\n",
        "from google.colab import drive\n",
        "drive.mount('/content/drive')\n",
        "\n",
        "# Specify directory of course materials in Google Drive\n",
        "module_dir = '/content/drive/My Drive/COMP3359 AI Applications Group Project'\n",
        "\n",
        "# Add course material directory in Google Drive to system path, for importing .py files later\n",
        "# (Ref.: https://stackoverflow.com/questions/48905127/importing-py-files-in-google-colab)\n",
        "import sys\n",
        "sys.path.append(module_dir)"
      ],
      "execution_count": 1,
      "outputs": [
        {
          "output_type": "stream",
          "text": [
            "Go to this URL in a browser: https://accounts.google.com/o/oauth2/auth?client_id=947318989803-6bn6qk8qdgf4n4g3pfee6491hc0brc4i.apps.googleusercontent.com&redirect_uri=urn%3aietf%3awg%3aoauth%3a2.0%3aoob&response_type=code&scope=email%20https%3a%2f%2fwww.googleapis.com%2fauth%2fdocs.test%20https%3a%2f%2fwww.googleapis.com%2fauth%2fdrive%20https%3a%2f%2fwww.googleapis.com%2fauth%2fdrive.photos.readonly%20https%3a%2f%2fwww.googleapis.com%2fauth%2fpeopleapi.readonly\n",
            "\n",
            "Enter your authorization code:\n",
            "··········\n",
            "Mounted at /content/drive\n"
          ],
          "name": "stdout"
        }
      ]
    },
    {
      "cell_type": "code",
      "metadata": {
        "id": "LisALd5vdNDY",
        "colab_type": "code",
        "outputId": "e3cb2004-0e33-454c-be09-d16c64132c9b",
        "colab": {
          "base_uri": "https://localhost:8080/",
          "height": 285
        }
      },
      "source": [
        "# !pip install fastparquet\n",
        "!pip install ta"
      ],
      "execution_count": 2,
      "outputs": [
        {
          "output_type": "stream",
          "text": [
            "Collecting ta\n",
            "  Downloading https://files.pythonhosted.org/packages/58/90/52f8de4a0da0fd97f2b302b42675793ecd549e6629bef465e1b175e8d1bd/ta-0.5.22.tar.gz\n",
            "Requirement already satisfied: numpy in /usr/local/lib/python3.6/dist-packages (from ta) (1.18.3)\n",
            "Requirement already satisfied: pandas in /usr/local/lib/python3.6/dist-packages (from ta) (1.0.3)\n",
            "Requirement already satisfied: python-dateutil>=2.6.1 in /usr/local/lib/python3.6/dist-packages (from pandas->ta) (2.8.1)\n",
            "Requirement already satisfied: pytz>=2017.2 in /usr/local/lib/python3.6/dist-packages (from pandas->ta) (2018.9)\n",
            "Requirement already satisfied: six>=1.5 in /usr/local/lib/python3.6/dist-packages (from python-dateutil>=2.6.1->pandas->ta) (1.12.0)\n",
            "Building wheels for collected packages: ta\n",
            "  Building wheel for ta (setup.py) ... \u001b[?25l\u001b[?25hdone\n",
            "  Created wheel for ta: filename=ta-0.5.22-cp36-none-any.whl size=24340 sha256=57862797db3fb5e7bb65063e7f287b21c2461735e7a628378bf3a657259eaea1\n",
            "  Stored in directory: /root/.cache/pip/wheels/87/0c/4d/646b17c066f52a8f6923b17ef23839a19584ee2b4d55238465\n",
            "Successfully built ta\n",
            "Installing collected packages: ta\n",
            "Successfully installed ta-0.5.22\n"
          ],
          "name": "stdout"
        }
      ]
    },
    {
      "cell_type": "code",
      "metadata": {
        "id": "5LFe42xhdgoC",
        "colab_type": "code",
        "outputId": "9f427030-a018-45d1-d0d6-76f9f178794d",
        "colab": {
          "base_uri": "https://localhost:8080/",
          "height": 72
        }
      },
      "source": [
        "import os\n",
        "import pandas as pd\n",
        "import numpy as np\n",
        "import datetime as dt\n",
        "import glob\n",
        "import requests\n",
        "import matplotlib\n",
        "import math\n",
        "import ta\n",
        "import tensorflow as tf\n",
        "import matplotlib.pyplot as plt\n",
        "from sklearn.metrics import confusion_matrix\n",
        "import seaborn as sns"
      ],
      "execution_count": 3,
      "outputs": [
        {
          "output_type": "stream",
          "text": [
            "/usr/local/lib/python3.6/dist-packages/statsmodels/tools/_testing.py:19: FutureWarning: pandas.util.testing is deprecated. Use the functions in the public API at pandas.testing instead.\n",
            "  import pandas.util.testing as tm\n"
          ],
          "name": "stderr"
        }
      ]
    },
    {
      "cell_type": "code",
      "metadata": {
        "id": "i0ldqj7sdjHD",
        "colab_type": "code",
        "outputId": "40e6e2b4-0743-4b4b-9976-10bdfa7e8c60",
        "colab": {
          "base_uri": "https://localhost:8080/",
          "height": 283
        }
      },
      "source": [
        "raw_data_dir = os.path.join(module_dir, \"Cryptocurrency data/Raw data/\")\n",
        "processed_data_dir = os.path.join(module_dir, \"Cryptocurrency data/Processed data/\")\n",
        "# raw_data_dir = os.path.join(module_dir, \"Downloaded data/Daily data/Raw data/\")\n",
        "# processed_data_dir = os.path.join(module_dir, \"Downloaded data/Daily data/Processed data/\")\n",
        "os.listdir(raw_data_dir)"
      ],
      "execution_count": 4,
      "outputs": [
        {
          "output_type": "execute_result",
          "data": {
            "text/plain": [
              "['BTC_price.csv',\n",
              " 'ETH_price.csv',\n",
              " 'DOGE_price.csv',\n",
              " 'USDT_price.csv',\n",
              " 'DASH_price.csv',\n",
              " 'LTC_price.csv',\n",
              " 'NMC_price.csv',\n",
              " 'PPC_price.csv',\n",
              " 'NVC_price.csv',\n",
              " 'TRC_price.csv',\n",
              " 'FRC_price.csv',\n",
              " 'FTC_price.csv',\n",
              " 'IXC_price.csv',\n",
              " 'WDC_price.csv',\n",
              " 'BTB_price.csv']"
            ]
          },
          "metadata": {
            "tags": []
          },
          "execution_count": 4
        }
      ]
    },
    {
      "cell_type": "markdown",
      "metadata": {
        "id": "LxDYYd894YzH",
        "colab_type": "text"
      },
      "source": [
        "## 1. Feature Engineering"
      ]
    },
    {
      "cell_type": "code",
      "metadata": {
        "id": "3KQ9OM4Ddm2Y",
        "colab_type": "code",
        "colab": {}
      },
      "source": [
        "def FeatureEngineering(df, num_holding_days = 1):\n",
        "  df['time'] = pd.to_datetime(df['time'])\n",
        "  df = df.set_index('time')\n",
        "  df = df[~df.index.duplicated()]\n",
        "  df['ret_holding'] = (df['close'] / df['close'].shift(num_holding_days) - 1).shift(-num_holding_days)\n",
        "  # df['15SMA'] = ta.trend.ema_indicator(df['close'],n=15)\n",
        "  df['15SMA'] = ta.trend.sma_indicator(df['close'],n=15)\n",
        "  df['SMA_ret_holding1'] = (df['15SMA'] / df['15SMA'].shift(1) - 1).shift(-1)\n",
        "  # df['SMA_ret_holding1'] = (df['15SMA'] / df['close'])-1\n",
        "\n",
        "\n",
        "  df['buy_signal'] = df['SMA_ret_holding1'].apply(lambda x: 1 if x > 0.005 else 0)\n",
        "  df['sell_signal'] = df['SMA_ret_holding1'].apply(lambda x: 1 if -x > 0.005 else 0)\n",
        "  df['hold_signal'] = np.where(df['buy_signal']==0,np.where(df[\"sell_signal\"]==0,1,0),0)\n",
        "\n",
        "\n",
        "  # df.drop(columns='ret_holding',inplace=True)\n",
        "  df['close_ret'] = (df['close'] / df['close'].shift(num_holding_days) - 1)\n",
        "  df['12EMA'] = ta.trend.ema_indicator(df['close'], 12)\n",
        "  df['50EMA'] = ta.trend.ema_indicator(df['close'], 50)\n",
        "  df['100EMA'] = ta.trend.ema_indicator(df['close'], 100)\n",
        "  df['minusDI'] = ta.trend.ADXIndicator(df['high'], df['low'], df['close'],12).adx_neg()\n",
        "  df['plusDI'] = ta.trend.ADXIndicator(df['high'], df['low'], df['close'],12).adx_pos()\n",
        "  df['MACD'] = ta.trend.MACD(df['close']).macd_diff()\n",
        "  # df['MACDsignal'] = ta.trend.MACD(df['close']).macd_signal()\n",
        "  df['RSI'] = ta.momentum.RSIIndicator(df['close']).rsi()\n",
        "  df['StoOsci'] = ta.momentum.StochasticOscillator(df['close'], df['high'], df['low']).stoch()\n",
        "  df['StoOsci_signal'] = ta.momentum.StochasticOscillator(df['close'], df['high'], df['low']).stoch_signal()\n",
        "  df['BB_hband'] = ta.volatility.BollingerBands(df['close'],n=14).bollinger_hband()\n",
        "  df['BB_lband'] = ta.volatility.BollingerBands(df['close'],n=14).bollinger_lband()\n",
        "  df['ATR'] = ta.volatility.AverageTrueRange(df['high'],df['low'],df['close']).average_true_range()\n",
        "  df['ADI'] = ta.volume.AccDistIndexIndicator(df['high'],df['low'],df['close'],df['volumeto']).acc_dist_index()\n",
        "  df['MFI'] = ta.volume.MFIIndicator(df['high'],df['low'],df['close'],df['volumeto']).money_flow_index()\n",
        "  df = df.dropna()\n",
        "  return df"
      ],
      "execution_count": 0,
      "outputs": []
    },
    {
      "cell_type": "code",
      "metadata": {
        "id": "HOCAIEPzd1gF",
        "colab_type": "code",
        "outputId": "deae064f-af2e-46a6-b1a8-e18d4809220a",
        "colab": {
          "base_uri": "https://localhost:8080/",
          "height": 331
        }
      },
      "source": [
        "ticker = 'BTC'\n",
        "data_dir = glob.glob(raw_data_dir+ticker+\"_price.csv\")[0]\n",
        "df = pd.read_csv(data_dir)\n",
        "num_holding_days = 1\n",
        "y = ['buy_signal', \"sell_signal\", \"hold_signal\"]\n",
        "\n",
        "# Feature Engineering\n",
        "df = FeatureEngineering(df, num_holding_days)\n",
        "df.head()"
      ],
      "execution_count": 6,
      "outputs": [
        {
          "output_type": "execute_result",
          "data": {
            "text/html": [
              "<div>\n",
              "<style scoped>\n",
              "    .dataframe tbody tr th:only-of-type {\n",
              "        vertical-align: middle;\n",
              "    }\n",
              "\n",
              "    .dataframe tbody tr th {\n",
              "        vertical-align: top;\n",
              "    }\n",
              "\n",
              "    .dataframe thead th {\n",
              "        text-align: right;\n",
              "    }\n",
              "</style>\n",
              "<table border=\"1\" class=\"dataframe\">\n",
              "  <thead>\n",
              "    <tr style=\"text-align: right;\">\n",
              "      <th></th>\n",
              "      <th>close</th>\n",
              "      <th>high</th>\n",
              "      <th>low</th>\n",
              "      <th>open</th>\n",
              "      <th>volumefrom</th>\n",
              "      <th>volumeto</th>\n",
              "      <th>ret_holding</th>\n",
              "      <th>15SMA</th>\n",
              "      <th>SMA_ret_holding1</th>\n",
              "      <th>buy_signal</th>\n",
              "      <th>sell_signal</th>\n",
              "      <th>hold_signal</th>\n",
              "      <th>close_ret</th>\n",
              "      <th>12EMA</th>\n",
              "      <th>50EMA</th>\n",
              "      <th>100EMA</th>\n",
              "      <th>minusDI</th>\n",
              "      <th>plusDI</th>\n",
              "      <th>MACD</th>\n",
              "      <th>RSI</th>\n",
              "      <th>StoOsci</th>\n",
              "      <th>StoOsci_signal</th>\n",
              "      <th>BB_hband</th>\n",
              "      <th>BB_lband</th>\n",
              "      <th>ATR</th>\n",
              "      <th>ADI</th>\n",
              "      <th>MFI</th>\n",
              "    </tr>\n",
              "    <tr>\n",
              "      <th>time</th>\n",
              "      <th></th>\n",
              "      <th></th>\n",
              "      <th></th>\n",
              "      <th></th>\n",
              "      <th></th>\n",
              "      <th></th>\n",
              "      <th></th>\n",
              "      <th></th>\n",
              "      <th></th>\n",
              "      <th></th>\n",
              "      <th></th>\n",
              "      <th></th>\n",
              "      <th></th>\n",
              "      <th></th>\n",
              "      <th></th>\n",
              "      <th></th>\n",
              "      <th></th>\n",
              "      <th></th>\n",
              "      <th></th>\n",
              "      <th></th>\n",
              "      <th></th>\n",
              "      <th></th>\n",
              "      <th></th>\n",
              "      <th></th>\n",
              "      <th></th>\n",
              "      <th></th>\n",
              "      <th></th>\n",
              "    </tr>\n",
              "  </thead>\n",
              "  <tbody>\n",
              "    <tr>\n",
              "      <th>2013-04-11</th>\n",
              "      <td>124.90</td>\n",
              "      <td>188.7</td>\n",
              "      <td>110.20</td>\n",
              "      <td>165.0</td>\n",
              "      <td>118747.72</td>\n",
              "      <td>18867223.23</td>\n",
              "      <td>-0.063251</td>\n",
              "      <td>133.710000</td>\n",
              "      <td>0.015367</td>\n",
              "      <td>1</td>\n",
              "      <td>0</td>\n",
              "      <td>0</td>\n",
              "      <td>-0.243030</td>\n",
              "      <td>145.284333</td>\n",
              "      <td>87.712684</td>\n",
              "      <td>60.798513</td>\n",
              "      <td>19.204489</td>\n",
              "      <td>28.229613</td>\n",
              "      <td>2.618666</td>\n",
              "      <td>52.534220</td>\n",
              "      <td>12.516431</td>\n",
              "      <td>30.091575</td>\n",
              "      <td>213.472003</td>\n",
              "      <td>60.737997</td>\n",
              "      <td>30.593601</td>\n",
              "      <td>1.095791e+08</td>\n",
              "      <td>62.609170</td>\n",
              "    </tr>\n",
              "    <tr>\n",
              "      <th>2013-04-12</th>\n",
              "      <td>117.00</td>\n",
              "      <td>140.0</td>\n",
              "      <td>54.25</td>\n",
              "      <td>124.9</td>\n",
              "      <td>556468.03</td>\n",
              "      <td>47619189.45</td>\n",
              "      <td>-0.205128</td>\n",
              "      <td>135.764667</td>\n",
              "      <td>0.001228</td>\n",
              "      <td>0</td>\n",
              "      <td>0</td>\n",
              "      <td>1</td>\n",
              "      <td>-0.063251</td>\n",
              "      <td>140.932898</td>\n",
              "      <td>88.861206</td>\n",
              "      <td>61.911414</td>\n",
              "      <td>27.806557</td>\n",
              "      <td>22.955601</td>\n",
              "      <td>-1.440933</td>\n",
              "      <td>50.594625</td>\n",
              "      <td>-29.038179</td>\n",
              "      <td>-2.600867</td>\n",
              "      <td>211.884738</td>\n",
              "      <td>66.110976</td>\n",
              "      <td>34.533343</td>\n",
              "      <td>1.316533e+08</td>\n",
              "      <td>52.254324</td>\n",
              "    </tr>\n",
              "    <tr>\n",
              "      <th>2013-04-13</th>\n",
              "      <td>93.00</td>\n",
              "      <td>130.0</td>\n",
              "      <td>85.50</td>\n",
              "      <td>117.0</td>\n",
              "      <td>238347.58</td>\n",
              "      <td>26277415.26</td>\n",
              "      <td>-0.032258</td>\n",
              "      <td>135.931333</td>\n",
              "      <td>-0.001074</td>\n",
              "      <td>0</td>\n",
              "      <td>0</td>\n",
              "      <td>1</td>\n",
              "      <td>-0.205128</td>\n",
              "      <td>133.558606</td>\n",
              "      <td>89.023512</td>\n",
              "      <td>62.527030</td>\n",
              "      <td>25.146848</td>\n",
              "      <td>20.759888</td>\n",
              "      <td>-5.680621</td>\n",
              "      <td>45.141858</td>\n",
              "      <td>-6.093979</td>\n",
              "      <td>-7.538576</td>\n",
              "      <td>211.795017</td>\n",
              "      <td>66.316412</td>\n",
              "      <td>35.245247</td>\n",
              "      <td>1.142335e+08</td>\n",
              "      <td>47.746081</td>\n",
              "    </tr>\n",
              "    <tr>\n",
              "      <th>2013-04-14</th>\n",
              "      <td>90.00</td>\n",
              "      <td>110.0</td>\n",
              "      <td>84.44</td>\n",
              "      <td>93.0</td>\n",
              "      <td>166274.96</td>\n",
              "      <td>16197017.56</td>\n",
              "      <td>-0.084556</td>\n",
              "      <td>135.785333</td>\n",
              "      <td>-0.005224</td>\n",
              "      <td>0</td>\n",
              "      <td>1</td>\n",
              "      <td>0</td>\n",
              "      <td>-0.032258</td>\n",
              "      <td>126.857282</td>\n",
              "      <td>89.061805</td>\n",
              "      <td>63.071049</td>\n",
              "      <td>23.959408</td>\n",
              "      <td>19.586011</td>\n",
              "      <td>-8.457816</td>\n",
              "      <td>44.496306</td>\n",
              "      <td>-17.387097</td>\n",
              "      <td>-17.506418</td>\n",
              "      <td>212.140937</td>\n",
              "      <td>65.537634</td>\n",
              "      <td>34.553444</td>\n",
              "      <td>1.050830e+08</td>\n",
              "      <td>45.445031</td>\n",
              "    </tr>\n",
              "    <tr>\n",
              "      <th>2013-04-15</th>\n",
              "      <td>82.39</td>\n",
              "      <td>102.0</td>\n",
              "      <td>71.51</td>\n",
              "      <td>90.0</td>\n",
              "      <td>236673.01</td>\n",
              "      <td>20607774.11</td>\n",
              "      <td>-0.170288</td>\n",
              "      <td>135.076000</td>\n",
              "      <td>-0.017590</td>\n",
              "      <td>0</td>\n",
              "      <td>1</td>\n",
              "      <td>0</td>\n",
              "      <td>-0.084556</td>\n",
              "      <td>120.016161</td>\n",
              "      <td>88.800166</td>\n",
              "      <td>63.453602</td>\n",
              "      <td>25.223837</td>\n",
              "      <td>18.243578</td>\n",
              "      <td>-10.447686</td>\n",
              "      <td>42.823364</td>\n",
              "      <td>-23.820312</td>\n",
              "      <td>-15.767130</td>\n",
              "      <td>214.284307</td>\n",
              "      <td>60.307122</td>\n",
              "      <td>34.263198</td>\n",
              "      <td>9.918256e+07</td>\n",
              "      <td>41.923978</td>\n",
              "    </tr>\n",
              "  </tbody>\n",
              "</table>\n",
              "</div>"
            ],
            "text/plain": [
              "             close   high     low  ...        ATR           ADI        MFI\n",
              "time                               ...                                    \n",
              "2013-04-11  124.90  188.7  110.20  ...  30.593601  1.095791e+08  62.609170\n",
              "2013-04-12  117.00  140.0   54.25  ...  34.533343  1.316533e+08  52.254324\n",
              "2013-04-13   93.00  130.0   85.50  ...  35.245247  1.142335e+08  47.746081\n",
              "2013-04-14   90.00  110.0   84.44  ...  34.553444  1.050830e+08  45.445031\n",
              "2013-04-15   82.39  102.0   71.51  ...  34.263198  9.918256e+07  41.923978\n",
              "\n",
              "[5 rows x 27 columns]"
            ]
          },
          "metadata": {
            "tags": []
          },
          "execution_count": 6
        }
      ]
    },
    {
      "cell_type": "markdown",
      "metadata": {
        "id": "gnJwc4J-4i40",
        "colab_type": "text"
      },
      "source": [
        "Inspecting the data"
      ]
    },
    {
      "cell_type": "code",
      "metadata": {
        "id": "HSUhO8AZyxdv",
        "colab_type": "code",
        "outputId": "7b96f82d-54fd-48f3-a0bd-adc84c04032a",
        "colab": {
          "base_uri": "https://localhost:8080/",
          "height": 70
        }
      },
      "source": [
        "print('number of buy signals',df['buy_signal'].sum())\n",
        "print('number of sell signals',df['sell_signal'].sum())\n",
        "print('number of hold signals',df['hold_signal'].sum())"
      ],
      "execution_count": 7,
      "outputs": [
        {
          "output_type": "stream",
          "text": [
            "number of buy signals 826\n",
            "number of sell signals 641\n",
            "number of hold signals 1075\n"
          ],
          "name": "stdout"
        }
      ]
    },
    {
      "cell_type": "markdown",
      "metadata": {
        "id": "_nQfkf0Kd7LF",
        "colab_type": "text"
      },
      "source": [
        "## 2. Preprocess all tickers"
      ]
    },
    {
      "cell_type": "code",
      "metadata": {
        "id": "Sw8-kzyxd22W",
        "colab_type": "code",
        "outputId": "af525829-43df-4b4d-f433-8a82f9cc0a89",
        "colab": {
          "base_uri": "https://localhost:8080/",
          "height": 105
        }
      },
      "source": [
        "num_holding_days = 1\n",
        "tickers = ['BTC', 'ETH', 'DOGE', 'USDT', 'DASH', \"LTC\", \"NMC\", \"PPC\", \"NVC\", \"TRC\", \"FRC\", \"FTC\", \"IXC\", \"WDC\", \"BTB\"]\n",
        "for ticker in tickers:\n",
        "  price_dir = glob.glob(raw_data_dir+ticker+\"_price.csv\")\n",
        "  if len(price_dir)==0:\n",
        "    print(ticker,' not found')\n",
        "    continue\n",
        "  else:\n",
        "    price_dir = price_dir[0]\n",
        "  df = pd.read_csv(price_dir)\n",
        "  df = FeatureEngineering(df, num_holding_days)\n",
        "  df.to_csv(processed_data_dir+ticker+'_processed.csv')"
      ],
      "execution_count": 0,
      "outputs": [
        {
          "output_type": "stream",
          "text": [
            "/usr/local/lib/python3.6/dist-packages/ta/trend.py:608: RuntimeWarning: invalid value encountered in double_scalars\n",
            "  din[i+self._n] = 100 * (self._din[i]/self._trs[i])\n",
            "/usr/local/lib/python3.6/dist-packages/ta/trend.py:595: RuntimeWarning: invalid value encountered in double_scalars\n",
            "  dip[i+self._n] = 100 * (self._dip[i]/self._trs[i])\n"
          ],
          "name": "stderr"
        }
      ]
    },
    {
      "cell_type": "code",
      "metadata": {
        "id": "aEEcLr6jQF9N",
        "colab_type": "code",
        "colab": {}
      },
      "source": [
        ""
      ],
      "execution_count": 0,
      "outputs": []
    }
  ]
}